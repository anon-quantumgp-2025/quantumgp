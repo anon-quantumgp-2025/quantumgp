{
  "cells": [
    {
      "cell_type": "markdown",
      "metadata": {
        "id": "k_Ch3AEZr_HP"
      },
      "source": [
        "# Helper Function"
      ]
    },
    {
      "cell_type": "code",
      "execution_count": null,
      "metadata": {
        "id": "ff_B0fAhKrND"
      },
      "outputs": [],
      "source": [
        "\"\"\"\n",
        "This module contains all the functions that define the kernels\n",
        "\"\"\"\n",
        "import numpy as np\n",
        "import matplotlib.pyplot as plt\n",
        "import torch\n",
        "\n",
        "\n",
        "def full_kernel_classic(x, y):\n",
        "    \"\"\"\n",
        "    Classical evaluation of the full kernel\n",
        "    :param x: arg 1\n",
        "    :param y: arg 2\n",
        "    :return:\n",
        "    \"\"\"\n",
        "    k = 1\n",
        "    for i in range(len(x)):\n",
        "        k = k * np.cos(1/2*(x[i]-y[i]))**2\n",
        "    return k\n",
        "\n",
        "\n",
        "def kernel_matrix_classic(X, Y):\n",
        "    \"\"\"\n",
        "    compute the kenel matrix of the full kernel\n",
        "    :param X: vector of samples\n",
        "    :param Y: vector of samples\n",
        "    :return:\n",
        "    \"\"\"\n",
        "    K = np.zeros((len(X), len(Y)))\n",
        "    for i in range(len(X)):\n",
        "        for j in range(len(Y)):\n",
        "            K[i, j] = full_kernel_classic(X[i], Y[j])\n",
        "    return K\n",
        "\n",
        "\n",
        "def kernel_matrix_classic_torch(X, Y):\n",
        "    \"\"\"\n",
        "    compute the kenel matrix of the full kernel potentially utilizing some parallel processing\n",
        "    :param X: vector of samples\n",
        "    :param Y: vector of samples\n",
        "    :return:\n",
        "    \"\"\"\n",
        "    if type(X) is np.ndarray:\n",
        "        X = torch.from_numpy(X)\n",
        "    if type(Y) is np.ndarray:\n",
        "        Y = torch.from_numpy(Y)\n",
        "    # create tensor with entry i x j x k equal to x_ik - y_jk\n",
        "    X = X.unsqueeze(1).expand(-1, Y.size(0), -1)\n",
        "    Y = Y.unsqueeze(0).expand(X.size(0), -1, -1)\n",
        "    K = X - Y\n",
        "    K = torch.cos(K / 2) ** 2\n",
        "    K = torch.prod(K, 2)\n",
        "    return K\n",
        "\n"
      ]
    },
    {
      "cell_type": "code",
      "execution_count": null,
      "metadata": {
        "id": "5ULe1zRLh8-I"
      },
      "outputs": [],
      "source": [
        "import numpy as np\n",
        "\n",
        "class GaussianProcessRegressor:\n",
        "    \"\"\"\n",
        "    Gaussian Process Regressor for d-dimensional inputs.\n",
        "    Returns both predictive mean and std if requested.\n",
        "    \"\"\"\n",
        "    def __init__(self, kernel, alpha=1e-5):\n",
        "        self.kernel = kernel\n",
        "        self.alpha = alpha\n",
        "        self.X_train = None\n",
        "        self.y_train = None\n",
        "        self.K_inv = None\n",
        "\n",
        "    def fit(self, X, y):\n",
        "        X = np.array(X)\n",
        "        y = np.array(y)\n",
        "        self.X_train = X\n",
        "        self.y_train = y\n",
        "        K = self.kernel(X, X)\n",
        "        K += self.alpha * np.eye(len(X))\n",
        "        self.K_inv = np.linalg.inv(K)\n",
        "\n",
        "    def predict(self, X_test, return_std=False):\n",
        "\n",
        "        X_test = np.array(X_test)\n",
        "        K_star = self.kernel(X_test, self.X_train)\n",
        "        y_mean = K_star @ (self.K_inv @ self.y_train)\n",
        "\n",
        "        if return_std:\n",
        "            K_star_star = self.kernel(X_test, X_test)\n",
        "            cov = K_star_star - K_star @ self.K_inv @ K_star.T\n",
        "            var = np.diag(cov)\n",
        "            var = np.maximum(var, 0.0)\n",
        "            y_std = np.sqrt(var)\n",
        "            return y_mean, y_std\n",
        "        else:\n",
        "            return y_mean\n"
      ]
    },
    {
      "cell_type": "code",
      "execution_count": null,
      "metadata": {
        "id": "6EkvzaE6bmOU"
      },
      "outputs": [],
      "source": [
        "from itertools import product\n",
        "\n",
        "# def build_grid(bounds, n_grid):\n",
        "#     \"\"\"\n",
        "#     Build a uniform grid of points within the given 'bounds'.\n",
        "\n",
        "#     Parameters\n",
        "#     ----------\n",
        "#     bounds : list of (low, high) for each dimension (length d)\n",
        "#     n_grid : int\n",
        "#         Number of grid points per dimension.\n",
        "\n",
        "#     Returns\n",
        "#     -------\n",
        "#     X_grid : np.ndarray of shape (n_grid^d, d)\n",
        "#         All points in the grid.\n",
        "#     \"\"\"\n",
        "#     # For each dimension, create an array of n_grid points from low to high\n",
        "#     axes = [np.linspace(low, high, n_grid) for (low, high) in bounds]\n",
        "#     # Cartesian product of all axes\n",
        "#     # e.g. for d=2, we get all pairs (x,y); for d=3, all (x,y,z), etc.\n",
        "#     mesh = list(product(*axes))  # a list of d-tuples\n",
        "#     return np.array(mesh)\n",
        "\n",
        "def build_grid(bounds, n_grid, random_state=None):\n",
        "    \"\"\"\n",
        "    Draw n_grid^d random points uniformly from the given 'bounds'.\n",
        "\n",
        "    Parameters\n",
        "    ----------\n",
        "    bounds : list of (low, high) for each dimension (length d)\n",
        "        Defines a d-dimensional box in which to sample points.\n",
        "    n_grid : int\n",
        "        We will create exactly n_grid^d random points in total.\n",
        "    random_state : int or None\n",
        "        Optional seed for reproducibility.\n",
        "\n",
        "    Returns\n",
        "    -------\n",
        "    X_rand : np.ndarray of shape (n_grid^d, d)\n",
        "        The random points in the domain.\n",
        "    \"\"\"\n",
        "    np.random.seed(None)\n",
        "\n",
        "    d = len(bounds)\n",
        "    n_points = n_grid ** d  # total number of random points\n",
        "    X_rand = np.zeros((n_points, d))\n",
        "\n",
        "    for i in range(n_points):\n",
        "        for j in range(d):\n",
        "            low, high = bounds[j]\n",
        "            X_rand[i, j] = np.random.uniform(low, high)\n",
        "\n",
        "    return X_rand\n"
      ]
    },
    {
      "cell_type": "code",
      "execution_count": null,
      "metadata": {
        "colab": {
          "background_save": true
        },
        "id": "zUirsK3YG8nr"
      },
      "outputs": [],
      "source": [
        "import numpy as np\n",
        "import matplotlib.pyplot as plt\n",
        "from itertools import product\n",
        "from scipy.stats import norm\n",
        "\n",
        "\n",
        "\n",
        "def gp_ucb_nd(\n",
        "    f,                 # black-box reward function, shape: (n, d) -> (n,)\n",
        "    gp,                # a GaussianProcessRegressor instance (fit, predict)\n",
        "    bounds,            # list of (low, high) for each dimension\n",
        "    n_iter=10,         # number of UCB iterations\n",
        "    init_points=3,     # number of initial random samples\n",
        "    n_grid=50,         # number of grid points per dimension to search for UCB max\n",
        "    beta_func=None,    # a callable or None => we define a default\n",
        "    random_state=None,\n",
        "    error = 1,\n",
        "    verbose=False\n",
        "):\n",
        "    \"\"\"\n",
        "    Runs GP-UCB for a multi-armed bandit / Bayesian optimization problem.\n",
        "\n",
        "    Parameters\n",
        "    ----------\n",
        "    f : callable\n",
        "        The unknown reward function (black-box).\n",
        "        Input shape (n, d) -> (n,) for n points in dimension d.\n",
        "    gp : GaussianProcessRegressor\n",
        "        Surrogate GP model implementing:\n",
        "          - gp.fit(X, y)\n",
        "          - gp.predict(X, return_std=True) -> (mean, std)\n",
        "    bounds : list of (low, high)\n",
        "        Domain bounding box in d dimensions.\n",
        "    n_iter : int\n",
        "        Number of GP-UCB rounds.\n",
        "    init_points : int\n",
        "        How many random points to sample initially.\n",
        "    n_grid : int\n",
        "        Grid resolution for selecting x_t = argmax_x [mu_{t-1}(x) + sqrt(beta_t)*sigma_{t-1}(x)].\n",
        "    beta_func : callable or None\n",
        "        If None, we define a simple default that grows with t.  Otherwise,\n",
        "        something like:  beta_func(t) -> float\n",
        "    random_state : int or None\n",
        "        For reproducibility.\n",
        "    verbose : bool\n",
        "        Print iteration details if True.\n",
        "\n",
        "    Returns\n",
        "    -------\n",
        "    regrets : ndarray of shape (n_iter + init_points,)\n",
        "        Cumulative regret at each iteration (the sum over t=1..T of [f(x*) - f(x_t)]).\n",
        "    X_samples : ndarray of shape (n_iter + init_points, d)\n",
        "    Y_samples : ndarray of shape (n_iter + init_points,)\n",
        "\n",
        "    Notes\n",
        "    -----\n",
        "    - We assume we can approximate the global max f(x*) by a dense grid search\n",
        "      once, for regret calculation.  In a real bandit scenario, you might not\n",
        "      know x*, but for synthetic tests or known benchmark functions, we do.\n",
        "    - The domain is searched by a grid of size (n_grid^d).  This is only feasible\n",
        "      for small d or moderate n_grid.\n",
        "    \"\"\"\n",
        "\n",
        "    if random_state is not None:\n",
        "        np.random.seed(random_state)\n",
        "\n",
        "    d = len(bounds)\n",
        "\n",
        "    # 1) Create a dense grid to:\n",
        "    #    - approximate x* (the global maximizer)\n",
        "    #    - search for the UCB argmax each iteration\n",
        "    X_grid = build_grid(bounds, n_grid=n_grid)  # shape (n_grid^d, d)\n",
        "\n",
        "    # 2) (Optional) approximate the global maximum for regret calculation\n",
        "    #    We take the best among the same grid points to get x_star\n",
        "    Y_grid = f(X_grid)\n",
        "    idx_best = np.argmax(Y_grid)\n",
        "    x_star = X_grid[idx_best]\n",
        "    f_star = Y_grid[idx_best]  # approximate global max value\n",
        "\n",
        "    # 3) Helper to define a default beta_t if user didn't supply one\n",
        "    if beta_func is None:\n",
        "        # E.g. a common choice for finite domain or small bounding\n",
        "        # can be something like: 2 ln(t^2 * pi^2 / (6 delta))\n",
        "        # but we just do a simpler scaling of log t for demonstration.\n",
        "        def beta_func(t):\n",
        "            return 2.0 * np.log(1000 * t**2 * 10 / 6 / 0.1 )   # delta = 0.1\n",
        "    # else user supplies something like beta_func(t) => some formula\n",
        "\n",
        "    # 4) Initialize data by sampling 'init_points' random points\n",
        "    def sample_random(n):\n",
        "        return np.array([\n",
        "            [np.random.uniform(low, high) for (low, high) in bounds]\n",
        "            for _ in range(n)\n",
        "        ])\n",
        "\n",
        "    X_samples = sample_random(init_points)  # shape (init_points, d)\n",
        "    Y_samples = f(X_samples)               # shape (init_points,)\n",
        "\n",
        "    # 5) We'll keep track of cumulative regrets\n",
        "    regrets = np.zeros(n_iter + init_points)\n",
        "    # First 'init_points' regrets are computed from those random picks\n",
        "    # Evaluate the regret at each step\n",
        "    cum_regret = 0.0\n",
        "    for i in range(init_points):\n",
        "        cum_regret += (f_star - Y_samples[i])\n",
        "        regrets[i] = cum_regret\n",
        "\n",
        "    # 6) Main loop of GP-UCB\n",
        "    log_sum_for_beta = 0\n",
        "    for step in range(n_iter):\n",
        "\n",
        "        X_grid = build_grid(bounds, n_grid=n_grid)\n",
        "\n",
        "        t = init_points + step + 1  # total iteration index (1-based)\n",
        "\n",
        "        # Fit GP on current data\n",
        "        gp.fit(X_samples, Y_samples)\n",
        "\n",
        "        # Compute mean & std on the entire grid\n",
        "        mu_grid, std_grid = gp.predict(X_grid, return_std=True)\n",
        "\n",
        "        # Define current beta_t\n",
        "        beta_t = 0.1 * (2*np.log(20)+log_sum_for_beta) ** 0.5 + 3\n",
        "\n",
        "        #beta_func(t)\n",
        "\n",
        "        # UCB = mu + sqrt(beta_t) * std\n",
        "        ucb_values = mu_grid + (beta_t + error * np.sqrt(t) ) * std_grid\n",
        "\n",
        "        # if step % 10 == 0:\n",
        "        #   print(step)\n",
        "        #   print(mu_grid[:10], std_grid[:10])\n",
        "        #   print(ucb_values[:10])\n",
        "        #   #print(np.max(ucb_values))\n",
        "        #   print(\"==========\")\n",
        "\n",
        "        # Argmax on the grid\n",
        "        idx_next = np.argmax(ucb_values)\n",
        "        x_next = X_grid[idx_next].reshape(1, -1)\n",
        "\n",
        "        log_sum_for_beta += np.log(1 + std_grid[idx_next])\n",
        "\n",
        "        #print(beta_t + error * np.sqrt(t) )\n",
        "        #print(std_grid[idx_next])\n",
        "\n",
        "        # Evaluate the unknown function f (bandit feedback)\n",
        "        np.random.seed(None)\n",
        "        noise = np.random.normal(0, 0.1)\n",
        "        y_true = f(x_next)\n",
        "        y_next = y_true + noise\n",
        "        #print(noise)\n",
        "\n",
        "        # Update data\n",
        "        X_samples = np.vstack([X_samples, x_next])\n",
        "        Y_samples = np.concatenate([Y_samples, y_next])\n",
        "\n",
        "        # Update cumulative regret\n",
        "        cum_regret += (f_star - y_true[0])\n",
        "        regrets[init_points + step] = cum_regret\n",
        "\n",
        "        if verbose:\n",
        "            print(f\"Iteration {step+1}/{n_iter}, t={t}, beta={beta_t:.3f}, \"\n",
        "                  f\"x_next={x_next[0]}, f(x)={y_next[0]:.4f}, UCB={ucb_values[idx_next]:.4f}, \"\n",
        "                  f\"CumReg={cum_regret:.4f}\")\n",
        "\n",
        "    return regrets, X_samples, Y_samples\n",
        "\n",
        "\n",
        "\n",
        "\n",
        "\n",
        "import numpy as np\n",
        "import matplotlib.pyplot as plt\n",
        "from tqdm import trange\n",
        "\n",
        "def run_multiple_experiments_gp_ucb(\n",
        "    f,\n",
        "    gp,\n",
        "    bounds,\n",
        "    n_runs=5,\n",
        "    n_iter=10,\n",
        "    init_points=3,\n",
        "    n_grid=50,\n",
        "    beta_func=None,\n",
        "    random_state=None,\n",
        "    error = 1,\n",
        "    verbose=False\n",
        "):\n",
        "    \"\"\"\n",
        "    Runs the GP-UCB experiment 'n_runs' times, each time creating a new GP instance.\n",
        "    Returns the average cumulative regret across runs.\n",
        "\n",
        "    Parameters\n",
        "    ----------\n",
        "    f : callable\n",
        "        The black-box reward function.\n",
        "    gp_class_factory : callable\n",
        "        A function that, when called, returns a *new* untrained GaussianProcessRegressor\n",
        "        (or similar). For example:\n",
        "          lambda: GaussianProcessRegressor(kernel=RBF(...), alpha=..., optimizer=None)\n",
        "        We need a fresh GP for each run, so that each run is independent.\n",
        "    bounds : list of (low, high)\n",
        "        Domain bounding box.\n",
        "    n_runs : int\n",
        "        Number of independent runs to average over.\n",
        "    n_iter : int\n",
        "        Number of GP-UCB rounds (not counting the init_points).\n",
        "    init_points : int\n",
        "        Number of random initial points in each run.\n",
        "    n_grid : int\n",
        "        Grid resolution for argmax search in each run.\n",
        "    beta_func : callable or None\n",
        "        If None, use a default log-based. Otherwise a function beta_func(t) -> float.\n",
        "    random_state : int or None\n",
        "        For reproducibility. If set, seeds the first run's RNG, then subsequent runs\n",
        "        will shift the seed.\n",
        "    verbose : bool\n",
        "        Whether to print details for each run.\n",
        "\n",
        "    Returns\n",
        "    -------\n",
        "    avg_regret : ndarray of shape (n_iter + init_points,)\n",
        "        The pointwise average of the cumulative regret across runs.\n",
        "    regrets_all : ndarray of shape (n_runs, n_iter + init_points)\n",
        "        The individual run's cumulative-regret curves.\n",
        "    \"\"\"\n",
        "\n",
        "    from copy import deepcopy\n",
        "\n",
        "    # If we want reproducibility, set base seed\n",
        "    base_seed = random_state if random_state is not None else None\n",
        "\n",
        "    # We'll store the regret curve for each run here\n",
        "    regrets_all = []\n",
        "\n",
        "    for i in trange(n_runs, desc=\"GP-UCB Experiments\"):\n",
        "        # For each run, optionally shift the seed\n",
        "        if base_seed is not None:\n",
        "            # shift by i to get distinct seeds\n",
        "            np.random.seed(base_seed + i)\n",
        "\n",
        "        # Create a fresh GP instance\n",
        "        gp_model = gp\n",
        "\n",
        "        # Import or copy the gp_ucb_nd from your previous code snippet:\n",
        "        regrets, X_samples, Y_samples = gp_ucb_nd(\n",
        "            f=f,\n",
        "            gp=gp_model,\n",
        "            bounds=bounds,\n",
        "            n_iter=n_iter,\n",
        "            init_points=init_points,\n",
        "            n_grid=n_grid,\n",
        "            beta_func=beta_func,\n",
        "            random_state=None,  # we've set the seed externally\n",
        "            error = error,\n",
        "            verbose=(verbose and i == 0)  # only verbose in the 1st run, e.g.\n",
        "        )\n",
        "\n",
        "        regrets_all.append(regrets)\n",
        "\n",
        "    regrets_all = np.array(regrets_all)  # shape (n_runs, n_steps)\n",
        "    avg_regret = regrets_all.mean(axis=0)\n",
        "    std_regret = regrets_all.std(axis=0)\n",
        "    return avg_regret, regrets_all, std_regret\n",
        "\n",
        "\n",
        "\n"
      ]
    },
    {
      "cell_type": "markdown",
      "metadata": {
        "id": "DaJ_yDL1t81N"
      },
      "source": [
        "# BO with Quantum function of 5 qubits, using Grid Search to optimize Acquisition Function, Helpers also"
      ]
    },
    {
      "cell_type": "code",
      "execution_count": null,
      "metadata": {
        "colab": {
          "background_save": true
        },
        "id": "GwQLCcYwLbuj"
      },
      "outputs": [],
      "source": [
        "lst_of_c = np.array([1/8, 1/8,1/8,1/8,1/8,1/8,1/8,\n",
        "          1/16,1/16,1/16,1/16,1/16,1/16,1/16,1/16,1/16,1/16,1/16,1/16,\n",
        "          1/32,1/32,1/32,1/32,1/32,1/32,1/32,1/32,\n",
        "          ])\n",
        "lst_of_sqrt_c = lst_of_c**0.5\n",
        "\n",
        "lst_of_features = [lambda d0,d1,d2: np.cos(d0)/8, lambda d0,d1,d2:np.cos(d1)/8, lambda d0,d1,d2:np.cos(d2)/8,\n",
        "            lambda d0,d1,d2:np.cos(d0+d1)/16, lambda d0,d1,d2:np.cos(d0+d2)/16, lambda d0,d1,d2:np.cos(d1+d2)/16,\n",
        "            lambda d0,d1,d2:np.cos(d0-d1)/16, lambda d0,d1,d2:np.cos(d0-d2)/16, lambda d0,d1,d2:np.cos(d1-d2)/16,\n",
        "            lambda d0,d1,d2:np.cos(d0+d1+d2)/32, lambda d0,d1,d2:np.cos(d0+d1-d2)/32, lambda d0,d1,d2:np.cos(d0-d1+d2)/32, lambda d0,d1,d2:np.cos(d0-d1-d2)/32\n",
        "          ]\n",
        "\n",
        "def reduced_kernel_classic(x, y, dim=27):\n",
        "    \"\"\"\n",
        "    Classical evaluation of the full kernel\n",
        "    :param x: arg 1\n",
        "    :param y: arg 2\n",
        "    :return:\n",
        "    \"\"\"\n",
        "    d0 = x[0]-y[0]\n",
        "    d1 = x[1]-y[1]\n",
        "    d2 = x[2]-y[2]\n",
        "\n",
        "    k = 1/8\n",
        "    for i in range((dim-1) // 2):\n",
        "      k = k + lst_of_features[i](d0,d1,d2)\n",
        "    return k\n",
        "\n",
        "\n",
        "def reduced_matrix_classic(X, Y, dim=27):\n",
        "    \"\"\"\n",
        "    compute the kenel matrix of the full kernel\n",
        "    :param X: vector of samples\n",
        "    :param Y: vector of samples\n",
        "    :return:\n",
        "    \"\"\"\n",
        "    #print(dim)\n",
        "\n",
        "    K = np.zeros((len(X), len(Y)))\n",
        "    for i in range(len(X)):\n",
        "        for j in range(len(Y)):\n",
        "            K[i, j] = reduced_kernel_classic(X[i], Y[j],dim)\n",
        "    return K\n",
        "\n",
        "def get_max_error(dim):\n",
        "  return np.sum(lst_of_sqrt_c[dim:])"
      ]
    },
    {
      "cell_type": "code",
      "execution_count": null,
      "metadata": {
        "colab": {
          "background_save": true
        },
        "collapsed": true,
        "id": "ehDK46gjM89W",
        "outputId": "1b0bf1a1-16f3-44d0-f208-976bfea6a5db"
      },
      "outputs": [
        {
          "name": "stdout",
          "output_type": "stream",
          "text": [
            "1\n",
            "0.875\n",
            "3\n",
            "0.75\n",
            "5\n",
            "0.625\n",
            "7\n",
            "0.5\n",
            "9\n",
            "0.4375\n",
            "11\n",
            "0.375\n",
            "13\n",
            "0.3125\n",
            "15\n",
            "0.25\n",
            "17\n",
            "0.1875\n",
            "19\n",
            "0.125\n",
            "21\n",
            "0.09375\n",
            "23\n",
            "0.0625\n",
            "25\n",
            "0.03125\n",
            "27\n",
            "0.0\n"
          ]
        }
      ],
      "source": [
        "bounds = [(0, 2*np.pi), (0, 2*np.pi),(0, 2*np.pi)]\n",
        "X_grid = build_grid(bounds, n_grid=3)\n",
        "for i in range(1,28,2):\n",
        "  print(i)\n",
        "  print(kernel_matrix_classic(X_grid,X_grid)[0,0] - reduced_matrix_classic(X_grid,X_grid,i)[0,0])\n"
      ]
    },
    {
      "cell_type": "code",
      "execution_count": null,
      "metadata": {
        "colab": {
          "background_save": true
        },
        "id": "MEdjnpJkVWDr",
        "outputId": "6c2ddff7-47f3-4775-f4ac-0db060edf254"
      },
      "outputs": [
        {
          "name": "stdout",
          "output_type": "stream",
          "text": [
            "[ 0.07784249  0.8679078   0.45826619 -0.39247771 -0.25382627  0.57773621\n",
            " -0.28652672  0.6117282   0.04868803 -0.57692328 -0.59624458  0.13583791\n",
            "  0.03074755  0.0271925  -0.11592345  0.66163208  0.76904594 -0.30106644\n",
            "  0.17293934 -0.44747102 -0.15553136  0.64529628  0.45902313 -0.28505012\n",
            " -0.5793214  -0.93886059 -0.41109297]\n"
          ]
        }
      ],
      "source": [
        "def feature_map_full(x):\n",
        "    \"\"\"\n",
        "    X: shape (N, 2) where each row is [x1, x2].\n",
        "\n",
        "    Returns: Phi, shape (N, 5),\n",
        "             where Phi[i, :] = [1, cos(x1), sin(x1), cos(x2), sin(x2)] for the i-th sample.\n",
        "    \"\"\"\n",
        "    x0,x1,x2 = x[0],x[1],x[2]\n",
        "    u0,u1,u2,u3 = 1/8,1/8,1/16,1/32\n",
        "\n",
        "    return np.array([\n",
        "        u0**0.5 * 1,\n",
        "\n",
        "        u1**0.5 * np.cos(x0), u1**0.5 * np.sin(x0),\n",
        "        u1**0.5 * np.cos(x1), u1**0.5 * np.sin(x1),\n",
        "        u1**0.5 * np.cos(x2), u1**0.5 * np.sin(x2),\n",
        "\n",
        "        u2**0.5 * np.cos(x0+x1), u2**0.5 * np.sin(x0+x1), u2**0.5 * np.cos(x0-x1), u2**0.5 * np.sin(x0-x1),\n",
        "        u2**0.5 * np.cos(x0+x2), u2**0.5 * np.sin(x0+x2), u2**0.5 * np.cos(x0-x2), u2**0.5 * np.sin(x0-x2),\n",
        "        u2**0.5 * np.cos(x1+x2), u2**0.5 * np.sin(x1+x2), u2**0.5 * np.cos(x1-x2), u2**0.5 * np.sin(x1-x2),\n",
        "\n",
        "        u3**0.5 * np.cos(x0+x1+x2), u3**0.5 * np.sin(x0+x1+x2),\n",
        "        u3**0.5 * np.cos(x0+x1-x2), u3**0.5 * np.sin(x0+x1-x2),\n",
        "        u3**0.5 * np.cos(x0-x1+x2), u3**0.5 * np.sin(x0-x1+x2),\n",
        "        u3**0.5 * np.cos(x0-x1-x2), u3**0.5 * np.sin(x0-x1-x2)\n",
        "    ])\n",
        "\n",
        "sigma_w = 0.5\n",
        "w_random = np.random.normal(loc=0.0, scale=sigma_w, size=27)\n",
        "#w_random = np.array([1,1,1,1,1,1,1,1,1])\n",
        "#w_random[7],w_random[8] = 1,1\n",
        "print(w_random)\n",
        "\n",
        "def f_draw_from_GP(x):\n",
        "    \"\"\"A random draw from the GP prior with feature map phi, weights ~ N(0, sigma^2 I).\"\"\"\n",
        "    Phi = feature_map_full(x)\n",
        "    return np.sum(Phi * w_random)"
      ]
    },
    {
      "cell_type": "code",
      "execution_count": null,
      "metadata": {
        "colab": {
          "background_save": true
        },
        "id": "ZTlDa3qYW3GI",
        "outputId": "def4ebcd-cceb-495a-d1be-57fdc3ea0ec4"
      },
      "outputs": [
        {
          "data": {
            "text/plain": [
              "np.float64(0.14347737061227694)"
            ]
          },
          "execution_count": 8,
          "metadata": {},
          "output_type": "execute_result"
        }
      ],
      "source": [
        "x = [0,0.44,-1]\n",
        "y = [-3,2,0.3]\n",
        "full_kernel_classic(x,y)\n",
        "\n",
        "sum(feature_map_full(x) * feature_map_full(y))\n",
        "w_random = np.random.normal(loc=0.0, scale=sigma_w, size=27)\n",
        "f_draw_from_GP(x)"
      ]
    },
    {
      "cell_type": "markdown",
      "metadata": {
        "id": "X-LsUKmHbCwB"
      },
      "source": [
        "# Regret plot, for 2 kernels"
      ]
    },
    {
      "cell_type": "code",
      "execution_count": null,
      "metadata": {
        "colab": {
          "base_uri": "https://localhost:8080/",
          "height": 383
        },
        "id": "-G8kyM7lc62L",
        "outputId": "b11dc30e-8c50-4f08-a509-18031dfe1eea"
      },
      "outputs": [
        {
          "name": "stderr",
          "output_type": "stream",
          "text": [
            "GP-UCB Experiments:   0%|          | 0/1 [00:03<?, ?it/s]\n"
          ]
        },
        {
          "ename": "KeyboardInterrupt",
          "evalue": "",
          "output_type": "error",
          "traceback": [
            "\u001b[0;31m---------------------------------------------------------------------------\u001b[0m",
            "\u001b[0;31mKeyboardInterrupt\u001b[0m                         Traceback (most recent call last)",
            "\u001b[0;32m<ipython-input-12-3ba13f0183f5>\u001b[0m in \u001b[0;36m<cell line: 0>\u001b[0;34m()\u001b[0m\n\u001b[1;32m     18\u001b[0m \u001b[0;34m\u001b[0m\u001b[0m\n\u001b[1;32m     19\u001b[0m   \u001b[0mgp\u001b[0m \u001b[0;34m=\u001b[0m \u001b[0mGaussianProcessRegressor\u001b[0m\u001b[0;34m(\u001b[0m\u001b[0mkernel\u001b[0m\u001b[0;34m=\u001b[0m\u001b[0mkernell\u001b[0m\u001b[0;34m,\u001b[0m \u001b[0malpha\u001b[0m\u001b[0;34m=\u001b[0m\u001b[0;36m1e-3\u001b[0m\u001b[0;34m)\u001b[0m\u001b[0;34m\u001b[0m\u001b[0;34m\u001b[0m\u001b[0m\n\u001b[0;32m---> 20\u001b[0;31m   avg_best, best_hist_all,std_regret = run_multiple_experiments_gp_ucb(\n\u001b[0m\u001b[1;32m     21\u001b[0m   \u001b[0mf\u001b[0m\u001b[0;34m=\u001b[0m\u001b[0mquantum_f\u001b[0m\u001b[0;34m,\u001b[0m\u001b[0;34m\u001b[0m\u001b[0;34m\u001b[0m\u001b[0m\n\u001b[1;32m     22\u001b[0m   \u001b[0mgp\u001b[0m\u001b[0;34m=\u001b[0m\u001b[0mgp\u001b[0m\u001b[0;34m,\u001b[0m\u001b[0;34m\u001b[0m\u001b[0;34m\u001b[0m\u001b[0m\n",
            "\u001b[0;32m<ipython-input-4-5e0c0e76d8e8>\u001b[0m in \u001b[0;36mrun_multiple_experiments_gp_ucb\u001b[0;34m(f, gp, bounds, n_runs, n_iter, init_points, n_grid, beta_func, random_state, error, verbose)\u001b[0m\n\u001b[1;32m    242\u001b[0m \u001b[0;34m\u001b[0m\u001b[0m\n\u001b[1;32m    243\u001b[0m         \u001b[0;31m# Import or copy the gp_ucb_nd from your previous code snippet:\u001b[0m\u001b[0;34m\u001b[0m\u001b[0;34m\u001b[0m\u001b[0m\n\u001b[0;32m--> 244\u001b[0;31m         regrets, X_samples, Y_samples = gp_ucb_nd(\n\u001b[0m\u001b[1;32m    245\u001b[0m             \u001b[0mf\u001b[0m\u001b[0;34m=\u001b[0m\u001b[0mf\u001b[0m\u001b[0;34m,\u001b[0m\u001b[0;34m\u001b[0m\u001b[0;34m\u001b[0m\u001b[0m\n\u001b[1;32m    246\u001b[0m             \u001b[0mgp\u001b[0m\u001b[0;34m=\u001b[0m\u001b[0mgp_model\u001b[0m\u001b[0;34m,\u001b[0m\u001b[0;34m\u001b[0m\u001b[0;34m\u001b[0m\u001b[0m\n",
            "\u001b[0;32m<ipython-input-4-5e0c0e76d8e8>\u001b[0m in \u001b[0;36mgp_ucb_nd\u001b[0;34m(f, gp, bounds, n_iter, init_points, n_grid, beta_func, random_state, error, verbose)\u001b[0m\n\u001b[1;32m    116\u001b[0m \u001b[0;34m\u001b[0m\u001b[0m\n\u001b[1;32m    117\u001b[0m         \u001b[0;31m# Compute mean & std on the entire grid\u001b[0m\u001b[0;34m\u001b[0m\u001b[0;34m\u001b[0m\u001b[0m\n\u001b[0;32m--> 118\u001b[0;31m         \u001b[0mmu_grid\u001b[0m\u001b[0;34m,\u001b[0m \u001b[0mstd_grid\u001b[0m \u001b[0;34m=\u001b[0m \u001b[0mgp\u001b[0m\u001b[0;34m.\u001b[0m\u001b[0mpredict\u001b[0m\u001b[0;34m(\u001b[0m\u001b[0mX_grid\u001b[0m\u001b[0;34m,\u001b[0m \u001b[0mreturn_std\u001b[0m\u001b[0;34m=\u001b[0m\u001b[0;32mTrue\u001b[0m\u001b[0;34m)\u001b[0m\u001b[0;34m\u001b[0m\u001b[0;34m\u001b[0m\u001b[0m\n\u001b[0m\u001b[1;32m    119\u001b[0m \u001b[0;34m\u001b[0m\u001b[0m\n\u001b[1;32m    120\u001b[0m         \u001b[0;31m# Define current beta_t\u001b[0m\u001b[0;34m\u001b[0m\u001b[0;34m\u001b[0m\u001b[0m\n",
            "\u001b[0;32m<ipython-input-2-df8fd35fda50>\u001b[0m in \u001b[0;36mpredict\u001b[0;34m(self, X_test, return_std)\u001b[0m\n\u001b[1;32m     29\u001b[0m \u001b[0;34m\u001b[0m\u001b[0m\n\u001b[1;32m     30\u001b[0m         \u001b[0;32mif\u001b[0m \u001b[0mreturn_std\u001b[0m\u001b[0;34m:\u001b[0m\u001b[0;34m\u001b[0m\u001b[0;34m\u001b[0m\u001b[0m\n\u001b[0;32m---> 31\u001b[0;31m             \u001b[0mK_star_star\u001b[0m \u001b[0;34m=\u001b[0m \u001b[0mself\u001b[0m\u001b[0;34m.\u001b[0m\u001b[0mkernel\u001b[0m\u001b[0;34m(\u001b[0m\u001b[0mX_test\u001b[0m\u001b[0;34m,\u001b[0m \u001b[0mX_test\u001b[0m\u001b[0;34m)\u001b[0m\u001b[0;34m\u001b[0m\u001b[0;34m\u001b[0m\u001b[0m\n\u001b[0m\u001b[1;32m     32\u001b[0m             \u001b[0mcov\u001b[0m \u001b[0;34m=\u001b[0m \u001b[0mK_star_star\u001b[0m \u001b[0;34m-\u001b[0m \u001b[0mK_star\u001b[0m \u001b[0;34m@\u001b[0m \u001b[0mself\u001b[0m\u001b[0;34m.\u001b[0m\u001b[0mK_inv\u001b[0m \u001b[0;34m@\u001b[0m \u001b[0mK_star\u001b[0m\u001b[0;34m.\u001b[0m\u001b[0mT\u001b[0m\u001b[0;34m\u001b[0m\u001b[0;34m\u001b[0m\u001b[0m\n\u001b[1;32m     33\u001b[0m             \u001b[0mvar\u001b[0m \u001b[0;34m=\u001b[0m \u001b[0mnp\u001b[0m\u001b[0;34m.\u001b[0m\u001b[0mdiag\u001b[0m\u001b[0;34m(\u001b[0m\u001b[0mcov\u001b[0m\u001b[0;34m)\u001b[0m\u001b[0;34m\u001b[0m\u001b[0;34m\u001b[0m\u001b[0m\n",
            "\u001b[0;32m<ipython-input-1-6d714a017695>\u001b[0m in \u001b[0;36mkernel_matrix_classic\u001b[0;34m(X, Y)\u001b[0m\n\u001b[1;32m     30\u001b[0m     \u001b[0;32mfor\u001b[0m \u001b[0mi\u001b[0m \u001b[0;32min\u001b[0m \u001b[0mrange\u001b[0m\u001b[0;34m(\u001b[0m\u001b[0mlen\u001b[0m\u001b[0;34m(\u001b[0m\u001b[0mX\u001b[0m\u001b[0;34m)\u001b[0m\u001b[0;34m)\u001b[0m\u001b[0;34m:\u001b[0m\u001b[0;34m\u001b[0m\u001b[0;34m\u001b[0m\u001b[0m\n\u001b[1;32m     31\u001b[0m         \u001b[0;32mfor\u001b[0m \u001b[0mj\u001b[0m \u001b[0;32min\u001b[0m \u001b[0mrange\u001b[0m\u001b[0;34m(\u001b[0m\u001b[0mlen\u001b[0m\u001b[0;34m(\u001b[0m\u001b[0mY\u001b[0m\u001b[0;34m)\u001b[0m\u001b[0;34m)\u001b[0m\u001b[0;34m:\u001b[0m\u001b[0;34m\u001b[0m\u001b[0;34m\u001b[0m\u001b[0m\n\u001b[0;32m---> 32\u001b[0;31m             \u001b[0mK\u001b[0m\u001b[0;34m[\u001b[0m\u001b[0mi\u001b[0m\u001b[0;34m,\u001b[0m \u001b[0mj\u001b[0m\u001b[0;34m]\u001b[0m \u001b[0;34m=\u001b[0m \u001b[0mfull_kernel_classic\u001b[0m\u001b[0;34m(\u001b[0m\u001b[0mX\u001b[0m\u001b[0;34m[\u001b[0m\u001b[0mi\u001b[0m\u001b[0;34m]\u001b[0m\u001b[0;34m,\u001b[0m \u001b[0mY\u001b[0m\u001b[0;34m[\u001b[0m\u001b[0mj\u001b[0m\u001b[0;34m]\u001b[0m\u001b[0;34m)\u001b[0m\u001b[0;34m\u001b[0m\u001b[0;34m\u001b[0m\u001b[0m\n\u001b[0m\u001b[1;32m     33\u001b[0m     \u001b[0;32mreturn\u001b[0m \u001b[0mK\u001b[0m\u001b[0;34m\u001b[0m\u001b[0;34m\u001b[0m\u001b[0m\n\u001b[1;32m     34\u001b[0m \u001b[0;34m\u001b[0m\u001b[0m\n",
            "\u001b[0;32m<ipython-input-1-6d714a017695>\u001b[0m in \u001b[0;36mfull_kernel_classic\u001b[0;34m(x, y)\u001b[0m\n\u001b[1;32m     16\u001b[0m     \u001b[0mk\u001b[0m \u001b[0;34m=\u001b[0m \u001b[0;36m1\u001b[0m\u001b[0;34m\u001b[0m\u001b[0;34m\u001b[0m\u001b[0m\n\u001b[1;32m     17\u001b[0m     \u001b[0;32mfor\u001b[0m \u001b[0mi\u001b[0m \u001b[0;32min\u001b[0m \u001b[0mrange\u001b[0m\u001b[0;34m(\u001b[0m\u001b[0mlen\u001b[0m\u001b[0;34m(\u001b[0m\u001b[0mx\u001b[0m\u001b[0;34m)\u001b[0m\u001b[0;34m)\u001b[0m\u001b[0;34m:\u001b[0m\u001b[0;34m\u001b[0m\u001b[0;34m\u001b[0m\u001b[0m\n\u001b[0;32m---> 18\u001b[0;31m         \u001b[0mk\u001b[0m \u001b[0;34m=\u001b[0m \u001b[0mk\u001b[0m \u001b[0;34m*\u001b[0m \u001b[0mnp\u001b[0m\u001b[0;34m.\u001b[0m\u001b[0mcos\u001b[0m\u001b[0;34m(\u001b[0m\u001b[0;36m1\u001b[0m\u001b[0;34m/\u001b[0m\u001b[0;36m2\u001b[0m\u001b[0;34m*\u001b[0m\u001b[0;34m(\u001b[0m\u001b[0mx\u001b[0m\u001b[0;34m[\u001b[0m\u001b[0mi\u001b[0m\u001b[0;34m]\u001b[0m\u001b[0;34m-\u001b[0m\u001b[0my\u001b[0m\u001b[0;34m[\u001b[0m\u001b[0mi\u001b[0m\u001b[0;34m]\u001b[0m\u001b[0;34m)\u001b[0m\u001b[0;34m)\u001b[0m\u001b[0;34m**\u001b[0m\u001b[0;36m2\u001b[0m\u001b[0;34m\u001b[0m\u001b[0;34m\u001b[0m\u001b[0m\n\u001b[0m\u001b[1;32m     19\u001b[0m     \u001b[0;32mreturn\u001b[0m \u001b[0mk\u001b[0m\u001b[0;34m\u001b[0m\u001b[0;34m\u001b[0m\u001b[0m\n\u001b[1;32m     20\u001b[0m \u001b[0;34m\u001b[0m\u001b[0m\n",
            "\u001b[0;31mKeyboardInterrupt\u001b[0m: "
          ]
        }
      ],
      "source": [
        "# setup\n",
        "qubits = 3\n",
        "seed = 1\n",
        "bounds = [(0, 2*np.pi), (0, 2*np.pi),(0, 2*np.pi)]\n",
        "\n",
        "# get kernels and true reward functions\n",
        "\n",
        "quantum_f = lambda X: np.array([f_draw_from_GP(X[i]) for i in range(X.shape[0])])\n",
        "\n",
        "kernels_to_try = [kernel_matrix_classic,reduced_matrix_classic]\n",
        "trials_for_each = [1,1]\n",
        "records = []\n",
        "kernel_names = [\"full quantum\",\"reduced quantum\"]\n",
        "\n",
        "\n",
        "for i in range(len(kernels_to_try)):\n",
        "  kernell = kernels_to_try[i]\n",
        "\n",
        "  gp = GaussianProcessRegressor(kernel=kernell, alpha=1e-3)\n",
        "  avg_best, best_hist_all,std_regret = run_multiple_experiments_gp_ucb(\n",
        "  f=quantum_f,\n",
        "  gp=gp,\n",
        "  bounds=bounds,\n",
        "  n_runs=trials_for_each[i],\n",
        "  n_iter=100,\n",
        "  init_points=1,\n",
        "  n_grid=6,\n",
        "  beta_func=None,  # use the default inside gp_ucb_nd\n",
        "  random_state=42,\n",
        "  verbose=False\n",
        ")\n",
        "\n",
        "\n",
        "  records.append(avg_best)\n",
        "\n",
        "  if trials_for_each[i] != 0:\n",
        "    print(list(avg_best))\n",
        "  else:\n",
        "    print(\"not ran\")\n",
        "\n",
        "\n",
        "\n",
        "\n",
        "steps = np.arange(1, len(records[0])+1)\n",
        "for i in range(len(records)):\n",
        "  plt.plot(steps, records[i], label=kernel_names[i])\n",
        "plt.title(\"Random Search on 2D Negative Rastrigin\")\n",
        "plt.xlabel(\"Iteration (init + BO steps)\")\n",
        "plt.ylabel(\"Objective Value\")\n",
        "plt.grid(True)\n",
        "plt.legend()\n",
        "plt.show()"
      ]
    },
    {
      "cell_type": "markdown",
      "metadata": {
        "id": "eE07bhiyPtnN"
      },
      "source": [
        "# repeat for different kernel dimension"
      ]
    },
    {
      "cell_type": "code",
      "execution_count": null,
      "metadata": {
        "colab": {
          "background_save": true
        },
        "id": "0yNpB4ujKsGY",
        "outputId": "187c7b44-922e-4f3a-f08a-cfe3c4f46a58"
      },
      "outputs": [
        {
          "name": "stderr",
          "output_type": "stream",
          "text": [
            "Dimension of Kernel Used:   0%|          | 0/27 [00:00<?, ?it/s]\n",
            "GP-UCB Experiments:   0%|          | 0/10 [00:00<?, ?it/s]\u001b[A\n",
            "GP-UCB Experiments:  10%|█         | 1/10 [00:08<01:18,  8.73s/it]\u001b[A\n",
            "GP-UCB Experiments:  20%|██        | 2/10 [00:15<01:01,  7.63s/it]\u001b[A\n",
            "GP-UCB Experiments:  30%|███       | 3/10 [00:23<00:54,  7.77s/it]\u001b[A\n",
            "GP-UCB Experiments:  40%|████      | 4/10 [00:30<00:44,  7.40s/it]\u001b[A\n",
            "GP-UCB Experiments:  50%|█████     | 5/10 [00:38<00:38,  7.62s/it]\u001b[A\n",
            "GP-UCB Experiments:  60%|██████    | 6/10 [00:46<00:30,  7.63s/it]\u001b[A\n",
            "GP-UCB Experiments:  70%|███████   | 7/10 [00:52<00:22,  7.39s/it]\u001b[A\n",
            "GP-UCB Experiments:  80%|████████  | 8/10 [01:00<00:15,  7.56s/it]\u001b[A\n",
            "GP-UCB Experiments:  90%|█████████ | 9/10 [01:07<00:07,  7.34s/it]\u001b[A\n",
            "GP-UCB Experiments: 100%|██████████| 10/10 [01:15<00:00,  7.56s/it]\n",
            "Dimension of Kernel Used:   4%|▎         | 1/27 [01:15<32:45, 75.61s/it]"
          ]
        },
        {
          "name": "stdout",
          "output_type": "stream",
          "text": [
            "[  3.4251388    6.6152578   10.42987681  14.10630817  18.01500591\n",
            "  21.35934664  25.16242467  27.85877268  31.68199687  34.69193153\n",
            "  38.54123779  41.59938346  45.17363639  48.7989641   52.40597341\n",
            "  55.79748409  59.06520231  62.63063289  66.24067602  69.22354932\n",
            "  72.57351783  76.24049723  79.86639424  83.68530152  87.53051871\n",
            "  91.49530534  94.77243748  98.2373185  101.2983227  104.71259182\n",
            " 108.37871501 111.89510379 115.35228073 118.90423867 122.4747234\n",
            " 126.16453981 130.06779559 133.70606002 136.91384824 140.62775816\n",
            " 144.265169   147.82099904 150.74143445 153.99792914 157.55039026\n",
            " 161.25022211 164.82486766 168.21342512 171.9698856  175.83610542\n",
            " 179.09003832 182.92217822 186.54961739 189.86765842 193.40739601\n",
            " 196.85982968 200.21101857 204.05179546 206.45078169 209.04960622\n",
            " 212.36589492 216.00448866 219.67950713 223.14910343 226.24254986\n",
            " 229.90683231 233.39763754 237.42399981 241.08791223 244.70802396\n",
            " 248.39844365 251.66042477 254.96488909 258.74420934 262.494213\n",
            " 266.50051111 270.18337946 273.5734853  276.82573938 280.56579785\n",
            " 284.06424664 287.73100485 291.43710872 295.04739531 299.09624276\n",
            " 302.194177   305.42002669 309.13786662 312.90811081 316.70211576\n",
            " 320.47379924 324.15081406 327.75901618 331.5267719  335.02500509\n",
            " 338.68412987 342.3980837  345.8473318  349.60795479 353.18732908\n",
            " 357.0891124 ]\n"
          ]
        },
        {
          "name": "stderr",
          "output_type": "stream",
          "text": [
            "\n",
            "GP-UCB Experiments:   0%|          | 0/10 [00:00<?, ?it/s]\u001b[A\n",
            "GP-UCB Experiments:  10%|█         | 1/10 [00:07<01:03,  7.05s/it]\u001b[A\n",
            "GP-UCB Experiments:  20%|██        | 2/10 [00:14<00:58,  7.34s/it]\u001b[A\n",
            "GP-UCB Experiments:  30%|███       | 3/10 [00:22<00:53,  7.62s/it]\u001b[A\n",
            "GP-UCB Experiments:  40%|████      | 4/10 [00:29<00:43,  7.31s/it]\u001b[A\n",
            "GP-UCB Experiments:  50%|█████     | 5/10 [00:37<00:37,  7.51s/it]\u001b[A\n",
            "GP-UCB Experiments:  60%|██████    | 6/10 [00:44<00:29,  7.29s/it]\u001b[A\n",
            "GP-UCB Experiments:  70%|███████   | 7/10 [00:52<00:22,  7.49s/it]\u001b[A\n",
            "GP-UCB Experiments:  80%|████████  | 8/10 [00:59<00:15,  7.61s/it]\u001b[A\n",
            "GP-UCB Experiments:  90%|█████████ | 9/10 [01:06<00:07,  7.40s/it]\u001b[A\n",
            "GP-UCB Experiments: 100%|██████████| 10/10 [01:14<00:00,  7.47s/it]\n",
            "Dimension of Kernel Used:   7%|▋         | 2/27 [02:30<31:16, 75.08s/it]"
          ]
        },
        {
          "name": "stdout",
          "output_type": "stream",
          "text": [
            "[  3.40303918   7.0304107   10.49877902  14.27045875  18.65817483\n",
            "  21.82420133  25.06217924  29.08386392  32.67642582  36.37828196\n",
            "  39.758645    43.57657575  47.25336075  50.61017803  54.39791943\n",
            "  58.0322563   62.0810841   65.62425603  68.89498332  72.36899722\n",
            "  76.33362516  79.89960657  83.90736337  87.87217914  91.58215352\n",
            "  95.15301855  98.97606705 102.30287303 105.88074077 109.49307363\n",
            " 112.72174744 116.2331695  119.64623655 123.29406772 126.88811455\n",
            " 130.42804573 134.21807264 138.09578746 141.97670626 145.51503333\n",
            " 149.19879679 153.25009627 156.64504932 160.40069354 164.07295467\n",
            " 167.26000268 171.14430177 174.86231392 178.45159691 182.05352235\n",
            " 186.19678093 189.58384039 193.03099293 196.56085466 200.41280403\n",
            " 203.67405833 207.31176535 211.18719478 214.80942963 218.56900281\n",
            " 222.41031176 226.34308768 230.16167313 233.76311407 237.59949548\n",
            " 241.1988929  244.68481312 248.45815956 252.39195542 256.13812578\n",
            " 260.01832132 263.89203908 267.38230617 270.81908737 274.46207785\n",
            " 278.42073646 282.13481169 285.88397355 289.32278057 292.46996535\n",
            " 295.74247925 299.32103089 302.85458989 306.6251404  310.37296218\n",
            " 313.63844464 317.11794116 320.81098884 324.1302886  327.44065456\n",
            " 330.9871757  333.5255529  337.38470584 340.7896856  344.12821126\n",
            " 347.84725896 351.2407681  355.09266069 358.73739333 361.92114569\n",
            " 365.19738774]\n"
          ]
        },
        {
          "name": "stderr",
          "output_type": "stream",
          "text": [
            "\n",
            "GP-UCB Experiments:   0%|          | 0/10 [00:00<?, ?it/s]\u001b[A\n",
            "GP-UCB Experiments:  10%|█         | 1/10 [00:12<01:49, 12.20s/it]\u001b[A\n",
            "GP-UCB Experiments:  20%|██        | 2/10 [00:24<01:37, 12.19s/it]\u001b[A\n",
            "GP-UCB Experiments:  30%|███       | 3/10 [00:36<01:25, 12.19s/it]\u001b[A\n",
            "GP-UCB Experiments:  40%|████      | 4/10 [00:48<01:12, 12.15s/it]\u001b[A\n",
            "GP-UCB Experiments:  50%|█████     | 5/10 [01:00<01:01, 12.21s/it]\u001b[A\n",
            "GP-UCB Experiments:  60%|██████    | 6/10 [01:13<00:48, 12.22s/it]\u001b[A\n",
            "GP-UCB Experiments:  70%|███████   | 7/10 [01:25<00:36, 12.23s/it]\u001b[A\n",
            "GP-UCB Experiments:  80%|████████  | 8/10 [01:37<00:24, 12.14s/it]\u001b[A\n",
            "GP-UCB Experiments:  90%|█████████ | 9/10 [01:49<00:12, 12.17s/it]\u001b[A\n",
            "GP-UCB Experiments: 100%|██████████| 10/10 [02:02<00:00, 12.21s/it]\n",
            "Dimension of Kernel Used:  11%|█         | 3/27 [04:32<38:37, 96.57s/it]"
          ]
        },
        {
          "name": "stdout",
          "output_type": "stream",
          "text": [
            "[  4.05975436   7.75399662  12.0618105   15.96293431  20.07744105\n",
            "  23.32908847  27.20057878  30.67640785  33.48891199  37.38300339\n",
            "  41.37053674  45.24376406  48.61151664  52.31436043  55.8399762\n",
            "  59.66697024  63.14585079  66.86426877  70.20746176  73.62959276\n",
            "  77.11716164  80.08831261  84.11259128  87.95757283  90.81840505\n",
            "  94.50681231  97.74392057 100.97563492 105.11374363 108.51449535\n",
            " 111.91124353 115.74809391 119.13088261 122.57786587 126.25692042\n",
            " 130.34234316 133.59567868 137.18165881 141.215827   144.31492668\n",
            " 147.76184447 151.55373045 154.98143427 158.46592016 162.06939547\n",
            " 165.5899424  169.31493037 172.09564934 174.99006596 179.07264319\n",
            " 182.9298304  186.17959947 188.90080478 192.35517933 196.25755983\n",
            " 199.61812548 202.73375173 206.10403662 209.68516374 212.41111403\n",
            " 216.32118851 220.16754826 223.46984496 226.70135207 230.41747517\n",
            " 233.25397848 236.83312852 240.63547522 244.26234583 247.68888029\n",
            " 251.53994956 254.54550882 257.82122591 261.56906022 264.58320114\n",
            " 267.97580701 271.52367324 274.24898081 277.89970351 281.81067792\n",
            " 285.76908157 289.43805041 292.68162631 296.39776554 300.10418401\n",
            " 302.95274605 305.58100501 309.33300169 312.78445735 316.00264867\n",
            " 319.05211225 322.70010046 325.99648815 329.56532775 333.03654104\n",
            " 336.64966916 340.51245156 344.07903827 347.73572244 351.64626526\n",
            " 354.33348931]\n"
          ]
        },
        {
          "name": "stderr",
          "output_type": "stream",
          "text": [
            "\n",
            "GP-UCB Experiments:   0%|          | 0/10 [00:00<?, ?it/s]\u001b[A\n",
            "GP-UCB Experiments:  10%|█         | 1/10 [00:13<01:58, 13.22s/it]\u001b[A\n",
            "GP-UCB Experiments:  20%|██        | 2/10 [00:25<01:42, 12.77s/it]\u001b[A\n",
            "GP-UCB Experiments:  30%|███       | 3/10 [00:37<01:27, 12.52s/it]\u001b[A\n",
            "GP-UCB Experiments:  40%|████      | 4/10 [00:50<01:15, 12.55s/it]\u001b[A\n",
            "GP-UCB Experiments:  50%|█████     | 5/10 [01:02<01:02, 12.45s/it]\u001b[A\n",
            "GP-UCB Experiments:  60%|██████    | 6/10 [01:15<00:49, 12.40s/it]\u001b[A\n",
            "GP-UCB Experiments:  70%|███████   | 7/10 [01:27<00:37, 12.34s/it]\u001b[A\n",
            "GP-UCB Experiments:  80%|████████  | 8/10 [01:39<00:24, 12.22s/it]\u001b[A\n",
            "GP-UCB Experiments:  90%|█████████ | 9/10 [01:51<00:12, 12.15s/it]\u001b[A\n",
            "GP-UCB Experiments: 100%|██████████| 10/10 [02:03<00:00, 12.37s/it]\n",
            "Dimension of Kernel Used:  15%|█▍        | 4/27 [06:36<41:07, 107.27s/it]"
          ]
        },
        {
          "name": "stdout",
          "output_type": "stream",
          "text": [
            "[  3.33102226   6.92918069  10.50216542  13.9090442   17.29700147\n",
            "  20.59635706  23.36892063  27.03485825  30.8506803   34.32770629\n",
            "  37.20198956  41.0986806   44.58225023  47.84058485  51.4062259\n",
            "  54.45393029  57.85121732  61.25054207  64.68291171  68.2728876\n",
            "  71.71059732  75.31753674  78.6247355   82.26260653  85.33299513\n",
            "  88.59121649  91.34234826  93.69125567  96.70635916  99.1136816\n",
            " 102.43925148 106.12213843 109.38428067 112.87640595 115.89301036\n",
            " 119.24145733 122.55213075 125.26775816 127.9272298  131.12185204\n",
            " 134.41803729 137.52476004 140.20405517 143.36598684 146.86008747\n",
            " 150.01486211 153.34979448 156.47947079 159.4773026  162.94994167\n",
            " 166.39073036 169.79350695 172.83971098 176.21771924 179.21555987\n",
            " 182.21442439 185.67429442 188.97934424 192.28510662 195.66830217\n",
            " 199.00586912 201.74395974 205.1950681  208.4573621  212.10682755\n",
            " 215.42812933 218.81448828 222.06347899 224.95553313 228.60324591\n",
            " 232.1008051  235.48414359 238.26593357 241.30664951 244.42971217\n",
            " 247.76687117 251.01785107 253.45771768 256.80148053 260.21815569\n",
            " 263.79512718 267.35108739 270.27430195 273.35629007 276.70724407\n",
            " 279.77322415 282.97342064 286.22566653 289.51924709 292.58048737\n",
            " 296.05088236 299.87172322 302.80906689 305.51628885 309.25438252\n",
            " 312.56938424 316.12367611 319.32462191 322.91367063 326.28869029\n",
            " 328.93879399]\n"
          ]
        },
        {
          "name": "stderr",
          "output_type": "stream",
          "text": [
            "\n",
            "GP-UCB Experiments:   0%|          | 0/10 [00:00<?, ?it/s]\u001b[A\n",
            "GP-UCB Experiments:  10%|█         | 1/10 [00:16<02:25, 16.21s/it]\u001b[A\n",
            "GP-UCB Experiments:  20%|██        | 2/10 [00:31<02:06, 15.76s/it]\u001b[A\n",
            "GP-UCB Experiments:  30%|███       | 3/10 [00:46<01:48, 15.53s/it]\u001b[A\n",
            "GP-UCB Experiments:  40%|████      | 4/10 [01:02<01:32, 15.41s/it]\u001b[A\n",
            "GP-UCB Experiments:  50%|█████     | 5/10 [01:18<01:18, 15.76s/it]\u001b[A\n",
            "GP-UCB Experiments:  60%|██████    | 6/10 [01:33<01:02, 15.60s/it]\u001b[A\n",
            "GP-UCB Experiments:  70%|███████   | 7/10 [01:49<00:46, 15.61s/it]\u001b[A\n",
            "GP-UCB Experiments:  80%|████████  | 8/10 [02:06<00:31, 15.99s/it]\u001b[A\n",
            "GP-UCB Experiments:  90%|█████████ | 9/10 [02:22<00:16, 16.16s/it]\u001b[A\n",
            "GP-UCB Experiments: 100%|██████████| 10/10 [02:38<00:00, 15.81s/it]\n",
            "Dimension of Kernel Used:  19%|█▊        | 5/27 [09:14<46:03, 125.60s/it]"
          ]
        },
        {
          "name": "stdout",
          "output_type": "stream",
          "text": [
            "[  3.9480508    7.64529606  11.29488852  14.94381486  18.93962222\n",
            "  22.16875909  25.37501019  27.98236019  30.80006068  33.82585574\n",
            "  37.64900238  40.56437002  43.39235444  45.5635386   48.45605732\n",
            "  51.199699    54.05674423  57.53931828  60.06661736  62.9008734\n",
            "  65.57936208  68.6684252   72.06380855  74.68916515  77.82487448\n",
            "  81.08439757  83.38952807  86.20389851  88.6173515   91.43331395\n",
            "  94.62894914  96.94461707 100.38196913 102.79808544 104.83656983\n",
            " 107.94606834 111.63828162 114.85069659 117.53297716 120.86672786\n",
            " 124.01432482 127.07399115 130.86153423 133.42371486 136.53373394\n",
            " 139.41745724 142.88864883 145.61636819 148.43855737 151.09058569\n",
            " 154.06542014 156.35316774 158.22794468 160.87455605 163.40176617\n",
            " 165.12081313 168.64138392 171.05499875 174.07398252 176.1618587\n",
            " 179.25198759 181.84167085 184.18078687 186.6392522  188.79791993\n",
            " 191.94616518 194.97602511 197.50047106 200.13593843 202.50558892\n",
            " 205.63173284 208.87008826 210.6489     212.28600952 215.31527665\n",
            " 218.18748351 220.14084612 222.14299315 224.77571792 227.45739661\n",
            " 230.48104493 233.49198793 236.24096124 240.21917691 242.6334109\n",
            " 244.63314887 247.85462722 251.35015604 253.94753629 256.12323741\n",
            " 258.41289337 261.3340004  263.89989055 266.13210331 268.38574574\n",
            " 271.23791101 272.82643562 274.23619201 277.35497461 279.26882993\n",
            " 281.39851055]\n"
          ]
        },
        {
          "name": "stderr",
          "output_type": "stream",
          "text": [
            "\n",
            "GP-UCB Experiments:   0%|          | 0/10 [00:00<?, ?it/s]\u001b[A\n",
            "GP-UCB Experiments:  10%|█         | 1/10 [00:15<02:18, 15.36s/it]\u001b[A\n",
            "GP-UCB Experiments:  20%|██        | 2/10 [00:31<02:06, 15.75s/it]\u001b[A\n",
            "GP-UCB Experiments:  30%|███       | 3/10 [00:47<01:51, 15.96s/it]\u001b[A\n",
            "GP-UCB Experiments:  40%|████      | 4/10 [01:02<01:33, 15.59s/it]\u001b[A\n",
            "GP-UCB Experiments:  50%|█████     | 5/10 [01:18<01:18, 15.62s/it]\u001b[A\n",
            "GP-UCB Experiments:  60%|██████    | 6/10 [01:34<01:03, 15.78s/it]\u001b[A\n",
            "GP-UCB Experiments:  70%|███████   | 7/10 [01:50<00:47, 15.83s/it]\u001b[A\n",
            "GP-UCB Experiments:  80%|████████  | 8/10 [02:05<00:31, 15.74s/it]\u001b[A\n",
            "GP-UCB Experiments:  90%|█████████ | 9/10 [02:21<00:15, 15.58s/it]\u001b[A\n",
            "GP-UCB Experiments: 100%|██████████| 10/10 [02:37<00:00, 15.73s/it]\n",
            "Dimension of Kernel Used:  22%|██▏       | 6/27 [11:51<47:43, 136.37s/it]"
          ]
        },
        {
          "name": "stdout",
          "output_type": "stream",
          "text": [
            "[  2.90021715   5.39610006   8.9663484   12.0647192   15.53533413\n",
            "  17.92083995  20.56963333  23.15402524  26.70496003  29.66154646\n",
            "  32.76631388  34.85075069  37.51906638  40.11992089  42.63163798\n",
            "  45.82512655  47.51971834  50.48118388  52.84248999  55.39831507\n",
            "  57.18888196  59.76606004  61.22550572  63.44963449  65.74759596\n",
            "  68.02198287  70.46578755  73.3933835   76.85461073  79.34233396\n",
            "  81.77796692  83.902339    86.41352847  88.71070303  91.38087575\n",
            "  93.90322447  96.55200561  99.25549077 101.80444841 103.90261965\n",
            " 106.49330228 109.44279822 112.22040429 114.17369053 116.80787431\n",
            " 118.99266036 122.18613065 124.78705623 128.11519841 130.66676087\n",
            " 133.25400243 134.74724797 137.06764773 139.71141166 142.64703022\n",
            " 144.90714485 147.09329753 149.52657508 152.15625405 154.90286589\n",
            " 157.13144702 159.53378537 161.39991993 164.54807559 167.56634173\n",
            " 169.76988677 172.72692067 175.31296492 176.74866126 179.54777804\n",
            " 181.26158944 184.12753671 186.36372983 188.56443158 191.55428616\n",
            " 192.97897948 195.4315998  198.20605492 200.52745157 203.50753876\n",
            " 205.7378627  207.29714041 209.62294217 212.12790614 214.98909409\n",
            " 217.70357346 220.13282672 222.56187723 224.80866676 226.86267095\n",
            " 228.8238512  231.52977495 234.41117969 236.29025152 237.42444442\n",
            " 240.11926174 243.01917532 244.39773496 246.86284005 248.52736156\n",
            " 250.68278386]\n"
          ]
        },
        {
          "name": "stderr",
          "output_type": "stream",
          "text": [
            "\n",
            "GP-UCB Experiments:   0%|          | 0/10 [00:00<?, ?it/s]\u001b[A\n",
            "GP-UCB Experiments:  10%|█         | 1/10 [00:18<02:45, 18.41s/it]\u001b[A\n",
            "GP-UCB Experiments:  20%|██        | 2/10 [00:37<02:28, 18.57s/it]\u001b[A\n",
            "GP-UCB Experiments:  30%|███       | 3/10 [00:55<02:10, 18.64s/it]\u001b[A\n",
            "GP-UCB Experiments:  40%|████      | 4/10 [01:15<01:53, 18.85s/it]\u001b[A\n",
            "GP-UCB Experiments:  50%|█████     | 5/10 [01:33<01:33, 18.69s/it]\u001b[A\n",
            "GP-UCB Experiments:  60%|██████    | 6/10 [01:53<01:16, 19.02s/it]\u001b[A\n",
            "GP-UCB Experiments:  70%|███████   | 7/10 [02:11<00:56, 18.93s/it]\u001b[A\n",
            "GP-UCB Experiments:  80%|████████  | 8/10 [02:31<00:38, 19.19s/it]\u001b[A\n",
            "GP-UCB Experiments:  90%|█████████ | 9/10 [02:51<00:19, 19.34s/it]\u001b[A\n",
            "GP-UCB Experiments: 100%|██████████| 10/10 [03:11<00:00, 19.14s/it]\n",
            "Dimension of Kernel Used:  26%|██▌       | 7/27 [15:02<51:27, 154.37s/it]"
          ]
        },
        {
          "name": "stdout",
          "output_type": "stream",
          "text": [
            "[ 3.75131289  6.60963744  9.89704542 12.73284344 15.84706283 19.41349882\n",
            " 21.67559331 22.92407095 23.47978792 24.7244972  25.61775436 26.12629123\n",
            " 26.53733979 26.73631665 27.07031322 27.23669909 27.37074455 27.77568041\n",
            " 27.70019367 27.91061731 28.15415481 28.51010289 28.9075889  29.16586311\n",
            " 29.19301042 29.13216943 29.1131261  29.03281789 29.18452188 28.79382858\n",
            " 28.59331024 28.31083221 28.36630023 28.20929461 27.89553865 27.90613433\n",
            " 27.81134378 27.51481078 27.57976052 27.43150053 27.54898714 27.55660118\n",
            " 27.37134248 27.23919719 27.1524703  27.10481345 27.03378731 27.19232433\n",
            " 27.02740911 27.14726778 26.90115065 27.01111866 26.98653262 26.98898096\n",
            " 27.28898092 27.29755389 27.30058933 27.15228626 27.07627076 26.79100466\n",
            " 26.6733151  26.82455958 26.56723531 26.58757427 26.42883168 26.3338802\n",
            " 26.42984546 26.50021204 26.4012096  26.18495566 26.1548764  26.07206273\n",
            " 25.92448993 25.85244133 26.0289712  25.7523563  25.52786232 25.61448463\n",
            " 25.57073773 25.67326006 25.35877125 25.18868395 25.00282217 24.76956277\n",
            " 24.6183477  24.73620918 24.83110829 24.8606424  24.78910361 24.56167401\n",
            " 24.53070873 24.81277586 24.83694632 24.94494401 24.97408738 25.03455419\n",
            " 25.13628166 25.0898796  25.00950544 24.98371933 25.09635753]\n"
          ]
        },
        {
          "name": "stderr",
          "output_type": "stream",
          "text": [
            "\n",
            "GP-UCB Experiments:   0%|          | 0/10 [00:00<?, ?it/s]\u001b[A\n",
            "GP-UCB Experiments:  10%|█         | 1/10 [00:19<02:51, 19.08s/it]\u001b[A\n",
            "GP-UCB Experiments:  20%|██        | 2/10 [00:38<02:35, 19.38s/it]\u001b[A\n",
            "GP-UCB Experiments:  30%|███       | 3/10 [00:59<02:18, 19.83s/it]\u001b[A\n",
            "GP-UCB Experiments:  40%|████      | 4/10 [01:17<01:56, 19.43s/it]\u001b[A\n",
            "GP-UCB Experiments:  50%|█████     | 5/10 [01:37<01:38, 19.62s/it]\u001b[A\n",
            "GP-UCB Experiments:  60%|██████    | 6/10 [01:56<01:17, 19.30s/it]\u001b[A\n",
            "GP-UCB Experiments:  70%|███████   | 7/10 [02:16<00:58, 19.60s/it]\u001b[A\n",
            "GP-UCB Experiments:  80%|████████  | 8/10 [02:35<00:38, 19.41s/it]\u001b[A\n",
            "GP-UCB Experiments:  90%|█████████ | 9/10 [02:55<00:19, 19.42s/it]\u001b[A\n",
            "GP-UCB Experiments: 100%|██████████| 10/10 [03:14<00:00, 19.47s/it]\n",
            "Dimension of Kernel Used:  30%|██▉       | 8/27 [18:17<52:56, 167.21s/it]"
          ]
        },
        {
          "name": "stdout",
          "output_type": "stream",
          "text": [
            "[ 3.73620921  7.40876266 10.20005379 13.6154529  16.48295257 19.13801974\n",
            " 22.61881467 25.04178995 26.54355744 28.25257307 29.45778545 30.92348262\n",
            " 32.08600623 32.73743824 33.50131158 34.35516455 34.82397614 35.26596319\n",
            " 35.77386511 36.03050581 36.64815984 37.17942538 37.42618811 38.00803067\n",
            " 38.07939173 38.53632723 38.87512941 39.06085897 39.10340496 39.20798525\n",
            " 39.315167   39.45191597 39.62309426 39.72581267 39.99247109 40.17142951\n",
            " 40.99306417 41.53112346 41.8830222  42.00520388 42.22388524 42.62955209\n",
            " 42.87806724 43.22528536 43.82058688 43.97786438 43.9645686  44.25614983\n",
            " 44.29037306 44.61954176 44.63566802 44.8014908  44.87201034 45.19951232\n",
            " 45.37735289 45.39974212 45.73019254 45.92169926 45.85522881 46.51831639\n",
            " 46.6132745  47.07692325 47.18251148 47.43595764 47.44551924 47.61180692\n",
            " 47.82184759 48.15913602 48.26818591 48.66084296 48.80715671 48.94379008\n",
            " 49.21751235 49.57167283 49.94144475 50.07171472 50.3493327  50.69500996\n",
            " 50.79525753 50.87703206 51.04493626 51.25166432 51.22526819 51.23086815\n",
            " 51.4485557  51.86705299 51.89207995 51.86849021 52.17420511 52.40991751\n",
            " 52.77088122 53.25884497 53.24396438 53.27605289 53.52251672 53.83611579\n",
            " 54.11144061 54.20314047 54.26688669 54.31808674 54.57743547]\n"
          ]
        },
        {
          "name": "stderr",
          "output_type": "stream",
          "text": [
            "\n",
            "GP-UCB Experiments:   0%|          | 0/10 [00:00<?, ?it/s]\u001b[A\n",
            "GP-UCB Experiments:  10%|█         | 1/10 [00:21<03:09, 21.03s/it]\u001b[A\n",
            "GP-UCB Experiments:  20%|██        | 2/10 [00:43<02:54, 21.79s/it]\u001b[A\n",
            "GP-UCB Experiments:  30%|███       | 3/10 [01:05<02:33, 21.94s/it]\u001b[A\n",
            "GP-UCB Experiments:  40%|████      | 4/10 [01:28<02:13, 22.21s/it]\u001b[A\n",
            "GP-UCB Experiments:  50%|█████     | 5/10 [01:49<01:48, 21.79s/it]\u001b[A\n",
            "GP-UCB Experiments:  60%|██████    | 6/10 [02:11<01:27, 21.95s/it]\u001b[A\n",
            "GP-UCB Experiments:  70%|███████   | 7/10 [02:33<01:05, 21.90s/it]\u001b[A\n",
            "GP-UCB Experiments:  80%|████████  | 8/10 [02:54<00:43, 21.86s/it]\u001b[A\n",
            "GP-UCB Experiments:  90%|█████████ | 9/10 [03:15<00:21, 21.48s/it]\u001b[A\n",
            "GP-UCB Experiments: 100%|██████████| 10/10 [03:37<00:00, 21.77s/it]\n",
            "Dimension of Kernel Used:  33%|███▎      | 9/27 [21:55<54:53, 182.99s/it]"
          ]
        },
        {
          "name": "stdout",
          "output_type": "stream",
          "text": [
            "[ 3.09668098  7.0384705  10.15612885 13.590834   16.46148843 19.17480619\n",
            " 22.0838263  24.27885531 25.48060214 26.61680967 27.87991052 28.50833175\n",
            " 28.87446589 29.27578977 29.62946439 29.99637645 30.28919677 30.26394761\n",
            " 30.71911718 30.88037712 30.89296793 31.04993804 31.10426823 31.25201127\n",
            " 31.32163552 31.33496173 31.04922347 31.09902999 31.22393113 31.39119092\n",
            " 31.28821116 31.77520725 31.80331083 31.78385463 31.95363717 31.87511703\n",
            " 31.84993573 31.8883744  32.09465085 32.14182111 32.19155902 32.2034725\n",
            " 32.58941756 32.88157798 32.80304876 32.61328613 32.6607392  32.69277995\n",
            " 32.79151561 32.80220445 32.73758054 32.83385316 32.80487921 32.611901\n",
            " 32.67150485 32.76082344 32.80390243 32.74408443 32.72941861 32.61492526\n",
            " 32.5661414  32.71812622 32.67024731 32.80045017 32.93445449 33.03042352\n",
            " 32.79394307 32.69310612 32.7169971  32.58330828 32.66949313 32.51384355\n",
            " 32.79758412 32.85800209 32.89813431 32.94142873 32.91490133 32.83338181\n",
            " 32.89751403 32.95585106 33.07882461 32.92045496 32.94520039 32.87328234\n",
            " 32.84646554 32.64469444 32.61907791 32.59300323 32.802423   32.79602232\n",
            " 32.8840144  32.65654804 32.64671465 32.63222866 32.58337262 32.7875417\n",
            " 32.67853595 32.62501556 32.78027501 32.75920117 32.95492534]\n"
          ]
        },
        {
          "name": "stderr",
          "output_type": "stream",
          "text": [
            "\n",
            "GP-UCB Experiments:   0%|          | 0/10 [00:00<?, ?it/s]\u001b[A\n",
            "GP-UCB Experiments:  10%|█         | 1/10 [00:22<03:18, 22.03s/it]\u001b[A\n",
            "GP-UCB Experiments:  20%|██        | 2/10 [00:44<02:56, 22.11s/it]\u001b[A\n",
            "GP-UCB Experiments:  30%|███       | 3/10 [01:05<02:31, 21.59s/it]\u001b[A\n",
            "GP-UCB Experiments:  40%|████      | 4/10 [01:27<02:10, 21.78s/it]\u001b[A\n",
            "GP-UCB Experiments:  50%|█████     | 5/10 [01:49<01:49, 21.89s/it]\u001b[A\n",
            "GP-UCB Experiments:  60%|██████    | 6/10 [02:11<01:27, 21.93s/it]\u001b[A\n",
            "GP-UCB Experiments:  70%|███████   | 7/10 [02:33<01:06, 22.11s/it]\u001b[A\n",
            "GP-UCB Experiments:  80%|████████  | 8/10 [02:55<00:44, 22.03s/it]\u001b[A\n",
            "GP-UCB Experiments:  90%|█████████ | 9/10 [03:18<00:22, 22.18s/it]\u001b[A\n",
            "GP-UCB Experiments: 100%|██████████| 10/10 [03:40<00:00, 22.07s/it]\n",
            "Dimension of Kernel Used:  37%|███▋      | 10/27 [25:36<55:08, 194.63s/it]"
          ]
        },
        {
          "name": "stdout",
          "output_type": "stream",
          "text": [
            "[ 3.77638288  7.36668453 10.40090227 12.87779525 15.67804382 18.70774912\n",
            " 21.84258143 23.43715498 25.63358909 28.84850143 29.39251665 30.66605197\n",
            " 30.93255822 31.41980677 31.65479608 31.98277805 32.0157467  32.28572359\n",
            " 32.31299312 32.92815294 33.0255655  32.64304107 33.13489527 33.09727973\n",
            " 33.13782837 33.08603738 33.13073821 33.02798698 33.06204199 32.8036156\n",
            " 32.63278549 32.85918501 32.74724826 32.39202908 32.48812361 32.41414908\n",
            " 32.7876897  32.94739783 33.25466976 33.11490598 33.24909757 33.058643\n",
            " 33.06798414 32.9740209  33.03515274 33.14214835 32.89119376 32.87097568\n",
            " 32.67372281 32.6420705  32.8014205  32.9835182  32.63497093 32.3134278\n",
            " 32.18804916 32.00458395 31.86901799 31.86510642 31.73246416 31.68452494\n",
            " 31.49485141 31.3889109  31.41006317 31.28350317 31.03315554 30.80598011\n",
            " 30.66803494 30.60800269 30.42097292 30.24323921 30.18466927 30.1966349\n",
            " 29.89177974 29.73653939 29.73234922 29.78138398 29.83933661 29.82915273\n",
            " 29.60713443 29.5221234  29.5895386  29.58881703 29.60961748 29.12474079\n",
            " 28.98619874 28.94824234 28.99237333 28.88397374 28.92464819 28.71183165\n",
            " 28.68259016 28.45862312 28.4355395  28.43576976 28.36390409 28.19044084\n",
            " 28.00587833 28.11734269 27.97217471 28.16202902 28.19962033]\n"
          ]
        },
        {
          "name": "stderr",
          "output_type": "stream",
          "text": [
            "\n",
            "GP-UCB Experiments:   0%|          | 0/10 [00:00<?, ?it/s]\u001b[A\n",
            "GP-UCB Experiments:  10%|█         | 1/10 [00:25<03:46, 25.13s/it]\u001b[A\n",
            "GP-UCB Experiments:  20%|██        | 2/10 [00:50<03:20, 25.06s/it]\u001b[A\n",
            "GP-UCB Experiments:  30%|███       | 3/10 [01:15<02:55, 25.12s/it]\u001b[A\n",
            "GP-UCB Experiments:  40%|████      | 4/10 [01:40<02:30, 25.16s/it]\u001b[A\n",
            "GP-UCB Experiments:  50%|█████     | 5/10 [02:05<02:05, 25.03s/it]\u001b[A\n",
            "GP-UCB Experiments:  60%|██████    | 6/10 [02:30<01:40, 25.02s/it]\u001b[A\n",
            "GP-UCB Experiments:  70%|███████   | 7/10 [02:55<01:15, 25.13s/it]\u001b[A\n",
            "GP-UCB Experiments:  80%|████████  | 8/10 [03:21<00:50, 25.26s/it]\u001b[A\n",
            "GP-UCB Experiments:  90%|█████████ | 9/10 [03:47<00:25, 25.60s/it]\u001b[A\n",
            "GP-UCB Experiments: 100%|██████████| 10/10 [04:15<00:00, 25.51s/it]\n",
            "Dimension of Kernel Used:  41%|████      | 11/27 [29:51<56:50, 213.14s/it]"
          ]
        },
        {
          "name": "stdout",
          "output_type": "stream",
          "text": [
            "[ 3.46906116  6.83926638 10.01149344 13.30944147 15.57631134 18.39947624\n",
            " 21.78299661 23.71697993 26.38222401 28.23260944 29.98224973 32.05288572\n",
            " 33.08784318 32.89947905 33.31274321 33.51766969 34.12673036 34.02214898\n",
            " 34.6209874  34.46978394 34.50488178 34.65313613 34.7563324  35.0588491\n",
            " 35.42880042 35.47511616 35.51127049 35.49577511 35.46770282 35.44143678\n",
            " 35.42254128 35.45035676 35.7913898  36.03728156 36.32841386 36.37266209\n",
            " 36.38234453 36.46563292 36.40902024 36.34033032 36.37596382 36.47880346\n",
            " 36.48407678 36.30428977 36.4101661  36.51553194 36.39681577 36.19003813\n",
            " 36.21487457 36.10875889 36.29236665 36.31769885 36.25035603 36.15670536\n",
            " 36.47450017 36.44505604 36.29862277 36.19963355 36.0814058  36.11169726\n",
            " 35.93046753 36.05456876 35.85189646 35.96479653 35.91503802 35.79666648\n",
            " 35.85445772 35.88990958 35.68120577 35.52598155 35.42315475 35.1961336\n",
            " 35.15644912 35.2241834  34.90248195 34.61355275 34.43973866 34.3107768\n",
            " 34.51956633 34.40287953 34.19284133 34.12784215 34.01285071 34.08763201\n",
            " 34.26461461 34.39318728 34.23286974 34.26165834 34.23478647 34.16206474\n",
            " 34.31225349 34.11149881 34.07602571 34.20461031 33.99519586 34.09856758\n",
            " 34.02204452 34.16257467 34.11792697 34.32757944 34.07529454]\n"
          ]
        },
        {
          "name": "stderr",
          "output_type": "stream",
          "text": [
            "\n",
            "GP-UCB Experiments:   0%|          | 0/10 [00:00<?, ?it/s]\u001b[A\n",
            "GP-UCB Experiments:  10%|█         | 1/10 [00:27<04:08, 27.58s/it]\u001b[A\n",
            "GP-UCB Experiments:  20%|██        | 2/10 [00:54<03:38, 27.31s/it]\u001b[A\n",
            "GP-UCB Experiments:  30%|███       | 3/10 [01:20<03:06, 26.68s/it]\u001b[A\n",
            "GP-UCB Experiments:  40%|████      | 4/10 [01:46<02:37, 26.19s/it]\u001b[A\n",
            "GP-UCB Experiments:  50%|█████     | 5/10 [02:11<02:08, 25.78s/it]\u001b[A\n",
            "GP-UCB Experiments:  60%|██████    | 6/10 [02:35<01:41, 25.46s/it]\u001b[A\n",
            "GP-UCB Experiments:  70%|███████   | 7/10 [03:00<01:15, 25.23s/it]\u001b[A\n",
            "GP-UCB Experiments:  80%|████████  | 8/10 [03:26<00:50, 25.27s/it]\u001b[A\n",
            "GP-UCB Experiments:  90%|█████████ | 9/10 [03:51<00:25, 25.24s/it]\u001b[A\n",
            "GP-UCB Experiments: 100%|██████████| 10/10 [04:16<00:00, 25.66s/it]\n",
            "Dimension of Kernel Used:  44%|████▍     | 12/27 [34:07<56:35, 226.35s/it]"
          ]
        },
        {
          "name": "stdout",
          "output_type": "stream",
          "text": [
            "[ 3.67182777  7.58970293 10.86027352 13.59748717 17.00172463 19.83676445\n",
            " 23.45674003 26.0421678  28.10474733 31.26306854 32.62663694 34.44937103\n",
            " 35.21553067 35.81234041 36.673287   37.09014614 37.26467234 37.41135544\n",
            " 37.64938205 37.98040096 38.22491616 38.1545783  38.1708054  38.61157765\n",
            " 38.65898167 38.83675914 39.02512984 39.23184607 39.10303955 39.24102829\n",
            " 39.64078519 39.68256196 40.02198416 40.0793525  40.37726261 40.47931436\n",
            " 40.3326264  40.29328119 40.3208137  40.56890042 40.57984653 40.76088944\n",
            " 40.7852751  40.76291386 40.7798296  40.82867013 40.65564162 40.50979088\n",
            " 40.62787817 40.74147414 40.90657293 41.29547894 41.58861326 41.51864496\n",
            " 41.72796518 42.12514672 42.27057334 42.11628855 42.29893882 42.17509538\n",
            " 42.4698832  42.25041498 42.27310643 42.45088567 42.65098433 43.05111947\n",
            " 42.97418281 43.05853568 43.05510618 43.18152667 43.17046178 43.20539569\n",
            " 43.37244901 43.35828714 43.18459188 43.20127361 43.06968355 42.99958346\n",
            " 42.88439407 43.22465431 43.13948234 43.11340087 43.01702312 43.22373304\n",
            " 43.33794491 43.62338598 43.83265719 43.80876737 43.93322078 43.9456394\n",
            " 44.05448065 44.08390949 44.40287623 44.67148335 44.65198656 44.87175988\n",
            " 44.90739158 45.17827477 45.05715532 45.36382157 45.41602146]\n"
          ]
        },
        {
          "name": "stderr",
          "output_type": "stream",
          "text": [
            "\n",
            "GP-UCB Experiments:   0%|          | 0/10 [00:00<?, ?it/s]\u001b[A\n",
            "GP-UCB Experiments:  10%|█         | 1/10 [00:29<04:24, 29.43s/it]\u001b[A\n",
            "GP-UCB Experiments:  20%|██        | 2/10 [00:58<03:56, 29.51s/it]\u001b[A\n",
            "GP-UCB Experiments:  30%|███       | 3/10 [01:27<03:23, 29.11s/it]\u001b[A\n",
            "GP-UCB Experiments:  40%|████      | 4/10 [01:56<02:53, 28.86s/it]\u001b[A\n",
            "GP-UCB Experiments:  50%|█████     | 5/10 [02:25<02:26, 29.22s/it]\u001b[A\n",
            "GP-UCB Experiments:  60%|██████    | 6/10 [02:54<01:56, 29.02s/it]\u001b[A\n",
            "GP-UCB Experiments:  70%|███████   | 7/10 [03:23<01:26, 28.94s/it]\u001b[A\n",
            "GP-UCB Experiments:  80%|████████  | 8/10 [03:52<00:58, 29.11s/it]\u001b[A\n",
            "GP-UCB Experiments:  90%|█████████ | 9/10 [04:21<00:28, 28.86s/it]\u001b[A\n",
            "GP-UCB Experiments: 100%|██████████| 10/10 [04:50<00:00, 29.02s/it]\n",
            "Dimension of Kernel Used:  48%|████▊     | 13/27 [38:57<57:19, 245.71s/it]"
          ]
        },
        {
          "name": "stdout",
          "output_type": "stream",
          "text": [
            "[ 3.59159138  6.33166125  9.31472691 11.50394184 13.720384   15.24703371\n",
            " 17.5442344  19.81029314 21.85316821 23.75799535 25.74369088 28.25601607\n",
            " 30.89768897 33.33245408 34.74722012 35.93799791 36.27140883 36.56954375\n",
            " 37.15330061 37.90412905 37.83150234 38.38264243 38.63376336 38.63114367\n",
            " 38.83761545 39.31722928 39.44471902 39.4894317  39.39823731 39.44867792\n",
            " 39.59289297 39.90590499 39.86742571 40.26265404 40.14652951 40.16358854\n",
            " 40.58943414 40.80621104 40.73697808 40.81724969 40.96479722 41.10866621\n",
            " 41.30252221 41.52387348 41.45799867 41.71442589 41.79724068 42.11837309\n",
            " 42.41931488 42.67379342 42.70793313 43.07922401 43.18991241 43.14715333\n",
            " 43.2571031  43.5266659  43.38513328 43.61463883 43.49972873 44.11405395\n",
            " 44.27454234 44.51284151 44.66612821 45.07782866 45.32271494 45.3024664\n",
            " 45.54843202 45.53692098 45.50578293 45.64239652 45.7665629  45.89279942\n",
            " 46.29930509 46.38450488 46.45110984 46.70462222 46.51157044 46.56212084\n",
            " 46.69975777 46.97752617 46.79089842 46.80248427 46.86014087 46.92940275\n",
            " 47.11954029 46.98889446 47.12956337 47.2311805  47.2140198  47.31086036\n",
            " 47.43778397 47.55809282 47.95009453 48.00000524 47.91427275 48.30237093\n",
            " 48.44062659 48.70105634 48.7413006  48.7312061  48.59788297]\n"
          ]
        },
        {
          "name": "stderr",
          "output_type": "stream",
          "text": [
            "\n",
            "GP-UCB Experiments:   0%|          | 0/10 [00:00<?, ?it/s]\u001b[A\n",
            "GP-UCB Experiments:  10%|█         | 1/10 [00:29<04:27, 29.78s/it]\u001b[A\n",
            "GP-UCB Experiments:  20%|██        | 2/10 [00:59<03:55, 29.46s/it]\u001b[A\n",
            "GP-UCB Experiments:  30%|███       | 3/10 [01:28<03:26, 29.57s/it]\u001b[A\n",
            "GP-UCB Experiments:  40%|████      | 4/10 [01:57<02:54, 29.07s/it]\u001b[A\n",
            "GP-UCB Experiments:  50%|█████     | 5/10 [02:25<02:23, 28.80s/it]\u001b[A\n",
            "GP-UCB Experiments:  60%|██████    | 6/10 [02:54<01:55, 28.89s/it]\u001b[A\n",
            "GP-UCB Experiments:  70%|███████   | 7/10 [03:23<01:27, 29.03s/it]\u001b[A\n",
            "GP-UCB Experiments:  80%|████████  | 8/10 [03:52<00:57, 28.81s/it]\u001b[A\n",
            "GP-UCB Experiments:  90%|█████████ | 9/10 [04:21<00:28, 28.86s/it]\u001b[A\n",
            "GP-UCB Experiments: 100%|██████████| 10/10 [04:49<00:00, 28.94s/it]\n",
            "Dimension of Kernel Used:  52%|█████▏    | 14/27 [43:47<56:05, 258.91s/it]"
          ]
        },
        {
          "name": "stdout",
          "output_type": "stream",
          "text": [
            "[ 4.12828575  7.90635066 10.58916037 13.52903032 17.02007639 19.8245636\n",
            " 22.92512009 25.11616394 27.0051887  28.00620078 30.92550617 32.70783591\n",
            " 35.21873231 37.98965276 38.77666235 39.67943036 39.99462482 40.24792792\n",
            " 40.57043353 40.85666257 41.24191842 41.53435862 42.13299117 42.44614366\n",
            " 42.70409401 43.02922616 43.61291647 43.86689677 44.29076397 44.38724462\n",
            " 44.65992704 44.93811363 45.07705408 45.55452531 45.66200135 45.80086859\n",
            " 46.25562269 46.5857268  46.81961367 47.10578035 47.35000566 47.5186941\n",
            " 47.62754621 47.95134304 48.31018283 48.57211461 48.65523849 48.77572232\n",
            " 49.49578327 49.78747273 50.09753429 50.35422094 50.49436792 50.87981076\n",
            " 51.20565925 51.54453484 51.91966892 52.12617033 52.21235898 52.25364375\n",
            " 52.46434597 52.59979111 52.84499193 53.14276511 53.29695575 53.62056307\n",
            " 53.85517149 54.31598952 54.66120012 55.05179404 55.10284155 55.49263574\n",
            " 55.61199811 55.95937705 56.0703365  56.27364251 56.69034633 57.04921207\n",
            " 57.19570139 57.25829983 57.63535964 58.01470751 58.14894697 58.50645576\n",
            " 58.55129589 58.7369774  59.00558643 59.69585421 59.95543781 60.17329485\n",
            " 60.34308466 60.7422891  61.05301565 61.33182767 61.5248644  61.73054453\n",
            " 62.04771157 62.29644339 62.69533154 62.91200084 63.0707789 ]\n"
          ]
        },
        {
          "name": "stderr",
          "output_type": "stream",
          "text": [
            "\n",
            "GP-UCB Experiments:   0%|          | 0/10 [00:00<?, ?it/s]\u001b[A\n",
            "GP-UCB Experiments:  10%|█         | 1/10 [00:31<04:40, 31.22s/it]\u001b[A\n",
            "GP-UCB Experiments:  20%|██        | 2/10 [01:04<04:20, 32.58s/it]\u001b[A\n",
            "GP-UCB Experiments:  30%|███       | 3/10 [01:37<03:48, 32.64s/it]\u001b[A\n",
            "GP-UCB Experiments:  40%|████      | 4/10 [02:08<03:11, 31.99s/it]\u001b[A\n",
            "GP-UCB Experiments:  50%|█████     | 5/10 [02:40<02:39, 32.00s/it]\u001b[A\n",
            "GP-UCB Experiments:  60%|██████    | 6/10 [03:12<02:07, 31.86s/it]\u001b[A\n",
            "GP-UCB Experiments:  70%|███████   | 7/10 [03:44<01:35, 31.99s/it]\u001b[A\n",
            "GP-UCB Experiments:  80%|████████  | 8/10 [04:15<01:03, 31.77s/it]\u001b[A\n",
            "GP-UCB Experiments:  90%|█████████ | 9/10 [04:47<00:31, 31.86s/it]\u001b[A\n",
            "GP-UCB Experiments: 100%|██████████| 10/10 [05:20<00:00, 32.04s/it]\n",
            "Dimension of Kernel Used:  56%|█████▌    | 15/27 [49:07<55:29, 277.43s/it]"
          ]
        },
        {
          "name": "stdout",
          "output_type": "stream",
          "text": [
            "[ 3.73164248  7.05355388 10.05352274 12.86031721 15.95609697 18.99761555\n",
            " 20.98897089 23.09004951 25.85338464 29.00191852 30.49344995 32.00199048\n",
            " 33.65766047 34.53911815 37.06372221 39.1181506  39.56018229 39.91877418\n",
            " 40.10690613 40.68832346 41.01298312 40.98272801 41.13373197 41.71837102\n",
            " 41.84296598 42.16728911 42.94407541 43.07791906 43.22703323 43.87013492\n",
            " 44.11579867 44.26985765 44.35656968 44.38196573 44.49852916 44.5097268\n",
            " 44.45238271 44.39716062 44.53951686 44.84995438 45.1236533  45.19036627\n",
            " 45.43549723 45.50445664 45.766455   45.63568381 45.98111225 46.05753239\n",
            " 46.44965165 46.43257395 46.74117962 46.80413582 46.79348047 46.63727573\n",
            " 47.06418156 47.33603933 47.6031733  48.04229134 48.22263383 48.50954414\n",
            " 48.60073794 48.94558056 49.03865993 48.92146273 49.14184295 49.04320484\n",
            " 49.21490231 49.33411128 49.50953357 49.55349048 49.5770042  49.8348125\n",
            " 50.27025817 50.54058635 50.71943911 50.86840539 51.05356516 51.1672842\n",
            " 51.32860894 51.50748645 51.63161104 51.55715749 51.4294362  51.87426003\n",
            " 51.89602806 52.06855326 52.27854654 52.43735051 52.79666431 52.80291205\n",
            " 53.08331396 53.29838785 53.38052276 53.56869074 53.66631544 53.54112008\n",
            " 53.87590642 53.80382227 54.04959758 54.54568725 54.69800428]\n"
          ]
        },
        {
          "name": "stderr",
          "output_type": "stream",
          "text": [
            "\n",
            "GP-UCB Experiments:   0%|          | 0/10 [00:00<?, ?it/s]\u001b[A\n",
            "GP-UCB Experiments:  10%|█         | 1/10 [00:31<04:42, 31.40s/it]\u001b[A\n",
            "GP-UCB Experiments:  20%|██        | 2/10 [01:04<04:20, 32.61s/it]\u001b[A\n",
            "GP-UCB Experiments:  30%|███       | 3/10 [01:36<03:45, 32.17s/it]\u001b[A\n",
            "GP-UCB Experiments:  40%|████      | 4/10 [02:08<03:12, 32.08s/it]\u001b[A\n",
            "GP-UCB Experiments:  50%|█████     | 5/10 [02:39<02:39, 31.84s/it]\u001b[A\n",
            "GP-UCB Experiments:  60%|██████    | 6/10 [03:11<02:07, 31.91s/it]\u001b[A\n",
            "GP-UCB Experiments:  70%|███████   | 7/10 [03:43<01:35, 31.95s/it]\u001b[A\n",
            "GP-UCB Experiments:  80%|████████  | 8/10 [04:15<01:03, 31.69s/it]\u001b[A\n",
            "GP-UCB Experiments:  90%|█████████ | 9/10 [04:47<00:31, 31.86s/it]\u001b[A\n",
            "GP-UCB Experiments: 100%|██████████| 10/10 [05:18<00:00, 31.87s/it]\n",
            "Dimension of Kernel Used:  59%|█████▉    | 16/27 [54:26<53:08, 289.85s/it]"
          ]
        },
        {
          "name": "stdout",
          "output_type": "stream",
          "text": [
            "[ 3.3687655   6.95730297 10.16992608 13.02344884 15.75408284 17.37269735\n",
            " 20.15014738 21.88021369 22.66897228 24.207349   24.92604535 25.81620834\n",
            " 27.30247782 28.63388433 31.22393628 33.33210813 34.28358665 34.82807052\n",
            " 35.03035693 35.42757457 35.46975839 35.39215711 35.49431591 35.15420575\n",
            " 34.92094721 34.74517758 34.62660395 34.44382411 34.39160605 34.31018255\n",
            " 34.2407469  34.44970402 34.42462763 34.63875875 34.4866076  34.35823691\n",
            " 34.27967113 34.00696264 34.00618934 33.88187636 33.52119542 33.26232056\n",
            " 32.99789008 32.91694153 32.70986009 32.76118841 32.59846686 32.51930474\n",
            " 32.34229403 32.09126997 31.94475512 31.91067102 32.08552881 32.1856408\n",
            " 32.13258031 32.03827771 31.96155564 31.61235156 31.59762359 31.44896942\n",
            " 31.53017169 31.70967113 31.43480849 31.31064231 31.05931079 31.11607116\n",
            " 30.98098736 30.88133493 30.6950334  30.50753624 30.19401488 30.15728805\n",
            " 29.8926761  29.60772309 29.60257927 29.3942531  29.21668691 29.12958821\n",
            " 28.80778379 29.03761776 28.97971509 28.90955492 28.71483075 28.57787304\n",
            " 28.34288012 28.277594   28.26900653 28.25012647 28.13492724 27.91568285\n",
            " 27.7041478  27.36816123 27.22451448 26.95621629 26.96916482 26.7967695\n",
            " 26.5386865  26.67074874 26.6633453  26.47609752 26.1488915 ]\n"
          ]
        },
        {
          "name": "stderr",
          "output_type": "stream",
          "text": [
            "\n",
            "GP-UCB Experiments:   0%|          | 0/10 [00:00<?, ?it/s]\u001b[A\n",
            "GP-UCB Experiments:  10%|█         | 1/10 [00:36<05:24, 36.07s/it]\u001b[A\n",
            "GP-UCB Experiments:  20%|██        | 2/10 [01:10<04:42, 35.30s/it]\u001b[A\n",
            "GP-UCB Experiments:  30%|███       | 3/10 [01:45<04:06, 35.18s/it]\u001b[A\n",
            "GP-UCB Experiments:  40%|████      | 4/10 [02:20<03:30, 35.14s/it]\u001b[A\n",
            "GP-UCB Experiments:  50%|█████     | 5/10 [02:55<02:54, 34.81s/it]\u001b[A\n",
            "GP-UCB Experiments:  60%|██████    | 6/10 [03:29<02:18, 34.71s/it]\u001b[A\n",
            "GP-UCB Experiments:  70%|███████   | 7/10 [04:04<01:44, 34.72s/it]\u001b[A\n",
            "GP-UCB Experiments:  80%|████████  | 8/10 [04:39<01:09, 34.86s/it]\u001b[A\n",
            "GP-UCB Experiments:  90%|█████████ | 9/10 [05:14<00:34, 34.92s/it]\u001b[A\n",
            "GP-UCB Experiments: 100%|██████████| 10/10 [05:50<00:00, 35.04s/it]\n",
            "Dimension of Kernel Used:  63%|██████▎   | 17/27 [1:00:16<51:20, 308.06s/it]"
          ]
        },
        {
          "name": "stdout",
          "output_type": "stream",
          "text": [
            "[ 3.51649066  6.67761175  9.63007798 12.83334027 15.24134407 17.93263228\n",
            " 20.93230595 22.89779282 25.28308972 25.8847034  26.59488724 27.65627115\n",
            " 28.47723769 29.85847949 31.96884572 33.9019535  36.54400301 38.74420848\n",
            " 39.39235043 39.24643645 39.30666973 38.96322836 38.7197145  38.89188265\n",
            " 38.98231232 38.94597916 38.96449553 39.17939029 39.55761223 39.44647295\n",
            " 39.34574462 39.55979205 39.58218513 39.37953876 39.32752477 39.20530136\n",
            " 39.17734824 39.14049149 38.97573063 38.86045995 38.54801054 38.64263081\n",
            " 38.37641717 38.57803238 38.57870261 38.27196889 38.25617479 37.94770472\n",
            " 37.70388341 37.63117568 37.74463123 37.85618615 37.71647987 37.71616379\n",
            " 37.57493881 37.44759939 37.17679995 36.83925644 36.82563759 36.58370786\n",
            " 36.39522034 36.07265204 35.97985151 35.85993281 35.62442082 35.68184304\n",
            " 35.39019157 35.21304218 35.02555093 34.80854369 34.9494756  34.84530303\n",
            " 34.85037458 34.57128306 34.58319729 34.53682159 34.25744502 34.07737328\n",
            " 34.03056252 34.00932742 33.74976078 33.64070101 33.50348694 33.33494107\n",
            " 33.13603003 33.00711275 32.79615564 32.55543777 32.29796353 32.46887939\n",
            " 32.37881202 32.31621817 32.4294498  32.38742419 32.43843566 32.34974723\n",
            " 32.19981337 31.96074886 31.74876299 31.64247785 31.78760991]\n"
          ]
        },
        {
          "name": "stderr",
          "output_type": "stream",
          "text": [
            "\n",
            "GP-UCB Experiments:   0%|          | 0/10 [00:00<?, ?it/s]\u001b[A\n",
            "GP-UCB Experiments:  10%|█         | 1/10 [00:34<05:09, 34.35s/it]\u001b[A\n",
            "GP-UCB Experiments:  20%|██        | 2/10 [01:09<04:36, 34.53s/it]\u001b[A\n",
            "GP-UCB Experiments:  30%|███       | 3/10 [01:44<04:03, 34.75s/it]\u001b[A\n",
            "GP-UCB Experiments:  40%|████      | 4/10 [02:18<03:28, 34.77s/it]\u001b[A\n",
            "GP-UCB Experiments:  50%|█████     | 5/10 [02:52<02:52, 34.47s/it]\u001b[A\n",
            "GP-UCB Experiments:  60%|██████    | 6/10 [03:26<02:17, 34.32s/it]\u001b[A\n",
            "GP-UCB Experiments:  70%|███████   | 7/10 [04:01<01:43, 34.46s/it]\u001b[A\n",
            "GP-UCB Experiments:  80%|████████  | 8/10 [04:36<01:09, 34.66s/it]\u001b[A\n",
            "GP-UCB Experiments:  90%|█████████ | 9/10 [05:13<00:35, 35.27s/it]\u001b[A\n",
            "GP-UCB Experiments: 100%|██████████| 10/10 [05:47<00:00, 34.73s/it]\n",
            "Dimension of Kernel Used:  67%|██████▋   | 18/27 [1:06:04<47:58, 319.87s/it]"
          ]
        },
        {
          "name": "stdout",
          "output_type": "stream",
          "text": [
            "[ 4.11373474  7.90550952 11.68660164 15.0590409  17.54191181 20.39495112\n",
            " 23.17860647 25.11497776 27.06634375 28.35225802 30.49444537 31.68987826\n",
            " 33.27102638 34.89738872 36.48722546 39.33487907 41.66238604 44.77074974\n",
            " 44.82265063 44.8305318  45.7499553  45.61315946 46.03748255 46.64393758\n",
            " 46.52287097 46.85458488 46.82023797 46.69097939 46.75039695 46.8052106\n",
            " 46.93688607 47.11545218 46.96005505 47.10309309 47.51301415 47.6014702\n",
            " 47.78926862 47.71541323 47.61471056 47.7414522  47.77252918 47.76667609\n",
            " 47.73080146 47.70212778 47.74184508 47.97360917 48.10939025 48.21622236\n",
            " 48.15144228 48.08535709 48.66688445 48.74225051 48.90525493 49.00972201\n",
            " 49.35163026 49.40516923 49.37201481 49.57710623 49.55283114 49.518655\n",
            " 49.72078408 49.6904217  49.67289533 49.91180177 49.99142049 50.20962138\n",
            " 50.20061933 50.10181742 50.24414757 50.16467049 50.27507679 50.28938441\n",
            " 50.41083784 50.53084246 50.62344273 50.75419358 50.79413542 50.8600412\n",
            " 50.82891766 51.06085095 51.13634874 51.23537578 51.28869826 51.3818483\n",
            " 51.39143177 51.22767589 51.32568884 51.36564261 51.22529284 51.01826753\n",
            " 51.02037878 51.21491843 51.36415378 51.38579549 51.37986457 51.24883154\n",
            " 51.2402623  51.24018886 51.39956375 51.65537948 51.58430226]\n"
          ]
        },
        {
          "name": "stderr",
          "output_type": "stream",
          "text": [
            "\n",
            "GP-UCB Experiments:   0%|          | 0/10 [00:00<?, ?it/s]\u001b[A\n",
            "GP-UCB Experiments:  10%|█         | 1/10 [00:38<05:44, 38.32s/it]\u001b[A\n",
            "GP-UCB Experiments:  20%|██        | 2/10 [01:16<05:07, 38.41s/it]\u001b[A\n",
            "GP-UCB Experiments:  30%|███       | 3/10 [01:54<04:26, 38.01s/it]\u001b[A\n",
            "GP-UCB Experiments:  40%|████      | 4/10 [02:31<03:47, 37.86s/it]\u001b[A\n",
            "GP-UCB Experiments:  50%|█████     | 5/10 [03:09<03:09, 37.83s/it]\u001b[A\n",
            "GP-UCB Experiments:  60%|██████    | 6/10 [03:47<02:30, 37.72s/it]\u001b[A\n",
            "GP-UCB Experiments:  70%|███████   | 7/10 [04:26<01:54, 38.10s/it]\u001b[A\n",
            "GP-UCB Experiments:  80%|████████  | 8/10 [05:03<01:15, 37.91s/it]\u001b[A\n",
            "GP-UCB Experiments:  90%|█████████ | 9/10 [05:41<00:37, 37.86s/it]\u001b[A\n",
            "GP-UCB Experiments: 100%|██████████| 10/10 [06:19<00:00, 37.92s/it]\n",
            "Dimension of Kernel Used:  70%|███████   | 19/27 [1:12:23<45:01, 337.68s/it]"
          ]
        },
        {
          "name": "stdout",
          "output_type": "stream",
          "text": [
            "[ 3.81058021  7.24548182 10.4392745  13.1799724  15.43798452 18.14679322\n",
            " 19.81753481 21.75938519 23.19764608 24.64191649 26.33544106 27.33855865\n",
            " 28.66357789 29.93940398 30.78981668 32.27821517 33.74560999 34.08216478\n",
            " 34.4967982  35.25665911 35.61367293 36.03075436 36.67236297 36.94462834\n",
            " 36.93419362 37.66166562 39.05162521 39.07949285 39.14893951 39.14082748\n",
            " 39.37924641 39.6954787  39.85701514 39.88583019 40.38686386 40.27016868\n",
            " 40.12828261 40.16387366 40.47693316 40.92493777 41.16125366 41.01287344\n",
            " 41.23024412 41.40617413 41.27498111 41.48015123 41.34261366 41.37925669\n",
            " 41.37054357 41.38392897 41.51335038 41.73424711 41.80778553 41.7934349\n",
            " 41.68542661 41.94549089 41.98677762 41.86989168 42.06537845 42.10830513\n",
            " 42.26304987 42.34698148 42.47782176 42.24574653 42.12517055 42.17898416\n",
            " 42.25448727 42.01134356 41.93529333 42.27259186 42.5137639  42.54157355\n",
            " 42.88852615 42.83503474 42.63307937 42.49727057 42.35078348 42.35331471\n",
            " 42.25435101 42.17548041 42.46013947 42.42895924 42.59246515 42.52391328\n",
            " 42.57384914 42.69231447 42.77076062 42.99062599 42.97976348 43.37716625\n",
            " 43.39577199 43.12175411 43.18167326 43.26866705 43.42540253 43.30660308\n",
            " 43.26414901 43.18571617 43.11820525 43.02684394 43.16717828]\n"
          ]
        },
        {
          "name": "stderr",
          "output_type": "stream",
          "text": [
            "\n",
            "GP-UCB Experiments:   0%|          | 0/10 [00:00<?, ?it/s]\u001b[A\n",
            "GP-UCB Experiments:  10%|█         | 1/10 [00:37<05:36, 37.42s/it]\u001b[A\n",
            "GP-UCB Experiments:  20%|██        | 2/10 [01:14<04:59, 37.43s/it]\u001b[A\n",
            "GP-UCB Experiments:  30%|███       | 3/10 [01:52<04:22, 37.50s/it]\u001b[A\n",
            "GP-UCB Experiments:  40%|████      | 4/10 [02:30<03:45, 37.55s/it]\u001b[A\n",
            "GP-UCB Experiments:  50%|█████     | 5/10 [03:09<03:10, 38.10s/it]\u001b[A\n",
            "GP-UCB Experiments:  60%|██████    | 6/10 [03:47<02:32, 38.16s/it]\u001b[A\n",
            "GP-UCB Experiments:  70%|███████   | 7/10 [04:25<01:54, 38.25s/it]\u001b[A\n",
            "GP-UCB Experiments:  80%|████████  | 8/10 [05:03<01:16, 38.12s/it]\u001b[A\n",
            "GP-UCB Experiments:  90%|█████████ | 9/10 [05:41<00:38, 38.08s/it]\u001b[A\n",
            "GP-UCB Experiments: 100%|██████████| 10/10 [06:19<00:00, 37.95s/it]\n",
            "Dimension of Kernel Used:  74%|███████▍  | 20/27 [1:18:42<40:51, 350.24s/it]"
          ]
        },
        {
          "name": "stdout",
          "output_type": "stream",
          "text": [
            "[ 3.63120312  7.05186919  9.61545911 12.78375823 15.37523297 17.55342748\n",
            " 19.36903447 21.33096576 22.90465947 23.96141452 24.86976131 25.94434339\n",
            " 27.48671738 28.18966907 29.01019062 30.77122592 31.50101442 32.23753107\n",
            " 34.35200456 36.41201357 36.87528106 37.66152546 37.52255093 37.6664731\n",
            " 37.95688449 37.71792165 38.1400799  38.42126612 38.37558184 38.36810751\n",
            " 38.25555217 38.39095615 38.46081625 38.4309164  38.38046012 38.21776197\n",
            " 38.18667918 38.52997327 38.68828792 38.50438869 38.26312246 38.40341363\n",
            " 38.29915226 38.09493607 37.81573622 37.71975749 37.83471533 37.58842685\n",
            " 37.7540889  37.72243885 37.53446516 37.38370163 37.20362029 37.19291596\n",
            " 37.02829391 36.72507341 36.67426912 36.55370845 36.69632054 36.5094661\n",
            " 36.24305055 36.09677986 35.7283689  35.86213183 35.74253954 35.37394109\n",
            " 35.27813331 35.16656109 35.10228531 35.09556996 34.95349568 34.64058786\n",
            " 34.60833731 34.40418189 34.30760941 34.14667364 33.89831913 33.71807226\n",
            " 33.54576951 33.69293748 33.57026345 33.39412886 33.37902829 33.6038842\n",
            " 33.60801882 33.74943782 33.56960112 33.51658298 33.35300032 33.29890856\n",
            " 32.92346196 32.76488892 32.56701074 32.6648783  32.4556799  32.30083411\n",
            " 32.15737053 32.01781011 31.87113644 31.71295358 31.85109518]\n"
          ]
        },
        {
          "name": "stderr",
          "output_type": "stream",
          "text": [
            "\n",
            "GP-UCB Experiments:   0%|          | 0/10 [00:00<?, ?it/s]\u001b[A\n",
            "GP-UCB Experiments:  10%|█         | 1/10 [00:40<06:05, 40.58s/it]\u001b[A\n",
            "GP-UCB Experiments:  20%|██        | 2/10 [01:21<05:24, 40.59s/it]\u001b[A\n",
            "GP-UCB Experiments:  30%|███       | 3/10 [02:04<04:51, 41.64s/it]\u001b[A\n",
            "GP-UCB Experiments:  40%|████      | 4/10 [02:44<04:07, 41.29s/it]\u001b[A\n",
            "GP-UCB Experiments:  50%|█████     | 5/10 [03:25<03:25, 41.05s/it]\u001b[A\n",
            "GP-UCB Experiments:  60%|██████    | 6/10 [04:07<02:45, 41.34s/it]\u001b[A\n",
            "GP-UCB Experiments:  70%|███████   | 7/10 [04:48<02:03, 41.32s/it]\u001b[A\n",
            "GP-UCB Experiments:  80%|████████  | 8/10 [05:29<01:22, 41.13s/it]\u001b[A\n",
            "GP-UCB Experiments:  90%|█████████ | 9/10 [06:11<00:41, 41.44s/it]\u001b[A\n",
            "GP-UCB Experiments: 100%|██████████| 10/10 [06:53<00:00, 41.37s/it]\n",
            "Dimension of Kernel Used:  78%|███████▊  | 21/27 [1:25:36<36:55, 369.30s/it]"
          ]
        },
        {
          "name": "stdout",
          "output_type": "stream",
          "text": [
            "[ 3.33775032  6.50284445  8.72614422 11.10262088 13.33124843 15.42658166\n",
            " 17.15836285 18.82122805 19.79834155 20.81290014 22.19159012 22.83734669\n",
            " 23.76554011 24.62640444 26.03560569 28.47280128 30.03792413 31.49807578\n",
            " 33.50752801 35.76872712 37.46431655 38.18608822 38.90311352 39.71423392\n",
            " 39.80715731 40.3382093  40.04551523 40.15942114 39.93501141 39.8330981\n",
            " 39.75706432 39.72411893 39.36038067 39.34421751 39.01096626 38.66443213\n",
            " 38.38819808 38.36082913 38.29194716 38.2233205  37.9098692  37.57630093\n",
            " 37.69541984 37.97444593 38.06366243 37.89292159 37.42642024 37.30188149\n",
            " 37.18786526 37.11444585 36.83840752 36.47803111 36.14572359 35.9796591\n",
            " 35.64807088 35.59679557 35.67037586 35.53841154 35.28246581 35.14240087\n",
            " 34.85172214 35.06804542 34.67030618 34.50934254 34.27305254 33.91034567\n",
            " 33.84568336 33.58398842 33.51867006 33.23745635 32.92389427 33.01437201\n",
            " 32.76950136 32.75342595 32.68963702 32.42986908 32.33859613 32.04191929\n",
            " 31.88792511 31.48173365 31.06120725 31.07239953 31.06873789 30.93613208\n",
            " 30.59209588 30.43401512 30.01096489 29.68301516 29.37255726 29.138585\n",
            " 28.8610163  28.73454474 28.84094266 28.87178861 28.5350443  28.32690069\n",
            " 28.39884358 28.38028949 28.30908757 27.96680308 27.81743093]\n"
          ]
        },
        {
          "name": "stderr",
          "output_type": "stream",
          "text": [
            "\n",
            "GP-UCB Experiments:   0%|          | 0/10 [00:00<?, ?it/s]\u001b[A\n",
            "GP-UCB Experiments:  10%|█         | 1/10 [00:41<06:15, 41.76s/it]\u001b[A\n",
            "GP-UCB Experiments:  20%|██        | 2/10 [01:23<05:33, 41.68s/it]\u001b[A\n",
            "GP-UCB Experiments:  30%|███       | 3/10 [02:03<04:48, 41.19s/it]\u001b[A\n",
            "GP-UCB Experiments:  40%|████      | 4/10 [02:44<04:06, 41.06s/it]\u001b[A\n",
            "GP-UCB Experiments:  50%|█████     | 5/10 [03:26<03:26, 41.20s/it]\u001b[A\n",
            "GP-UCB Experiments:  60%|██████    | 6/10 [04:07<02:44, 41.05s/it]\u001b[A\n",
            "GP-UCB Experiments:  70%|███████   | 7/10 [04:50<02:05, 41.82s/it]\u001b[A\n",
            "GP-UCB Experiments:  80%|████████  | 8/10 [05:31<01:23, 41.64s/it]\u001b[A\n",
            "GP-UCB Experiments:  90%|█████████ | 9/10 [06:12<00:41, 41.35s/it]\u001b[A\n",
            "GP-UCB Experiments: 100%|██████████| 10/10 [06:54<00:00, 41.41s/it]\n",
            "Dimension of Kernel Used:  81%|████████▏ | 22/27 [1:32:30<31:53, 382.75s/it]"
          ]
        },
        {
          "name": "stdout",
          "output_type": "stream",
          "text": [
            "[ 3.89067253  7.49116321 11.55473592 14.52456754 17.23790244 19.31882745\n",
            " 20.82672857 22.64508688 24.02438427 25.67189503 27.65441125 29.69288456\n",
            " 30.81468132 32.68532717 33.39341073 34.37130001 35.06958373 37.24255826\n",
            " 37.90772526 39.05777767 41.03478204 42.79951957 44.0665257  44.82549823\n",
            " 45.32681796 45.84163078 46.18128087 46.63297356 46.62207821 46.81299248\n",
            " 46.80112678 46.90630987 47.00258752 47.10160114 47.29916229 47.26190168\n",
            " 47.36678424 47.67078304 48.12017913 48.27684736 48.78671526 48.98599503\n",
            " 49.13839593 49.23639102 49.78136612 49.99168725 50.30474137 50.11861181\n",
            " 50.22174354 50.33533389 50.56903374 50.56593312 50.54799836 50.9538414\n",
            " 50.95249543 51.01888291 51.28249221 51.30520633 51.32922355 51.25138827\n",
            " 51.42002794 51.42236822 51.53135723 51.38717268 51.73807617 51.89765989\n",
            " 52.06919576 52.32955938 52.63719427 52.81709592 52.76599877 52.7325651\n",
            " 52.90965848 52.89321021 52.81257953 52.7445745  53.15469998 53.21691989\n",
            " 53.20370396 53.38663257 53.37835606 53.46081656 53.79117735 53.8403335\n",
            " 53.96940893 54.19678526 54.31054296 54.46744926 54.37652761 54.21145438\n",
            " 54.31612062 54.40393619 54.54719815 54.71859266 54.69412709 54.76487672\n",
            " 54.73607649 55.01113224 55.2080523  55.37730671 55.5428961 ]\n"
          ]
        },
        {
          "name": "stderr",
          "output_type": "stream",
          "text": [
            "\n",
            "GP-UCB Experiments:   0%|          | 0/10 [00:00<?, ?it/s]\u001b[A\n",
            "GP-UCB Experiments:  10%|█         | 1/10 [00:44<06:36, 44.09s/it]\u001b[A\n",
            "GP-UCB Experiments:  20%|██        | 2/10 [01:28<05:56, 44.52s/it]\u001b[A\n",
            "GP-UCB Experiments:  30%|███       | 3/10 [02:12<05:08, 44.02s/it]\u001b[A\n",
            "GP-UCB Experiments:  40%|████      | 4/10 [02:58<04:28, 44.80s/it]\u001b[A\n",
            "GP-UCB Experiments:  50%|█████     | 5/10 [03:43<03:44, 44.92s/it]\u001b[A\n",
            "GP-UCB Experiments:  60%|██████    | 6/10 [04:27<02:58, 44.61s/it]\u001b[A\n",
            "GP-UCB Experiments:  70%|███████   | 7/10 [05:12<02:14, 44.76s/it]\u001b[A\n",
            "GP-UCB Experiments:  80%|████████  | 8/10 [05:57<01:29, 44.71s/it]\u001b[A\n",
            "GP-UCB Experiments:  90%|█████████ | 9/10 [06:42<00:44, 44.86s/it]\u001b[A\n",
            "GP-UCB Experiments: 100%|██████████| 10/10 [07:27<00:00, 44.73s/it]\n",
            "Dimension of Kernel Used:  85%|████████▌ | 23/27 [1:39:58<26:48, 402.12s/it]"
          ]
        },
        {
          "name": "stdout",
          "output_type": "stream",
          "text": [
            "[ 2.86914007  6.24020711  9.3524682  12.4239395  14.89657707 16.87189668\n",
            " 18.60853634 20.09479405 21.62236787 22.2958593  23.64710107 24.49727979\n",
            " 25.71031863 26.98718402 27.96661121 29.33822786 30.17164386 31.45280828\n",
            " 33.58323621 35.10507244 36.1959654  37.62862196 38.4643349  40.33394613\n",
            " 40.47528077 42.06505416 43.33605264 44.0403555  44.40695682 44.47535858\n",
            " 44.83873516 45.22998721 45.54526352 45.52564228 45.40885834 45.63319557\n",
            " 45.55757971 45.47755968 45.54641077 45.74045795 45.99093185 46.03453628\n",
            " 46.32018995 46.40192818 46.37112674 46.46212233 46.60309208 46.61438616\n",
            " 46.58741122 46.5980507  46.64971098 46.54455554 46.6733298  46.72754896\n",
            " 46.66159538 46.72765907 46.75987345 46.74513002 46.72417731 46.74423923\n",
            " 46.52349706 46.37483053 46.58985697 46.63526217 46.60913744 46.8917523\n",
            " 46.66788065 46.63650731 46.4960641  46.38764065 46.26048638 46.31825278\n",
            " 46.22013766 46.33087966 46.33618826 46.18156918 46.23264793 46.23783579\n",
            " 46.59308476 46.64231846 46.84745555 46.73360733 46.61905444 46.46664304\n",
            " 46.34748927 46.46648772 46.3786064  46.45700945 46.21354691 46.20905718\n",
            " 46.29895    46.15320828 46.23708877 46.35236066 46.23958855 46.23004551\n",
            " 45.94177953 46.08906923 45.96997048 46.01285922 45.77510226]\n"
          ]
        },
        {
          "name": "stderr",
          "output_type": "stream",
          "text": [
            "\n",
            "GP-UCB Experiments:   0%|          | 0/10 [00:00<?, ?it/s]\u001b[A\n",
            "GP-UCB Experiments:  10%|█         | 1/10 [00:45<06:45, 45.06s/it]\u001b[A\n",
            "GP-UCB Experiments:  20%|██        | 2/10 [01:30<06:01, 45.13s/it]\u001b[A\n",
            "GP-UCB Experiments:  30%|███       | 3/10 [02:15<05:14, 44.97s/it]\u001b[A\n",
            "GP-UCB Experiments:  40%|████      | 4/10 [02:58<04:27, 44.57s/it]\u001b[A\n",
            "GP-UCB Experiments:  50%|█████     | 5/10 [03:43<03:43, 44.61s/it]\u001b[A\n",
            "GP-UCB Experiments:  60%|██████    | 6/10 [04:27<02:57, 44.35s/it]\u001b[A\n",
            "GP-UCB Experiments:  70%|███████   | 7/10 [05:12<02:13, 44.58s/it]\u001b[A\n",
            "GP-UCB Experiments:  80%|████████  | 8/10 [05:59<01:30, 45.18s/it]\u001b[A\n",
            "GP-UCB Experiments:  90%|█████████ | 9/10 [06:43<00:44, 44.84s/it]\u001b[A\n",
            "GP-UCB Experiments: 100%|██████████| 10/10 [07:28<00:00, 44.85s/it]\n",
            "Dimension of Kernel Used:  89%|████████▉ | 24/27 [1:47:26<20:48, 416.05s/it]"
          ]
        },
        {
          "name": "stdout",
          "output_type": "stream",
          "text": [
            "[ 3.19721071  6.32663709  9.07848554 11.71022992 13.73288572 15.89601934\n",
            " 18.27240995 20.12279548 21.7224697  22.60863462 23.83613492 24.55440177\n",
            " 25.77458674 26.47467437 27.20556201 28.83842018 29.00991402 28.98443029\n",
            " 31.01001552 32.93652002 33.98206644 35.42805116 37.31806819 38.17893916\n",
            " 38.35085074 38.31695279 38.58367786 38.6744141  38.58585729 38.13519118\n",
            " 38.38285016 38.44760593 37.97539995 37.67776989 37.58111686 37.58797973\n",
            " 37.26881505 37.05211596 36.58315283 36.02908529 35.5883266  35.01526023\n",
            " 34.68667795 34.26064626 33.93164813 33.40950723 33.11880539 33.04595663\n",
            " 32.71295938 32.29428952 31.97102959 31.37020652 30.96994359 30.78113971\n",
            " 30.42828941 30.3007628  29.92656292 29.67107684 29.29260976 29.1054266\n",
            " 28.81941296 28.35145859 28.44496507 28.17413335 27.82222823 27.58294207\n",
            " 27.39790648 27.06448519 26.8272276  26.5488442  26.15114291 25.80963185\n",
            " 25.66913194 25.14892457 24.95513931 24.43330605 23.96936616 23.40589619\n",
            " 22.93170073 22.6783684  22.29129828 21.99031876 21.65869106 21.66876194\n",
            " 21.19721882 20.7072754  20.50788368 20.0943791  19.74044969 19.25134021\n",
            " 18.9964104  18.90311891 18.56283709 18.23943822 17.70810262 17.13056614\n",
            " 16.94959114 16.57188175 15.98009774 15.58281906 15.33650405]\n"
          ]
        },
        {
          "name": "stderr",
          "output_type": "stream",
          "text": [
            "\n",
            "GP-UCB Experiments:   0%|          | 0/10 [00:00<?, ?it/s]\u001b[A\n",
            "GP-UCB Experiments:  10%|█         | 1/10 [00:47<07:11, 47.96s/it]\u001b[A\n",
            "GP-UCB Experiments:  20%|██        | 2/10 [01:36<06:24, 48.06s/it]\u001b[A\n",
            "GP-UCB Experiments:  30%|███       | 3/10 [02:22<05:32, 47.49s/it]\u001b[A\n",
            "GP-UCB Experiments:  40%|████      | 4/10 [03:12<04:49, 48.19s/it]\u001b[A\n",
            "GP-UCB Experiments:  50%|█████     | 5/10 [04:00<04:01, 48.32s/it]\u001b[A\n",
            "GP-UCB Experiments:  60%|██████    | 6/10 [04:49<03:13, 48.33s/it]\u001b[A\n",
            "GP-UCB Experiments:  70%|███████   | 7/10 [05:37<02:24, 48.30s/it]\u001b[A\n",
            "GP-UCB Experiments:  80%|████████  | 8/10 [06:25<01:36, 48.38s/it]\u001b[A\n",
            "GP-UCB Experiments:  90%|█████████ | 9/10 [07:14<00:48, 48.38s/it]\u001b[A\n",
            "GP-UCB Experiments: 100%|██████████| 10/10 [08:02<00:00, 48.25s/it]\n",
            "Dimension of Kernel Used:  93%|█████████▎| 25/27 [1:55:29<14:31, 435.98s/it]"
          ]
        },
        {
          "name": "stdout",
          "output_type": "stream",
          "text": [
            "[ 3.78625114  7.45725459 11.08385606 14.59824318 17.80431509 20.16112904\n",
            " 21.88834271 23.25081264 24.30231334 25.40311409 26.76477166 27.48002313\n",
            " 28.19541619 28.36858244 29.86673304 29.82537133 30.55970502 31.68574027\n",
            " 33.21284537 35.50423773 37.33540559 38.91765141 41.56251234 42.51226956\n",
            " 44.73304733 46.09848241 46.42242511 47.33446214 47.35662916 47.83764737\n",
            " 48.23296896 48.44123943 48.42880937 48.87460525 48.7316198  48.47755447\n",
            " 48.20930708 48.11702402 47.80869215 47.99129718 47.98518387 47.5260117\n",
            " 47.26330635 47.23079548 47.00935331 47.2223776  47.1973125  47.1677498\n",
            " 46.98017808 46.99268469 46.93199195 46.79830627 46.49710721 46.20178166\n",
            " 46.26673041 46.1559169  46.01286549 45.89713109 45.60394055 45.3306829\n",
            " 45.24092865 44.97526992 44.6890057  44.55470299 44.2840214  44.15305866\n",
            " 44.19278287 44.06472615 43.8694596  43.55989338 43.2430148  43.01907005\n",
            " 42.7227153  42.21497814 41.98098333 42.188644   42.17670721 42.02913877\n",
            " 41.84928391 41.66465414 41.51256272 41.39571444 41.17653139 40.86485911\n",
            " 40.80895294 40.62600905 40.47281372 40.31885889 39.97894465 39.95697463\n",
            " 39.82417838 39.64785408 39.61892203 39.31474133 38.92692803 38.83471394\n",
            " 38.79615134 38.56227852 38.29742638 38.14921229 37.88542347]\n"
          ]
        },
        {
          "name": "stderr",
          "output_type": "stream",
          "text": [
            "\n",
            "GP-UCB Experiments:   0%|          | 0/10 [00:00<?, ?it/s]\u001b[A\n",
            "GP-UCB Experiments:  10%|█         | 1/10 [00:49<07:23, 49.26s/it]\u001b[A\n",
            "GP-UCB Experiments:  20%|██        | 2/10 [01:37<06:29, 48.64s/it]\u001b[A\n",
            "GP-UCB Experiments:  30%|███       | 3/10 [02:24<05:36, 48.03s/it]\u001b[A\n",
            "GP-UCB Experiments:  40%|████      | 4/10 [03:12<04:48, 48.03s/it]\u001b[A\n",
            "GP-UCB Experiments:  50%|█████     | 5/10 [04:00<04:00, 48.06s/it]\u001b[A\n",
            "GP-UCB Experiments:  60%|██████    | 6/10 [04:48<03:12, 48.06s/it]\u001b[A\n",
            "GP-UCB Experiments:  70%|███████   | 7/10 [05:38<02:25, 48.55s/it]\u001b[A\n",
            "GP-UCB Experiments:  80%|████████  | 8/10 [06:27<01:37, 48.59s/it]\u001b[A\n",
            "GP-UCB Experiments:  90%|█████████ | 9/10 [07:15<00:48, 48.47s/it]\u001b[A\n",
            "GP-UCB Experiments: 100%|██████████| 10/10 [08:03<00:00, 48.37s/it]\n",
            "Dimension of Kernel Used:  96%|█████████▋| 26/27 [2:03:32<07:30, 450.28s/it]"
          ]
        },
        {
          "name": "stdout",
          "output_type": "stream",
          "text": [
            "[ 3.96519759  7.75402673 11.62965667 15.17058023 18.51136629 20.79921874\n",
            " 22.73584942 25.06337581 26.65195311 28.35813276 29.29320978 30.00042301\n",
            " 31.15200869 32.65772865 34.54704618 35.84761066 39.3082547  40.03470502\n",
            " 41.54921286 43.57415663 46.05889637 47.29525099 49.74649445 51.90789417\n",
            " 52.46745781 53.68954056 55.55649293 57.93880468 58.69049895 58.49155215\n",
            " 58.52274089 58.81007139 59.01478668 58.90917883 58.8608261  58.75116504\n",
            " 58.81444682 58.94712523 59.02442287 59.61334547 60.01820344 60.0852481\n",
            " 60.36171966 60.53446463 60.68383813 60.62302754 60.6075011  60.70505119\n",
            " 60.94805406 60.8785498  61.37609048 61.20875979 61.46953185 61.61148679\n",
            " 61.5920618  61.622548   61.83591548 61.80864173 61.89570472 62.12274901\n",
            " 62.27847979 62.18175335 62.32124441 62.24525249 62.74146116 62.68373506\n",
            " 62.93945296 63.552011   63.50872848 64.02246934 64.19025272 64.18183909\n",
            " 64.34861869 64.41820047 64.44930716 64.38089439 64.38485196 64.32465053\n",
            " 64.30809915 64.32708788 64.5949854  64.74441974 64.91002009 64.96423725\n",
            " 64.86501445 64.93393304 65.02929861 65.04595766 64.97747582 64.88330096\n",
            " 64.79217275 64.65361949 64.64241881 64.85596636 64.9546281  64.80336782\n",
            " 64.77130473 65.02594281 64.91097625 65.12906167 65.19563853]\n"
          ]
        },
        {
          "name": "stderr",
          "output_type": "stream",
          "text": [
            "\n",
            "GP-UCB Experiments:   0%|          | 0/10 [00:00<?, ?it/s]\u001b[A\n",
            "GP-UCB Experiments:  10%|█         | 1/10 [00:51<07:44, 51.63s/it]\u001b[A\n",
            "GP-UCB Experiments:  20%|██        | 2/10 [01:43<06:52, 51.60s/it]\u001b[A\n",
            "GP-UCB Experiments:  30%|███       | 3/10 [02:36<06:05, 52.19s/it]\u001b[A\n",
            "GP-UCB Experiments:  40%|████      | 4/10 [03:28<05:14, 52.44s/it]\u001b[A\n",
            "GP-UCB Experiments:  50%|█████     | 5/10 [04:20<04:20, 52.17s/it]\u001b[A\n",
            "GP-UCB Experiments:  60%|██████    | 6/10 [05:11<03:27, 51.85s/it]\u001b[A\n",
            "GP-UCB Experiments:  70%|███████   | 7/10 [06:03<02:35, 51.78s/it]\u001b[A\n",
            "GP-UCB Experiments:  80%|████████  | 8/10 [06:55<01:43, 51.80s/it]\u001b[A\n",
            "GP-UCB Experiments:  90%|█████████ | 9/10 [07:48<00:52, 52.36s/it]\u001b[A\n",
            "GP-UCB Experiments: 100%|██████████| 10/10 [08:40<00:00, 52.06s/it]\n",
            "Dimension of Kernel Used: 100%|██████████| 27/27 [2:12:13<00:00, 293.82s/it]\n",
            "<ipython-input-9-3d0f8f15164f>:50: UserWarning: No artists with labels found to put in legend.  Note that artists whose label start with an underscore are ignored when legend() is called with no argument.\n",
            "  plt.legend()\n"
          ]
        },
        {
          "name": "stdout",
          "output_type": "stream",
          "text": [
            "[ 3.74145038  7.39768765 10.88325906 14.43363646 17.88579226 20.0112066\n",
            " 22.13585405 23.84229896 25.29490693 26.09807936 26.86441629 27.60467873\n",
            " 27.84267231 28.22265817 28.52650191 29.13447883 29.46473373 31.14875019\n",
            " 32.74839599 34.63080235 35.95305582 37.80427573 39.52897083 41.98046765\n",
            " 43.22684978 45.63190766 47.6078905  49.34606598 50.01616929 50.11257678\n",
            " 50.88103694 51.85464631 51.67410611 51.89956781 51.87850535 51.823635\n",
            " 51.49860753 51.47261083 51.36015468 51.54022211 51.10369625 50.91057202\n",
            " 50.74672032 50.57793644 50.39463851 50.16297245 49.95711567 49.9477238\n",
            " 49.70952645 49.34602284 49.0493832  48.83183549 48.7441396  48.92984589\n",
            " 48.72890068 48.63471545 49.06680578 48.88618822 48.5873458  48.43820901\n",
            " 48.36143369 48.02067715 47.68661534 47.94744513 47.67183269 47.74585572\n",
            " 47.6186767  47.43153373 47.33219818 47.00558424 47.02155561 46.80410286\n",
            " 46.72289404 46.4895572  46.30061937 46.05174865 45.98749105 46.00771395\n",
            " 46.01614484 45.8024101  45.42409703 45.09058079 44.84244802 44.73443043\n",
            " 44.6645668  44.57181212 44.43828706 44.12358431 43.85165306 43.58257241\n",
            " 43.38371753 43.38585373 43.3838588  43.14917219 42.86423416 42.71034289\n",
            " 42.53575433 42.21585417 41.87516106 41.51035964 41.66172901]\n"
          ]
        },
        {
          "data": {
            "image/png": "[encoded data removed]",
            "text/plain": [
              "<Figure size 640x480 with 1 Axes>"
            ]
          },
          "metadata": {},
          "output_type": "display_data"
        },
        {
          "name": "stdout",
          "output_type": "stream",
          "text": [
            "[np.float64(59.51485206642763), np.float64(60.86623129040502), np.float64(59.055581550990865), np.float64(54.823132332164384), np.float64(46.89975175801242), np.float64(41.78046397733143), np.float64(4.182726255099336), np.float64(9.096239244987284), np.float64(5.492487556020595), np.float64(4.699936722046666), np.float64(5.679215756099274), np.float64(7.569336910323977), np.float64(8.099647161403459), np.float64(10.511796483305785), np.float64(9.116334046624674), np.float64(4.358148583935054), np.float64(5.2979349854466955), np.float64(8.597383709378395), np.float64(7.194529713431206), np.float64(5.308515863653994), np.float64(4.636238488452516), np.float64(9.25714934919908), np.float64(7.629183709303018), np.float64(2.5560840075552806), np.float64(6.3142372447313315), np.float64(10.865939754370574), np.float64(6.94362150181482)]\n",
            "[np.float64(7.866061036436186), np.float64(5.038149260217415), np.float64(7.247884100948871), np.float64(6.349682095713663), np.float64(8.038393120315263), np.float64(14.273626941322293), np.float64(7.262306186866643), np.float64(4.657797381185735), np.float64(10.354818041501582), np.float64(7.652323163733935), np.float64(8.827858497133423), np.float64(7.096096425555351), np.float64(7.983387833478577), np.float64(5.190862390445924), np.float64(7.855414355151989), np.float64(6.636995327462047), np.float64(8.424470619749682), np.float64(5.764031564079069), np.float64(6.203101770556781), np.float64(8.511512891849867), np.float64(9.27233225714893), np.float64(4.707568678661237), np.float64(9.152247804147905), np.float64(6.0347497193921775), np.float64(7.452815571623326), np.float64(9.571778101360982), np.float64(7.753889295937533)]\n"
          ]
        }
      ],
      "source": [
        "w_random = np.array([1 for _ in range(27)])\n",
        "# w_random = np.random.normal(loc=0.0, scale=sigma_w, size=27)\n",
        "\n",
        "qubits = 3\n",
        "seed = 1\n",
        "bounds = [(0, 2*np.pi), (0, 2*np.pi),(0, 2*np.pi)]\n",
        "\n",
        "quantum_f = lambda X: np.array([f_draw_from_GP(X[i]) for i in range(X.shape[0])])\n",
        "\n",
        "\n",
        "dim_tried = []\n",
        "regret_for_dim = []\n",
        "std_regret_for_dim = []\n",
        "\n",
        "for dim in trange(1,28,1, desc=\"Dimension of Kernel Used\"):\n",
        "\n",
        "  kernell = lambda X,Y: reduced_matrix_classic(X,Y,dim=dim)\n",
        "\n",
        "  gp = GaussianProcessRegressor(kernel=kernell, alpha=1e-4)\n",
        "\n",
        "  avg_best, best_hist_all,std_regret = run_multiple_experiments_gp_ucb(\n",
        "  f=quantum_f,\n",
        "  gp=gp,\n",
        "  bounds=bounds,\n",
        "  n_runs=10,\n",
        "  n_iter=100,\n",
        "  init_points=1,\n",
        "  n_grid=5,\n",
        "  beta_func=None,  # use the default inside gp_ucb_nd\n",
        "  random_state=42,\n",
        "  error = 5/dim,#get_max_error(dim),\n",
        "  verbose=False\n",
        ")\n",
        "\n",
        "  dim_tried.append(dim)\n",
        "  regret_for_dim.append(avg_best[-1]/6) #5.2\n",
        "  std_regret_for_dim.append(std_regret[-1]/6)\n",
        "  print(avg_best)\n",
        "\n",
        "\n",
        "plt.errorbar(dim_tried,regret_for_dim,std_regret_for_dim,ls=\"-\",\n",
        "             marker='d',\n",
        "             color=\"#009E73\",\n",
        "             alpha=1.0,\n",
        "             capsize=4)\n",
        "plt.title(\"Regret for Different Kernel Used\")\n",
        "plt.xlabel(\"Dimension of Kernel Used for Modeling\")\n",
        "plt.ylabel(\"Regret for T=100\")\n",
        "plt.grid(True)\n",
        "plt.legend()\n",
        "plt.show()\n",
        "\n",
        "\n",
        "print(regret_for_dim)\n",
        "print(std_regret_for_dim)"
      ]
    },
    {
      "cell_type": "code",
      "execution_count": null,
      "metadata": {
        "colab": {
          "background_save": true,
          "base_uri": "https://localhost:8080/"
        },
        "id": "TZIpJIqwreV_",
        "outputId": "bddb6ce6-dbf0-49c0-eef7-6acb11465535"
      },
      "outputs": [
        {
          "name": "stderr",
          "output_type": "stream",
          "text": [
            "Dimension of Kernel Used:   0%|          | 0/27 [00:00<?, ?it/s]\n",
            "GP-UCB Experiments:   0%|          | 0/2 [00:00<?, ?it/s]\u001b[A\n",
            "GP-UCB Experiments:  50%|█████     | 1/2 [02:58<02:58, 178.66s/it]\u001b[A\n",
            "GP-UCB Experiments: 100%|██████████| 2/2 [05:59<00:00, 179.84s/it]\n",
            "Dimension of Kernel Used:   4%|▎         | 1/27 [05:59<2:35:51, 359.69s/it]"
          ]
        },
        {
          "name": "stdout",
          "output_type": "stream",
          "text": [
            "[  4.44400785   8.62436759  12.40604469  16.85879127  21.38239904\n",
            "  25.72887456  30.3944569   34.38676914  38.56377779  42.5737296\n",
            "  47.06335188  51.14067364  55.8844595   60.08006417  64.4034457\n",
            "  68.98030452  72.74955469  78.01663334  82.10651435  87.19025932\n",
            "  91.78560944  96.22979682 100.83541944 105.75688372 110.0519887\n",
            " 113.33490637 118.04666076 122.88974994 127.54785567 131.77012147\n",
            " 136.60798945 141.24206177 145.58392561 149.75073445 154.59447895\n",
            " 157.79823642 162.25138131 165.03091444 167.97786747 172.54618538\n",
            " 176.49586562 181.34533588 184.74308165 189.89254204 195.06029676\n",
            " 199.25512991 204.48730498 208.69702036 212.75180133 217.39600395\n",
            " 221.09037736 225.68255436 230.1143598  234.48101761 238.047578\n",
            " 242.45332845 246.23366105 249.90109082 254.81270055 258.8349326\n",
            " 263.41396123 268.04979262 272.15053058 275.14710333 279.78402343\n",
            " 284.76773795 287.5398179  292.28100122 297.10018801 300.21026367\n",
            " 304.8161822  309.56220317 314.0683063  318.82098455 324.43415928\n",
            " 329.0823643  333.47277907 336.99398103 340.56418473 343.06197406\n",
            " 347.88813044 351.70693893 356.3610331  360.72651765 364.82797256\n",
            " 367.69355585 371.88662418 376.6421449  380.72570482 385.69837742\n",
            " 389.69870002 392.12334969 395.68640104 400.22600817 404.79300013\n",
            " 409.52135433 413.88748639 417.81727334 422.40979769 426.01488287\n",
            " 430.68089575]\n"
          ]
        },
        {
          "name": "stderr",
          "output_type": "stream",
          "text": [
            "\n",
            "GP-UCB Experiments:   0%|          | 0/2 [00:00<?, ?it/s]\u001b[A\n",
            "GP-UCB Experiments:  50%|█████     | 1/2 [03:00<03:00, 180.09s/it]\u001b[A\n",
            "GP-UCB Experiments: 100%|██████████| 2/2 [05:58<00:00, 179.23s/it]\n",
            "Dimension of Kernel Used:   7%|▋         | 2/27 [11:58<2:29:34, 358.97s/it]"
          ]
        },
        {
          "name": "stdout",
          "output_type": "stream",
          "text": [
            "[  3.86145593   7.6230134   10.22732267  14.41740732  18.27262311\n",
            "  22.14520831  26.63452331  30.09668631  34.39023507  38.75674592\n",
            "  43.13797173  47.48738207  52.21614302  56.84813854  61.53392515\n",
            "  65.82951755  69.99910533  74.38811875  78.82060704  83.58757971\n",
            "  87.61174649  92.14643206  94.71985453  98.59453299 101.7530731\n",
            " 105.96816701 110.70027164 114.66757266 118.7748479  123.38174062\n",
            " 127.73251834 131.73171144 135.34230201 140.23259863 144.25493574\n",
            " 145.39482435 148.13212298 151.7722569  156.00466943 160.2343797\n",
            " 164.52817488 168.52880695 172.22096368 175.027864   179.14839813\n",
            " 183.73343608 187.98643799 192.70005725 197.09657474 201.69371555\n",
            " 206.33837953 211.53316266 215.37488435 219.55741235 223.76694171\n",
            " 228.83329836 232.9909361  237.5835945  241.95545052 244.35857301\n",
            " 248.58612084 252.66805689 256.91565831 261.11633671 264.9586558\n",
            " 269.38800699 272.86328861 276.62979837 280.77564154 283.83237701\n",
            " 286.7200319  290.70542624 293.80824895 296.95432036 300.96080592\n",
            " 306.49134404 310.55948433 314.90324734 318.97523298 322.9151544\n",
            " 327.3413303  330.31044617 334.59877945 337.62930085 340.93443225\n",
            " 345.28820891 349.03524018 353.13630778 357.45872572 361.77054045\n",
            " 365.0106527  369.55339706 373.4045941  377.10138933 382.01850931\n",
            " 385.93823731 389.05339494 393.31155534 398.14064385 401.4122348\n",
            " 406.10078262]\n"
          ]
        },
        {
          "name": "stderr",
          "output_type": "stream",
          "text": [
            "\n",
            "GP-UCB Experiments:   0%|          | 0/2 [00:00<?, ?it/s]\u001b[A\n",
            "GP-UCB Experiments:  50%|█████     | 1/2 [05:20<05:20, 320.16s/it]\u001b[A\n",
            "GP-UCB Experiments: 100%|██████████| 2/2 [10:42<00:00, 321.31s/it]\n",
            "Dimension of Kernel Used:  11%|█         | 3/27 [22:40<3:15:23, 488.49s/it]"
          ]
        },
        {
          "name": "stdout",
          "output_type": "stream",
          "text": [
            "[  3.83513337   7.54169978  12.05620344  14.60744264  18.82773015\n",
            "  23.86122158  28.25607036  32.24706647  36.62320046  41.70392852\n",
            "  46.25671736  50.61622912  55.1941755   59.75702125  64.53566683\n",
            "  66.04211076  68.88221338  73.47024998  75.7322261   80.07378288\n",
            "  82.88851316  86.43721698  87.4796974   92.17150855  96.64513316\n",
            " 100.09550994 101.68166681 104.21785947 108.07196388 110.37944092\n",
            " 114.69153829 118.02724994 121.76657087 126.49579113 130.38395484\n",
            " 133.43058284 137.89247946 140.90343172 145.48209563 150.0190081\n",
            " 154.39379251 157.44695145 161.90664795 165.8151885  170.02068869\n",
            " 175.01027574 179.85842913 184.02597174 188.3925362  191.67307273\n",
            " 196.52962962 201.13150393 203.56185854 207.40783906 212.00421361\n",
            " 216.19069677 220.76226857 224.39664412 227.81002233 231.72792735\n",
            " 233.83160041 235.89521595 239.58087797 240.25450445 244.64713958\n",
            " 247.66052107 252.1425776  254.67447287 257.28865867 262.43360469\n",
            " 264.76469909 268.15235463 271.39731679 275.22382232 279.57108269\n",
            " 283.86328279 288.12960757 292.57663899 296.91878257 298.59855823\n",
            " 302.03366813 306.31886315 310.14771407 310.55548645 315.13529267\n",
            " 319.5733026  323.73827484 327.59799185 332.03091262 336.18134684\n",
            " 341.04432608 346.04098948 349.38155795 354.180114   358.03306937\n",
            " 360.06239437 363.88173058 367.36614845 370.9302907  375.44170665\n",
            " 379.27514699]\n"
          ]
        },
        {
          "name": "stderr",
          "output_type": "stream",
          "text": [
            "\n",
            "GP-UCB Experiments:   0%|          | 0/2 [00:00<?, ?it/s]\u001b[A\n",
            "GP-UCB Experiments:  50%|█████     | 1/2 [05:22<05:22, 322.58s/it]\u001b[A\n",
            "GP-UCB Experiments: 100%|██████████| 2/2 [10:45<00:00, 322.60s/it]\n",
            "Dimension of Kernel Used:  15%|█▍        | 4/27 [33:25<3:30:58, 550.36s/it]"
          ]
        },
        {
          "name": "stdout",
          "output_type": "stream",
          "text": [
            "[  4.56159413   8.65774655  12.82743071  17.62448099  21.67061652\n",
            "  25.91287736  30.23799092  34.56927461  39.32013884  43.51096005\n",
            "  47.54436975  50.75841288  55.33343444  59.7251694   62.7056329\n",
            "  65.42201559  70.07301792  74.92588619  78.06033038  82.54772051\n",
            "  86.75754295  90.84888788  94.49482276  98.51118215 102.37889189\n",
            " 106.9803904  109.86494509 113.35431957 115.91727906 120.09244366\n",
            " 124.15953945 127.9628946  131.261179   134.58052929 138.01434686\n",
            " 141.54935268 144.65627482 149.12307395 153.2981085  156.51627168\n",
            " 161.46274001 166.00019193 169.82394675 174.21036585 178.64605358\n",
            " 180.16348164 185.0438481  188.87155257 193.37727196 197.9929177\n",
            " 201.50893282 206.21751143 209.91764609 212.24694885 217.19954076\n",
            " 221.44189156 225.9224182  230.75096725 235.21241448 239.59259131\n",
            " 243.61300125 245.58198428 249.73413715 251.24614606 254.66194407\n",
            " 256.38348094 257.44848088 260.87972882 265.52502876 268.63547809\n",
            " 272.91331881 276.19702645 279.996534   284.36268314 288.17319997\n",
            " 291.34484171 295.56717053 298.90959363 303.00495748 307.46974837\n",
            " 310.75944403 314.17499227 317.65410888 320.97290506 325.10932599\n",
            " 329.0448567  333.38748408 337.58793936 342.43219585 344.77078172\n",
            " 346.89400416 351.38028233 356.0899099  360.90375257 365.09586642\n",
            " 369.67777475 371.38461728 375.88139043 380.49945137 384.72789417\n",
            " 387.87067126]\n"
          ]
        },
        {
          "name": "stderr",
          "output_type": "stream",
          "text": [
            "\n",
            "GP-UCB Experiments:   0%|          | 0/2 [00:00<?, ?it/s]\u001b[A\n",
            "GP-UCB Experiments:  50%|█████     | 1/2 [07:28<07:28, 448.03s/it]\u001b[A\n",
            "GP-UCB Experiments: 100%|██████████| 2/2 [14:58<00:00, 449.38s/it]\n",
            "Dimension of Kernel Used:  19%|█▊        | 5/27 [48:24<4:07:52, 676.00s/it]"
          ]
        },
        {
          "name": "stdout",
          "output_type": "stream",
          "text": [
            "[  4.42778022   8.53497214  12.71210407  15.49669402  19.76736006\n",
            "  22.96004225  24.96363344  28.33457585  30.38095272  32.73325159\n",
            "  34.39384047  39.1448571   41.49519041  43.44026068  46.66506369\n",
            "  49.29629424  53.12441724  55.615348    58.54555529  62.46275165\n",
            "  64.67551808  68.5511894   70.99037277  75.2721695   80.05034288\n",
            "  83.06097414  86.17900349  88.36500899  93.07745848  94.48337507\n",
            "  97.36778905 100.37041346 103.29756327 107.13497635 111.73889293\n",
            " 114.5032843  119.23821461 123.12766445 124.55074933 128.65590952\n",
            " 133.31629685 135.99915915 139.48969195 140.95158536 142.79078391\n",
            " 147.2702636  150.93854659 154.48481415 156.55755008 159.26111217\n",
            " 161.73295429 166.4375035  168.72494111 172.70878775 176.61991212\n",
            " 179.07494983 182.79373869 185.45105725 187.10541123 191.24832399\n",
            " 195.40407301 199.29346328 201.63240372 204.21819169 207.56373821\n",
            " 209.30193328 213.31355005 218.1777724  220.4349058  225.16907213\n",
            " 229.69225333 232.32317022 236.4912322  239.59183479 243.85542608\n",
            " 246.89610823 249.72506199 252.50696792 255.83305239 259.92893496\n",
            " 262.68724005 266.30035108 267.71298007 269.09742427 272.14703292\n",
            " 275.85942057 280.2461071  281.48597379 284.55677135 285.877358\n",
            " 288.32738059 289.51272226 291.84332188 293.84363092 296.57595031\n",
            " 300.2878166  301.11756593 302.69872212 305.90251727 309.58462375\n",
            " 312.20485584]\n"
          ]
        },
        {
          "name": "stderr",
          "output_type": "stream",
          "text": [
            "\n",
            "GP-UCB Experiments:   0%|          | 0/2 [00:00<?, ?it/s]\u001b[A\n",
            "GP-UCB Experiments:  50%|█████     | 1/2 [07:30<07:30, 450.17s/it]\u001b[A\n",
            "GP-UCB Experiments: 100%|██████████| 2/2 [15:02<00:00, 451.08s/it]\n",
            "Dimension of Kernel Used:  22%|██▏       | 6/27 [1:03:26<4:23:30, 752.89s/it]"
          ]
        },
        {
          "name": "stdout",
          "output_type": "stream",
          "text": [
            "[  2.83934836   6.03575987  10.49082414  14.7267761   18.2325258\n",
            "  19.59221358  23.30139981  25.91795799  29.9827533   32.22419688\n",
            "  35.41232428  37.86688568  42.53274675  44.16177072  46.33177009\n",
            "  49.76276894  52.61649311  54.1730429   55.67159255  59.44423915\n",
            "  63.04427789  64.75378191  69.39792225  72.69133931  74.0288624\n",
            "  77.86981524  81.95466305  84.12949381  86.97733054  89.80703426\n",
            "  92.56496016  96.50013786  98.64928776  99.25082892 101.4973321\n",
            " 106.1671474  107.67714453 108.25885004 111.20439839 113.32999516\n",
            " 115.6918847  118.72105966 123.22063967 128.2961484  132.70244748\n",
            " 136.32056591 138.71042821 141.28118998 143.63894572 145.61048125\n",
            " 149.82929193 152.48001676 156.01696955 159.91949323 162.27378129\n",
            " 163.32134464 166.99637117 169.90134462 173.67283947 176.97957867\n",
            " 179.85462734 180.81238172 182.20277417 183.43879314 186.36732318\n",
            " 189.42984291 192.65789672 195.85164303 199.58009736 200.37383798\n",
            " 201.67212181 204.09075885 208.99277927 211.58506885 213.69532303\n",
            " 216.23366229 218.67684026 223.57924502 225.06820186 227.58417122\n",
            " 229.24345604 232.38401009 233.72581871 235.74355211 237.9636306\n",
            " 239.17456757 240.99655999 244.94518161 249.5615252  253.01815856\n",
            " 254.26536632 257.3604399  261.35174821 264.32793599 267.45183858\n",
            " 269.52913109 273.71113539 276.33132428 279.60161644 283.57990777\n",
            " 287.98482054]\n"
          ]
        },
        {
          "name": "stderr",
          "output_type": "stream",
          "text": [
            "\n",
            "GP-UCB Experiments:   0%|          | 0/2 [00:00<?, ?it/s]\u001b[A\n",
            "GP-UCB Experiments:  50%|█████     | 1/2 [09:43<09:43, 583.36s/it]\u001b[A\n",
            "GP-UCB Experiments: 100%|██████████| 2/2 [19:21<00:00, 580.59s/it]\n",
            "Dimension of Kernel Used:  26%|██▌       | 7/27 [1:22:48<4:55:27, 886.38s/it]"
          ]
        },
        {
          "name": "stdout",
          "output_type": "stream",
          "text": [
            "[ 4.60696117  8.17523964 12.66497988 16.4108582  19.6291064  23.47587333\n",
            " 25.84810173 28.92820072 31.26011885 32.11367295 33.27809152 34.6124643\n",
            " 35.75519299 37.22933652 37.91571337 38.53507516 39.79717782 41.03229339\n",
            " 42.58702143 43.54000318 44.6471422  45.44632346 46.2578352  47.60193093\n",
            " 48.41561006 48.86911679 49.70477369 50.51721674 51.03426256 51.99944936\n",
            " 52.84482075 53.32418813 53.82664361 54.43285424 55.17794393 55.69337951\n",
            " 56.1168604  57.13849167 57.48977473 58.04243643 58.77953312 59.02239254\n",
            " 59.12283859 59.76234115 60.03734827 60.45924244 60.65335106 60.84283186\n",
            " 61.04070815 61.50541079 61.53103415 61.57957888 62.08902207 62.18950943\n",
            " 62.16042478 62.26691224 62.2937492  62.48063554 62.61297964 62.59168025\n",
            " 62.62384939 62.89114528 62.9848161  63.03441678 63.09166267 63.18624865\n",
            " 63.4824131  63.54111035 63.60060532 63.64022638 63.64114127 63.77003687\n",
            " 63.91866416 64.08142711 64.10540386 64.43376242 64.51078228 64.59234554\n",
            " 64.70290727 64.81398716 64.88545851 64.92037503 64.98987453 65.12884105\n",
            " 65.21417    65.23016649 65.23763314 65.39442331 65.492728   65.64104068\n",
            " 65.79542459 65.74081527 65.75498782 65.9140954  65.87540702 65.97582702\n",
            " 65.93333581 66.01623357 66.28069167 66.35326652 66.35230787]\n"
          ]
        },
        {
          "name": "stderr",
          "output_type": "stream",
          "text": [
            "\n",
            "GP-UCB Experiments:   0%|          | 0/2 [00:00<?, ?it/s]\u001b[A\n",
            "GP-UCB Experiments:  50%|█████     | 1/2 [09:38<09:38, 578.65s/it]\u001b[A\n",
            "GP-UCB Experiments: 100%|██████████| 2/2 [19:18<00:00, 579.22s/it]\n",
            "Dimension of Kernel Used:  30%|██▉       | 8/27 [1:42:06<5:08:06, 972.99s/it]"
          ]
        },
        {
          "name": "stdout",
          "output_type": "stream",
          "text": [
            "[ 3.43208831  6.23475708 10.37489353 14.58421734 19.12374415 19.88633547\n",
            " 21.99112102 22.35349688 22.63152178 23.09503975 23.23404087 23.52586601\n",
            " 23.74035115 24.31412155 24.63625042 25.03166807 25.10870407 25.54882199\n",
            " 25.70944574 25.96684612 26.13853514 26.39203082 26.77797817 26.96294362\n",
            " 27.60049057 28.00596368 28.39986256 28.43543187 28.86326902 29.02216742\n",
            " 29.32023215 29.34407343 29.48269483 29.8556942  29.96104541 30.04531649\n",
            " 30.15272844 30.30882966 30.7955443  30.97175533 31.3099409  31.5136383\n",
            " 31.56185715 31.47214196 31.54971846 31.91106875 32.0294411  32.17747183\n",
            " 32.23030806 32.33402698 32.37518562 32.4811082  32.69086871 32.99041689\n",
            " 33.27667641 33.52166902 33.7221733  34.17193539 34.41732018 34.44943087\n",
            " 34.40471084 34.32231617 34.45442574 34.60096908 34.5939189  34.5706222\n",
            " 34.39025336 34.53085728 34.53884269 34.72623275 34.93670518 35.01315915\n",
            " 35.08285613 35.14934202 35.29913209 35.3252427  35.19745676 35.31848391\n",
            " 35.57263983 35.7470667  36.03637391 36.23849699 36.27853787 36.34661044\n",
            " 36.33986267 36.70926983 36.60599067 36.64038562 36.63781106 36.65347435\n",
            " 36.91887806 37.01176467 37.25546126 37.42140393 37.22925524 37.05658721\n",
            " 36.96936036 36.95133106 36.87919908 37.10628966 37.10489867]\n"
          ]
        },
        {
          "name": "stderr",
          "output_type": "stream",
          "text": [
            "\n",
            "GP-UCB Experiments:   0%|          | 0/2 [00:00<?, ?it/s]\u001b[A\n",
            "GP-UCB Experiments:  50%|█████     | 1/2 [12:05<12:05, 725.14s/it]\u001b[A\n",
            "GP-UCB Experiments: 100%|██████████| 2/2 [24:14<00:00, 727.22s/it]\n",
            "Dimension of Kernel Used:  33%|███▎      | 9/27 [2:06:21<5:37:03, 1123.50s/it]"
          ]
        },
        {
          "name": "stdout",
          "output_type": "stream",
          "text": [
            "[ 4.46882229  8.83684376 12.29848877 16.16143491 20.43728515 22.68511146\n",
            " 25.04825867 28.43740077 29.55928814 31.23097604 31.33195495 31.77847304\n",
            " 32.34539321 32.79589656 32.91019771 33.25869805 33.34790528 33.70062157\n",
            " 33.94539394 34.17025113 34.26166156 34.47236175 34.87662178 35.10110109\n",
            " 35.37983281 35.69122025 36.08621254 36.23749927 36.63299706 36.84597422\n",
            " 37.04780511 37.04568651 37.35198752 37.41376987 37.63931809 38.39012055\n",
            " 38.48477999 38.6779901  38.65879761 38.76799861 38.83947063 39.19144483\n",
            " 39.09732125 39.34010134 39.46995952 39.62876915 39.68343492 39.87276716\n",
            " 40.14644233 40.34490204 40.56753953 40.7158009  40.75537311 40.97819167\n",
            " 41.24204694 41.62265405 41.77652244 42.41674487 42.56078276 42.60533451\n",
            " 42.65214837 42.8708003  43.08062879 43.1250243  43.42279122 43.42885342\n",
            " 43.51445796 43.57964124 43.63563679 43.55183909 43.73094775 43.75676678\n",
            " 44.03444212 43.92460012 43.87045647 44.1008666  44.18458103 44.22350547\n",
            " 44.33072992 44.44911466 44.8257941  45.0046453  45.07284333 45.00380286\n",
            " 45.18136943 45.32190575 45.51975449 45.50215261 45.51522299 45.51083542\n",
            " 45.55056041 45.60068964 45.62269894 45.51085565 45.59527332 45.63750975\n",
            " 45.69712348 45.76423746 45.80623882 45.87808641 46.09079923]\n"
          ]
        },
        {
          "name": "stderr",
          "output_type": "stream",
          "text": [
            "\n",
            "GP-UCB Experiments:   0%|          | 0/2 [00:00<?, ?it/s]\u001b[A\n",
            "GP-UCB Experiments:  50%|█████     | 1/2 [12:09<12:09, 729.72s/it]\u001b[A\n",
            "GP-UCB Experiments: 100%|██████████| 2/2 [24:23<00:00, 731.70s/it]\n",
            "Dimension of Kernel Used:  37%|███▋      | 10/27 [2:30:44<5:48:03, 1228.44s/it]"
          ]
        },
        {
          "name": "stdout",
          "output_type": "stream",
          "text": [
            "[ 3.96834096  8.1828332  12.47251946 15.86231391 19.81462629 23.75068499\n",
            " 28.67524014 32.92214423 36.49652252 37.68150454 39.30617251 40.55855053\n",
            " 42.35622708 44.35155007 45.77265098 46.93834256 48.09602506 49.35043772\n",
            " 50.78460637 51.51092952 52.39786664 53.04851819 53.8418437  54.33465668\n",
            " 54.9507474  55.6908627  55.89997229 56.47495159 56.70709082 57.41042521\n",
            " 57.66985807 57.93731312 57.92099541 58.59223789 58.74695953 59.00054261\n",
            " 59.22017122 59.78675201 60.11971863 60.25890583 60.32576575 60.73057521\n",
            " 60.9409797  60.93074738 61.31337621 61.61380213 61.71034009 61.99664042\n",
            " 61.97507871 61.93118634 62.56716771 62.74741851 62.61943965 63.00948175\n",
            " 63.09189292 63.1370302  63.23432165 63.44256925 63.51821945 63.50651069\n",
            " 63.66113906 63.74940248 63.89367605 64.14482743 64.38578047 64.60667595\n",
            " 64.77407964 64.84148842 64.9429938  64.95628618 65.25746941 65.40886321\n",
            " 65.34034649 65.55221814 65.4705386  65.60205761 65.70341137 65.99502515\n",
            " 66.10112728 66.31334356 66.47936713 66.49668567 66.71513693 66.74979106\n",
            " 66.66960171 66.91843882 67.1288155  67.14648357 67.33059255 67.33351072\n",
            " 67.30196674 67.36784135 67.52323104 67.6227636  67.57738957 67.56990049\n",
            " 67.72969608 67.60705457 67.79247787 67.7340305  67.75256127]\n"
          ]
        },
        {
          "name": "stderr",
          "output_type": "stream",
          "text": [
            "\n",
            "GP-UCB Experiments:   0%|          | 0/2 [00:00<?, ?it/s]\u001b[A\n",
            "GP-UCB Experiments:  50%|█████     | 1/2 [14:26<14:26, 866.87s/it]\u001b[A\n",
            "GP-UCB Experiments: 100%|██████████| 2/2 [28:53<00:00, 866.61s/it]\n",
            "Dimension of Kernel Used:  41%|████      | 11/27 [2:59:37<6:08:46, 1382.93s/it]"
          ]
        },
        {
          "name": "stdout",
          "output_type": "stream",
          "text": [
            "[ 4.31540694  9.05138911 13.29368418 17.21053832 21.78906372 26.29632083\n",
            " 28.55435027 31.79942894 33.91048693 36.41965687 38.14548594 40.69815343\n",
            " 41.0465647  41.4892744  41.84382867 42.84307113 43.47653296 43.69218183\n",
            " 43.99152832 44.70210048 45.38177053 46.01919964 46.68128824 47.59806903\n",
            " 48.05953301 48.30456666 49.16667567 49.90511437 50.41467194 51.30824022\n",
            " 51.75120345 52.5446694  53.1266714  53.58133042 54.14176843 54.2622209\n",
            " 54.65889914 54.79324152 54.75150252 54.73190918 54.73014693 54.78134744\n",
            " 54.7810326  54.84849221 54.93245225 55.04015737 54.97210059 55.15642128\n",
            " 55.01562011 54.91690268 54.79762824 54.8109992  54.63223131 54.85993458\n",
            " 54.79756136 54.78714469 54.73564153 54.58281284 54.51285646 54.48043779\n",
            " 54.48194228 54.46861172 54.37301972 54.31289526 54.32016128 54.26754919\n",
            " 54.11665647 53.91414422 54.00089295 53.95282407 53.8038106  53.74619299\n",
            " 53.90410563 53.80785005 53.84791725 53.93489347 53.96945924 53.9038595\n",
            " 53.83407569 53.96421744 53.7804197  53.82206619 53.7884358  53.70319642\n",
            " 53.81762876 53.73667331 53.65694579 53.7168712  53.57577875 53.59635583\n",
            " 53.60947388 53.42313709 53.32273478 53.17464374 53.2934225  53.40781175\n",
            " 53.34519744 53.2575114  53.25241864 53.20421498 53.07434086]\n"
          ]
        },
        {
          "name": "stderr",
          "output_type": "stream",
          "text": [
            "\n",
            "GP-UCB Experiments:   0%|          | 0/2 [00:00<?, ?it/s]\u001b[A\n",
            "GP-UCB Experiments:  50%|█████     | 1/2 [14:27<14:27, 867.96s/it]\u001b[A\n",
            "GP-UCB Experiments: 100%|██████████| 2/2 [28:53<00:00, 866.82s/it]\n",
            "Dimension of Kernel Used:  44%|████▍     | 12/27 [3:28:31<6:12:24, 1489.62s/it]"
          ]
        },
        {
          "name": "stdout",
          "output_type": "stream",
          "text": [
            "[ 3.9823721   6.63283231 10.68216282 14.11101308 17.98450176 22.97051992\n",
            " 24.50076399 25.76192337 28.59511359 32.2327593  37.25964458 41.80730986\n",
            " 42.03380689 42.5024357  42.7363869  43.3864968  43.65096319 44.08417379\n",
            " 44.50647479 44.71382185 45.07952905 45.94194913 46.41139602 46.57761003\n",
            " 47.11882136 47.20444111 47.73529372 47.97977769 48.32638593 48.42178043\n",
            " 48.84881    49.28847453 49.34467008 49.64205419 49.98012329 50.22147581\n",
            " 50.25974325 50.22200874 50.63299854 50.96000765 51.07142092 51.47989791\n",
            " 51.71204244 51.86547509 52.12937045 52.28755076 52.40931909 52.44079035\n",
            " 52.91184579 53.15574826 53.33836348 53.56284706 53.95243504 54.14315383\n",
            " 54.4255299  54.62829475 55.0081032  55.25580568 55.40370404 55.78977428\n",
            " 55.94301551 56.0457474  56.09188866 56.2135358  56.42551929 56.41397666\n",
            " 56.604734   56.70823068 56.9735588  57.05922204 57.28906404 57.65273066\n",
            " 57.61257381 57.70010563 57.8201246  57.8316445  58.05907769 58.0080331\n",
            " 58.22298373 58.31887043 58.4759677  58.34597346 58.29013102 58.20761685\n",
            " 58.23739633 58.14509248 58.3264201  58.56401453 58.581753   58.68409377\n",
            " 58.58575003 58.72299964 58.72924272 58.96682358 59.05666809 59.25215008\n",
            " 59.30376764 59.21894127 59.18386602 59.11375645 59.09170449]\n"
          ]
        },
        {
          "name": "stderr",
          "output_type": "stream",
          "text": [
            "\n",
            "GP-UCB Experiments:   0%|          | 0/2 [00:00<?, ?it/s]\u001b[A\n",
            "GP-UCB Experiments:  50%|█████     | 1/2 [16:43<16:43, 1003.89s/it]\u001b[A\n",
            "GP-UCB Experiments: 100%|██████████| 2/2 [33:25<00:00, 1002.96s/it]\n",
            "Dimension of Kernel Used:  48%|████▊     | 13/27 [4:01:57<6:24:04, 1646.03s/it]"
          ]
        },
        {
          "name": "stdout",
          "output_type": "stream",
          "text": [
            "[ 4.15488936  8.65876069 12.67514029 16.22110595 21.39459756 24.54022515\n",
            " 28.67916116 32.3931243  37.11311727 41.02694935 41.91582258 45.05238541\n",
            " 45.68747968 45.99962066 46.42744226 47.35457828 47.57033703 47.93473611\n",
            " 48.09174396 48.35407337 48.74837323 49.0935792  49.15821734 49.46325794\n",
            " 49.6528324  49.97596566 50.07551943 50.35814748 50.60533829 50.94853903\n",
            " 51.07120257 51.30578563 51.68494524 51.69328957 52.17164818 52.24012133\n",
            " 52.22226876 52.15182124 52.22426662 52.53011824 52.89142336 53.11407696\n",
            " 53.17920471 53.19489323 53.30520432 53.37859689 53.64479614 53.94091863\n",
            " 54.04839311 54.14998358 54.21848194 54.2951318  54.44180495 54.52140907\n",
            " 54.88514883 54.84642733 54.89555815 55.06463192 55.11903988 55.23398347\n",
            " 55.4470187  55.61251634 55.7707462  55.72769953 55.86146254 56.03682059\n",
            " 56.03960626 56.10068201 56.06639268 56.07432799 56.27763191 56.67078636\n",
            " 57.07483197 57.12023682 57.33215552 57.23503707 57.24973437 57.41007377\n",
            " 57.54538086 57.55374007 57.46957852 57.60664287 57.56128044 57.66000639\n",
            " 58.08517105 58.19981379 58.40337009 58.52465901 58.76059166 58.67996231\n",
            " 58.6377471  58.89817445 58.85979579 58.86543381 58.87045187 59.11366758\n",
            " 59.2088522  59.34945878 59.56733695 59.80872047 59.77631352]\n"
          ]
        },
        {
          "name": "stderr",
          "output_type": "stream",
          "text": [
            "\n",
            "GP-UCB Experiments:   0%|          | 0/2 [00:00<?, ?it/s]\u001b[A\n",
            "GP-UCB Experiments:  50%|█████     | 1/2 [16:45<16:45, 1005.01s/it]\u001b[A\n",
            "GP-UCB Experiments: 100%|██████████| 2/2 [33:20<00:00, 1000.41s/it]\n",
            "Dimension of Kernel Used:  52%|█████▏    | 14/27 [4:35:18<6:19:51, 1753.19s/it]"
          ]
        },
        {
          "name": "stdout",
          "output_type": "stream",
          "text": [
            "[ 3.83639675  8.82400861 13.51795445 18.65138719 21.68770517 26.13978176\n",
            " 28.69233428 31.00404093 32.96838345 35.27732313 37.676399   38.67215304\n",
            " 39.63772026 41.16164161 42.0052494  42.43255377 42.49550834 42.95779437\n",
            " 43.48730206 43.9409652  44.39677561 44.87677223 45.47076509 45.53321389\n",
            " 45.57164735 45.84419707 46.09369778 46.07529876 46.27416089 46.76055437\n",
            " 46.92382527 47.1301047  47.64816187 47.8317356  48.10665413 48.30240607\n",
            " 48.37958445 48.38962228 48.49250987 48.72588437 48.94722247 49.074088\n",
            " 49.32266953 49.2703081  49.34756704 49.71541128 49.82392266 50.18171901\n",
            " 50.33397187 50.46710497 50.78397663 50.84422371 50.89592939 51.0615871\n",
            " 51.00085006 51.20100549 51.56955816 51.78103596 51.77969702 51.93270053\n",
            " 51.96044479 51.93154162 52.01179685 52.0731854  52.06366429 52.1062118\n",
            " 52.13916151 52.46020295 52.41795982 52.4953474  52.64518229 52.79377207\n",
            " 52.83503859 53.06287927 53.00912316 53.19479759 53.18442098 53.27677012\n",
            " 53.3994372  53.50739089 53.47741278 53.56586309 53.69867017 53.74183066\n",
            " 53.81304523 53.89084419 53.90019252 53.91083769 53.86666095 53.90410178\n",
            " 53.93983135 53.87137076 53.9212745  53.91418977 54.04787671 54.29461437\n",
            " 54.24760356 54.15714361 54.19369641 54.19342413 54.36416802]\n"
          ]
        },
        {
          "name": "stderr",
          "output_type": "stream",
          "text": [
            "\n",
            "GP-UCB Experiments:   0%|          | 0/2 [00:00<?, ?it/s]\u001b[A\n",
            "GP-UCB Experiments:  50%|█████     | 1/2 [18:47<18:47, 1127.42s/it]\u001b[A\n",
            "GP-UCB Experiments: 100%|██████████| 2/2 [37:41<00:00, 1130.81s/it]\n",
            "Dimension of Kernel Used:  56%|█████▌    | 15/27 [5:12:59<6:21:17, 1906.45s/it]"
          ]
        },
        {
          "name": "stdout",
          "output_type": "stream",
          "text": [
            "[ 4.02890356  8.55809125 12.95872172 17.24883585 22.23396111 23.89606392\n",
            " 27.00053136 30.8716476  31.04535469 32.39222238 34.20155584 35.16484411\n",
            " 36.51754627 39.0998013  41.87905428 43.96788699 43.94414209 44.11350283\n",
            " 44.10049549 44.04852733 44.31077273 44.35771256 44.38379002 44.45860132\n",
            " 44.47445671 44.6925571  45.05135738 45.14941575 45.45825228 45.50070233\n",
            " 45.69274311 45.69762193 45.72494464 45.68862127 45.64106032 46.05989299\n",
            " 46.05813041 46.1255596  46.23246342 46.12140272 46.21470744 46.2253403\n",
            " 46.35600908 46.69289513 46.65867007 46.8369642  47.22671638 47.24460482\n",
            " 47.33439435 47.36944489 47.46369806 47.4800178  47.65753404 47.77709196\n",
            " 48.03346307 48.20376495 48.37477884 48.56195685 48.85202518 48.86244985\n",
            " 48.80083134 48.84114295 49.08705778 49.04057074 49.01084705 49.01036607\n",
            " 49.13639535 49.26339892 49.30422311 49.59724156 49.59776279 49.64312201\n",
            " 49.74764653 49.67902416 49.79033804 50.15715408 50.16285662 50.19638827\n",
            " 50.24182588 50.43539934 50.42114018 50.51961356 50.62803087 50.56096366\n",
            " 50.80073883 51.02129133 51.20312432 51.09099246 51.12143207 51.0443383\n",
            " 50.97164289 51.02855296 51.03155369 50.98024655 51.03253969 50.95606431\n",
            " 51.02937586 51.27150693 51.54215197 51.54442445 51.61092323]\n"
          ]
        },
        {
          "name": "stderr",
          "output_type": "stream",
          "text": [
            "\n",
            "GP-UCB Experiments:   0%|          | 0/2 [00:00<?, ?it/s]\u001b[A\n",
            "GP-UCB Experiments:  50%|█████     | 1/2 [18:44<18:44, 1124.94s/it]\u001b[A\n",
            "GP-UCB Experiments: 100%|██████████| 2/2 [37:35<00:00, 1127.74s/it]\n",
            "Dimension of Kernel Used:  59%|█████▉    | 16/27 [5:50:35<6:08:46, 2011.51s/it]"
          ]
        },
        {
          "name": "stdout",
          "output_type": "stream",
          "text": [
            "[ 2.65018275  4.99963894  7.28300417 10.19602571 12.25869709 15.22295726\n",
            " 18.13825414 20.4149094  25.09123285 27.67784244 28.82807227 29.98122388\n",
            " 31.98494323 32.22673219 32.54950141 32.73322817 36.59188546 37.06397326\n",
            " 37.16121734 37.47377826 37.65605067 37.98661823 38.26298727 38.53175499\n",
            " 38.84440359 38.96629773 39.35548851 39.47272787 39.70129567 39.6760291\n",
            " 39.8445331  40.22014083 40.55763959 41.00517339 41.13809384 41.49159086\n",
            " 43.64619972 43.8072391  44.00891569 44.09820118 44.27489951 44.35838778\n",
            " 44.44382722 44.50696609 44.71735301 44.73822545 44.86642761 45.00358914\n",
            " 45.12745594 45.15718618 45.1760346  45.2215409  45.6318707  45.82984827\n",
            " 45.87565253 45.84990043 46.16338167 46.23989184 46.25968567 46.41278546\n",
            " 46.40295214 46.47430846 46.54632554 46.58082843 46.55593016 46.5808294\n",
            " 46.74037687 46.80417878 46.95489227 46.96604208 47.15815164 47.1539602\n",
            " 47.45553851 47.61380186 47.64176912 47.72643012 48.17554238 48.34812658\n",
            " 48.46118773 48.56022909 48.63984378 49.03827608 49.07116215 49.24255257\n",
            " 49.45067202 49.63069973 49.79019973 49.99270492 50.05040591 50.04135062\n",
            " 50.12855509 50.22709186 50.24304021 50.47455259 50.87292093 50.93515978\n",
            " 51.05423132 51.20236219 51.36967254 51.54756416 51.55683675]\n"
          ]
        },
        {
          "name": "stderr",
          "output_type": "stream",
          "text": [
            "\n",
            "GP-UCB Experiments:   0%|          | 0/2 [00:00<?, ?it/s]\u001b[A\n",
            "GP-UCB Experiments:  50%|█████     | 1/2 [21:01<21:01, 1261.67s/it]\u001b[A\n",
            "GP-UCB Experiments: 100%|██████████| 2/2 [42:06<00:00, 1263.26s/it]\n",
            "Dimension of Kernel Used:  63%|██████▎   | 17/27 [6:32:41<6:01:03, 2166.37s/it]"
          ]
        },
        {
          "name": "stdout",
          "output_type": "stream",
          "text": [
            "[ 1.76207626  4.67999742  7.58155313  9.78986221 12.81798329 16.63084358\n",
            " 18.61855212 21.52440914 22.517004   24.92315537 26.19237458 28.06280034\n",
            " 30.55315914 30.63100818 30.58554799 34.2722715  39.06045007 39.85853955\n",
            " 39.86329459 39.96061223 40.11445764 40.17927781 42.86329005 42.95456907\n",
            " 43.14264294 43.18792148 43.17355755 43.28527281 45.29438015 45.30555184\n",
            " 45.29417957 45.38183221 45.43097689 45.43819175 45.59613345 45.64548783\n",
            " 45.98490382 46.09532836 46.47151621 46.45937962 46.62203408 46.59823598\n",
            " 46.57389961 46.5950593  46.52891842 46.77600656 47.03355011 47.02298471\n",
            " 47.17055227 47.33644297 47.31725242 47.41978595 47.57287565 47.630677\n",
            " 47.69406085 47.75513725 47.83466981 48.05511598 48.11359525 48.03962629\n",
            " 48.13613352 48.06625855 48.20590157 48.17781369 48.22195514 48.21642427\n",
            " 48.28607607 48.2581544  48.27754902 48.32601548 48.27524224 48.3354941\n",
            " 48.33073665 48.35314346 48.4005893  48.30276597 48.35013506 48.56870205\n",
            " 48.61905452 48.64332165 48.92113211 48.95639486 49.03025359 49.06320828\n",
            " 49.06787926 49.17274793 49.14442171 49.09996826 49.20517465 49.19421548\n",
            " 49.40599997 49.43999669 49.64324225 49.72360171 49.70148271 49.63833287\n",
            " 49.61056376 49.67980301 49.77046075 49.84629115 49.77338988]\n"
          ]
        },
        {
          "name": "stderr",
          "output_type": "stream",
          "text": [
            "\n",
            "GP-UCB Experiments:   0%|          | 0/2 [00:00<?, ?it/s]\u001b[A\n",
            "GP-UCB Experiments:  50%|█████     | 1/2 [21:03<21:03, 1263.99s/it]\u001b[A\n",
            "GP-UCB Experiments: 100%|██████████| 2/2 [42:46<00:00, 1283.43s/it]\n",
            "Dimension of Kernel Used:  67%|██████▋   | 18/27 [7:15:28<5:43:00, 2286.72s/it]"
          ]
        },
        {
          "name": "stdout",
          "output_type": "stream",
          "text": [
            "[ 4.40186957  8.48418517 13.09866514 15.40377267 17.78573339 20.05191424\n",
            " 22.41613943 24.83853576 25.45551232 27.35130504 30.06165947 32.25560705\n",
            " 33.1605982  37.53224738 37.87582833 38.19754896 38.35383628 40.85607643\n",
            " 43.33356392 43.40371798 43.50489899 43.54181826 44.08230428 44.17880913\n",
            " 44.45391428 46.94629842 46.98121885 47.1108417  47.14980288 47.22028085\n",
            " 47.3874948  47.39366177 47.55327936 47.6629914  47.8392201  47.82233407\n",
            " 48.01192477 48.17249004 48.14463652 48.12258136 48.31209531 48.36525279\n",
            " 48.39272883 48.73170357 48.82376966 49.00615168 49.0842711  49.20821789\n",
            " 49.25785285 49.27231057 49.38027534 49.35486763 49.85358585 49.86635647\n",
            " 49.89660374 50.09118154 50.20075489 50.50154915 50.64104419 50.84245541\n",
            " 50.98754978 51.02856494 51.23738165 51.43678211 51.72027469 51.92339407\n",
            " 52.110957   52.30942933 52.4830509  52.54802769 52.63205916 52.62973648\n",
            " 52.76661418 52.8692814  53.16154321 53.25388475 53.38509966 53.4636275\n",
            " 53.45587626 53.49979561 53.5839484  53.96388289 54.05247434 54.16753014\n",
            " 54.18483437 54.33788742 54.39475666 54.43255585 54.48500856 54.50662253\n",
            " 54.55052541 54.61207735 54.6043468  54.60844315 54.79655816 54.84498069\n",
            " 54.85387936 54.95228155 54.99724565 55.15267685 55.46357535]\n"
          ]
        },
        {
          "name": "stderr",
          "output_type": "stream",
          "text": [
            "\n",
            "GP-UCB Experiments:   0%|          | 0/2 [00:00<?, ?it/s]\u001b[A\n",
            "GP-UCB Experiments:  50%|█████     | 1/2 [23:23<23:23, 1403.01s/it]\u001b[A\n",
            "GP-UCB Experiments: 100%|██████████| 2/2 [46:46<00:00, 1403.39s/it]\n",
            "Dimension of Kernel Used:  70%|███████   | 19/27 [8:02:15<5:25:43, 2442.92s/it]"
          ]
        },
        {
          "name": "stdout",
          "output_type": "stream",
          "text": [
            "[ 2.97186306  7.68322144 12.09460712 15.01080245 16.94096839 19.23898379\n",
            " 22.02582345 23.84028131 26.73416045 30.15491887 30.43937099 30.88216174\n",
            " 33.09394141 35.57777461 35.85091925 35.85889857 37.98084796 42.56073666\n",
            " 44.54842803 44.80300699 44.9011868  44.92411929 47.23241655 47.35065292\n",
            " 49.65527753 51.53735908 53.56620724 53.50264133 53.56227719 53.57377157\n",
            " 53.7375104  53.88397482 54.12138668 54.1465144  54.10845866 54.11848544\n",
            " 54.14618338 54.36801632 54.34070773 54.37141079 54.38666517 54.4458183\n",
            " 54.4607053  54.66461767 54.75887842 54.87649803 54.90530299 54.90142261\n",
            " 54.92128691 54.83117903 54.97490533 55.06891953 55.25596124 55.20755687\n",
            " 55.18166549 55.10040748 55.21690515 55.49181415 55.5924114  55.60010921\n",
            " 55.76357891 55.72970613 55.92754362 56.01309213 56.02260838 55.97160058\n",
            " 56.05425157 55.9706581  56.0223425  56.02693113 55.93406338 55.93368543\n",
            " 55.95244614 56.04385209 56.31970294 56.38240565 56.33072941 56.44149753\n",
            " 56.56047806 56.93009121 57.04168531 57.01138349 57.11231469 57.16835809\n",
            " 57.38881016 57.5281256  57.5216347  57.45099647 57.68042294 57.59093529\n",
            " 57.68193955 57.69312089 57.7346914  57.83684052 57.79311315 57.78284075\n",
            " 57.81362626 58.09325256 58.09738648 58.09422228 58.21504903]\n"
          ]
        },
        {
          "name": "stderr",
          "output_type": "stream",
          "text": [
            "\n",
            "GP-UCB Experiments:   0%|          | 0/2 [00:00<?, ?it/s]\u001b[A\n",
            "GP-UCB Experiments:  50%|█████     | 1/2 [23:23<23:23, 1403.63s/it]\u001b[A\n",
            "GP-UCB Experiments: 100%|██████████| 2/2 [46:45<00:00, 1402.58s/it]\n",
            "Dimension of Kernel Used:  74%|███████▍  | 20/27 [8:49:00<4:57:41, 2551.68s/it]"
          ]
        },
        {
          "name": "stdout",
          "output_type": "stream",
          "text": [
            "[ 3.65503951  7.21108189  9.7250761  11.98523191 12.17735009 14.44209066\n",
            " 15.72352299 16.74185714 17.33762729 17.5321063  21.73143912 21.61010036\n",
            " 21.51450726 21.77652398 21.56506809 21.37609173 21.19752946 23.17321991\n",
            " 23.05246857 22.82871065 22.60624558 22.54952831 23.18588538 25.14707351\n",
            " 26.85290256 26.789642   26.56905323 26.27906668 26.04296946 25.91344111\n",
            " 25.68580773 25.72389868 25.52006186 25.30709562 25.01408814 24.94973505\n",
            " 24.9247106  24.76685452 24.56815905 24.30102296 24.01481656 23.99817028\n",
            " 23.82907949 25.5947547  25.39633775 25.1800517  25.12998682 24.92908405\n",
            " 24.67699349 24.58150382 24.41559015 24.34029449 24.24985738 24.10533804\n",
            " 23.82534386 26.34260038 26.16274433 26.01854666 26.00746293 25.76652575\n",
            " 25.61852494 25.37143596 25.41078455 25.15075799 24.91980038 24.92835209\n",
            " 24.67061728 24.49527041 24.28686964 24.04592156 23.75598879 23.75381272\n",
            " 23.47441147 23.25474813 23.05796564 22.81913215 22.73877797 22.44954089\n",
            " 22.31622354 22.02659235 21.91986268 21.65188152 21.55104173 21.69299389\n",
            " 21.51759928 21.2425714  21.06411552 20.85989973 20.79079772 20.53500679\n",
            " 20.35337816 20.12877315 19.95734456 19.71536164 19.61157934 19.40587269\n",
            " 19.14700122 18.95909245 18.87738145 18.84799958 18.5163386 ]\n"
          ]
        },
        {
          "name": "stderr",
          "output_type": "stream",
          "text": [
            "\n",
            "GP-UCB Experiments:   0%|          | 0/2 [00:00<?, ?it/s]\u001b[A\n",
            "GP-UCB Experiments:  50%|█████     | 1/2 [25:52<25:52, 1552.10s/it]\u001b[A\n",
            "GP-UCB Experiments: 100%|██████████| 2/2 [51:40<00:00, 1550.38s/it]\n",
            "Dimension of Kernel Used:  78%|███████▊  | 21/27 [9:40:41<4:31:38, 2716.50s/it]"
          ]
        },
        {
          "name": "stdout",
          "output_type": "stream",
          "text": [
            "[ 4.95703519  9.3367374  13.35791722 17.88568419 21.91120207 26.29525696\n",
            " 27.23626998 29.70772941 32.94031629 35.3365087  35.54344808 36.10532544\n",
            " 36.35809042 38.74431351 39.10237099 39.34564394 41.5947183  42.29820387\n",
            " 42.55443154 42.65377864 44.81644825 45.57760821 47.70457282 47.8100742\n",
            " 50.03831721 52.65272051 54.79074934 54.91894147 54.96065515 55.08836663\n",
            " 55.32527751 55.59353783 55.59782125 55.68849207 55.89161446 55.96171603\n",
            " 56.06066206 56.21225179 56.39685793 56.60890658 56.86631907 57.21148843\n",
            " 57.4254824  57.64446399 57.76063496 58.01484771 60.47738566 60.72255057\n",
            " 60.82524482 61.05355409 61.16517813 61.42348618 61.67563012 61.94810087\n",
            " 62.26148146 62.43024036 62.60533806 62.64659015 62.84677903 63.26980375\n",
            " 63.46482303 63.57378928 63.77787509 63.91079026 66.19084814 66.55863729\n",
            " 66.68897775 66.78950773 66.85783078 67.07849695 67.1848936  67.24156819\n",
            " 67.46382731 67.6282746  67.739042   67.85322955 68.04005853 68.13429674\n",
            " 68.3249654  68.38632202 68.53502428 68.63180662 68.90929627 68.98077174\n",
            " 69.18814295 69.33779584 69.4222518  69.52477028 69.65085172 69.73609825\n",
            " 69.92296436 70.03294916 70.05226709 70.09943149 70.25217462 70.53991846\n",
            " 70.75523458 70.90866359 71.11095475 71.16159919 71.31842006]\n"
          ]
        },
        {
          "name": "stderr",
          "output_type": "stream",
          "text": [
            "\n",
            "GP-UCB Experiments:   0%|          | 0/2 [00:00<?, ?it/s]\u001b[A\n",
            "GP-UCB Experiments:  50%|█████     | 1/2 [26:02<26:02, 1562.83s/it]\u001b[A\n",
            "GP-UCB Experiments: 100%|██████████| 2/2 [52:06<00:00, 1563.14s/it]\n",
            "Dimension of Kernel Used:  81%|████████▏ | 22/27 [10:32:47<3:56:37, 2839.48s/it]"
          ]
        },
        {
          "name": "stdout",
          "output_type": "stream",
          "text": [
            "[ 4.28375433  7.43548999  9.61342577 11.90412092 14.67727646 16.88149226\n",
            " 20.07551128 21.87311458 23.90435318 23.88035859 25.6866615  26.57141705\n",
            " 28.7903275  28.75793233 30.67226425 35.04024104 37.17266146 39.07044936\n",
            " 41.3766246  43.70368043 43.76378393 43.72344693 46.50288032 46.55307714\n",
            " 48.57219793 48.7540467  48.96862226 51.34442855 51.23318473 51.25577921\n",
            " 51.63652533 51.66439869 51.73732462 51.81514136 51.84160146 51.82997798\n",
            " 51.86452569 54.06838298 54.16597332 54.36947213 54.40443224 54.37829354\n",
            " 54.38113326 54.50528385 54.61000192 54.51331995 54.52556734 54.67518669\n",
            " 54.73190198 54.72413914 54.8058291  54.73830718 54.66467754 54.72958952\n",
            " 54.66224749 54.65281492 54.71958004 54.71137901 54.68751708 54.67171872\n",
            " 54.62311163 54.59995464 54.53243529 54.73761033 54.6860564  54.70197865\n",
            " 54.7105885  54.77345198 54.72937997 54.83700883 54.89856923 55.02242144\n",
            " 54.96629454 55.05322278 55.04433443 55.0982479  55.22325609 55.17602927\n",
            " 55.31264754 55.27868125 55.30837676 55.25722708 55.23614763 55.22081642\n",
            " 55.32467879 55.21715593 55.20453073 55.16548423 55.09467166 55.06286059\n",
            " 55.13901673 55.18892486 55.21626429 55.487495   55.66556977 55.60215891\n",
            " 55.60059921 55.76159787 55.82122379 55.94204185 56.12424087]\n"
          ]
        },
        {
          "name": "stderr",
          "output_type": "stream",
          "text": [
            "\n",
            "GP-UCB Experiments:   0%|          | 0/2 [00:00<?, ?it/s]\u001b[A\n",
            "GP-UCB Experiments:  50%|█████     | 1/2 [28:38<28:38, 1718.33s/it]\u001b[A\n",
            "GP-UCB Experiments: 100%|██████████| 2/2 [57:17<00:00, 1718.83s/it]\n",
            "Dimension of Kernel Used:  85%|████████▌ | 23/27 [11:30:05<3:21:15, 3018.99s/it]"
          ]
        },
        {
          "name": "stdout",
          "output_type": "stream",
          "text": [
            "[ 3.88088879  6.73143835 10.23755848 14.70896759 17.06101015 19.93742229\n",
            " 23.07316398 26.44471694 29.06635855 31.32422655 33.51513415 35.83402937\n",
            " 40.40229419 42.3938403  42.68075138 43.56697062 43.9529061  46.12820041\n",
            " 49.50765724 51.81429195 54.11663447 56.35856591 56.40650278 56.47255012\n",
            " 56.5084825  56.59483594 56.49424237 58.67478411 58.71368056 60.98417055\n",
            " 61.08574975 61.10743532 61.15775868 61.44496694 63.93851366 64.11368803\n",
            " 64.15923139 64.35388258 64.45400289 64.43196694 64.69594154 64.6573156\n",
            " 64.76213113 66.93572517 66.92943902 66.97136584 67.01103844 67.32405462\n",
            " 67.56034103 67.58547511 67.65847241 67.60959479 67.76278572 67.98430736\n",
            " 68.06438625 68.04127527 68.11982066 68.15427587 68.22174134 68.17765306\n",
            " 68.21418236 68.29514173 68.40785552 68.37092    68.48042749 68.52287357\n",
            " 68.61071694 68.64243594 68.6129992  68.8229773  68.93232002 69.15686722\n",
            " 69.22876632 69.35444452 69.46741185 69.49986246 69.45244379 69.40162038\n",
            " 69.56257692 69.52515484 69.6667546  69.73934597 69.82732121 69.91328029\n",
            " 69.8862601  69.86947279 69.97361886 69.99623056 69.88833163 69.88177143\n",
            " 69.96576817 69.94484426 70.16326805 70.28361904 70.41807569 70.59671969\n",
            " 70.58473241 70.53498773 70.58985512 70.57860405 70.62584494]\n"
          ]
        },
        {
          "name": "stderr",
          "output_type": "stream",
          "text": [
            "\n",
            "GP-UCB Experiments:   0%|          | 0/2 [00:00<?, ?it/s]\u001b[A\n",
            "GP-UCB Experiments:  50%|█████     | 1/2 [28:31<28:31, 1711.31s/it]\u001b[A\n",
            "GP-UCB Experiments: 100%|██████████| 2/2 [57:16<00:00, 1718.02s/it]\n",
            "Dimension of Kernel Used:  89%|████████▉ | 24/27 [12:27:21<2:37:12, 3144.13s/it]"
          ]
        },
        {
          "name": "stdout",
          "output_type": "stream",
          "text": [
            "[ 3.6937147   8.24961135 10.91353017 12.54701843 13.50719957 15.76970177\n",
            " 16.29992835 17.18279392 18.03417232 18.89741059 20.84141079 23.49798581\n",
            " 25.84822542 28.00500402 29.88812533 32.12828543 34.69399669 36.84046492\n",
            " 38.93947773 39.11397314 43.51924249 45.60198271 45.72442888 45.81485609\n",
            " 45.9733898  46.12012278 48.90194389 49.00830541 49.24793083 49.25557176\n",
            " 51.59903014 51.77100875 51.92812475 51.95590794 51.96278354 54.42069872\n",
            " 56.84523306 56.8821867  56.91042394 57.16514906 57.23556335 57.1766739\n",
            " 57.11263196 57.17777087 57.41677699 57.45672972 57.7194101  57.91148064\n",
            " 57.86279455 58.05038614 58.13799983 58.11695191 58.15269652 58.31898739\n",
            " 58.4216412  58.38799732 58.49264051 58.53113264 58.59591379 58.69586624\n",
            " 58.67864715 61.11279718 61.17698171 61.17358883 61.12037037 61.15206087\n",
            " 61.19945522 61.17757953 61.21547228 61.23510856 61.21949255 61.30073134\n",
            " 61.35008934 61.38313447 61.39134343 61.4304868  61.39446501 61.33897794\n",
            " 61.38827692 63.46964397 63.52660216 63.58030761 63.70410577 63.72613482\n",
            " 63.82300899 63.85086264 63.90983076 63.99435199 64.09888148 64.15747457\n",
            " 64.18685829 64.28334911 64.52212768 64.5205061  66.83753519 66.82658585\n",
            " 66.9332863  66.90453393 66.94778964 67.08078588 67.01360666]\n"
          ]
        },
        {
          "name": "stderr",
          "output_type": "stream",
          "text": [
            "\n",
            "GP-UCB Experiments:   0%|          | 0/2 [00:00<?, ?it/s]\u001b[A\n",
            "GP-UCB Experiments:  50%|█████     | 1/2 [31:06<31:06, 1866.01s/it]\u001b[A\n",
            "GP-UCB Experiments: 100%|██████████| 2/2 [1:02:17<00:00, 1868.53s/it]\n",
            "Dimension of Kernel Used:  93%|█████████▎| 25/27 [13:29:38<1:50:44, 3322.04s/it]"
          ]
        },
        {
          "name": "stdout",
          "output_type": "stream",
          "text": [
            "[ 4.98508849  8.5871838  12.01918798 14.45233958 17.86237854 20.52843486\n",
            " 21.55051327 22.45872796 23.10366764 23.63926355 24.76624009 27.10131553\n",
            " 29.2169462  29.396294   31.57070767 33.83813994 38.02046386 40.15771437\n",
            " 40.22053573 40.07824133 42.08248489 41.95315232 43.98928667 46.1167053\n",
            " 46.17603312 46.01640203 48.1590149  48.17852859 48.16928652 50.72079698\n",
            " 52.98839373 54.89677241 54.74764946 54.81887444 54.77146354 56.81146585\n",
            " 56.68969875 56.47086147 56.61679088 56.71364831 56.56364532 56.44708535\n",
            " 56.27301888 56.21585273 56.09864258 55.96494411 56.02975469 55.95934148\n",
            " 55.86946792 55.79014594 55.71984436 55.8488402  55.80543906 58.14485231\n",
            " 58.04754745 57.98065253 57.89420627 57.88394065 57.86278794 57.78149719\n",
            " 57.75519139 57.69179815 57.62404837 57.48099867 57.49156818 57.58592834\n",
            " 57.52079561 57.44082502 57.3840504  57.26315577 57.21686996 57.13102078\n",
            " 57.07964335 57.03462753 56.87911485 56.74859873 56.7735522  56.56613879\n",
            " 56.63542309 56.58307555 56.72652066 56.65109361 56.84193249 56.72310777\n",
            " 56.69047983 56.56296768 56.53603738 56.35704652 56.34321607 56.32743079\n",
            " 56.4079947  56.44071592 56.36696712 56.39389148 56.24623196 56.26859209\n",
            " 56.15184474 56.12999704 56.11470548 56.2698356  56.19591164]\n"
          ]
        },
        {
          "name": "stderr",
          "output_type": "stream",
          "text": [
            "\n",
            "GP-UCB Experiments:   0%|          | 0/2 [00:00<?, ?it/s]\u001b[A\n",
            "GP-UCB Experiments:  50%|█████     | 1/2 [31:08<31:08, 1868.92s/it]\u001b[A\n",
            "GP-UCB Experiments: 100%|██████████| 2/2 [1:01:58<00:00, 1859.48s/it]\n",
            "Dimension of Kernel Used:  96%|█████████▋| 26/27 [14:31:37<57:21, 3441.12s/it]  "
          ]
        },
        {
          "name": "stdout",
          "output_type": "stream",
          "text": [
            "[ 4.50089721  8.97463949 13.61537354 18.28798333 22.88295314 27.25483935\n",
            " 27.37290516 28.75513642 29.51489517 31.02587406 32.56956867 33.09963439\n",
            " 33.87486633 33.97785641 33.95108629 34.01095639 38.33053902 42.91902554\n",
            " 47.61386211 47.60307513 49.43505648 49.43697722 49.40543518 54.03805628\n",
            " 53.97089275 56.31192924 56.34271726 58.36600288 58.31107282 58.32012307\n",
            " 58.2449226  58.2119756  62.864161   63.05164652 63.03355873 63.05004859\n",
            " 65.12495063 65.12891424 65.20879788 65.27572307 67.21305474 67.2532227\n",
            " 67.40426322 67.41775239 67.72773238 67.76838207 67.80980676 67.9888551\n",
            " 68.08131627 68.20591232 68.48004297 68.56920824 68.56374778 68.67702988\n",
            " 68.7682062  68.85635775 68.85176194 70.78731106 70.75955219 70.97391759\n",
            " 71.20072857 71.14474124 71.2123054  71.34343341 71.35370662 71.28874203\n",
            " 71.35473595 71.47028242 71.49710183 71.52727377 71.59415254 71.5491412\n",
            " 71.54197733 71.67461161 71.81828297 71.85033624 72.0063473  72.06156292\n",
            " 72.0377855  72.11898174 72.30388626 72.58323523 72.64322413 72.72175212\n",
            " 72.77305873 72.82321092 73.05841838 73.08400897 73.16761259 73.12593493\n",
            " 73.16089637 73.09190681 73.12389987 73.23662363 73.28566784 73.32837185\n",
            " 73.3273013  73.42521059 73.55654712 73.6216409  73.60800389]\n"
          ]
        },
        {
          "name": "stderr",
          "output_type": "stream",
          "text": [
            "\n",
            "GP-UCB Experiments:   0%|          | 0/2 [00:00<?, ?it/s]\u001b[A\n",
            "GP-UCB Experiments:  50%|█████     | 1/2 [33:21<33:21, 2001.12s/it]\u001b[A\n",
            "GP-UCB Experiments: 100%|██████████| 2/2 [1:06:41<00:00, 2000.67s/it]\n",
            "Dimension of Kernel Used: 100%|██████████| 27/27 [15:38:18<00:00, 2085.14s/it]\n",
            "<ipython-input-10-ed9157f89696>:50: UserWarning: No artists with labels found to put in legend.  Note that artists whose label start with an underscore are ignored when legend() is called with no argument.\n",
            "  plt.legend()\n"
          ]
        },
        {
          "name": "stdout",
          "output_type": "stream",
          "text": [
            "[ 3.31895439  6.72922982 11.25504334 14.97090292 15.66963675 16.696936\n",
            " 18.28720917 20.03840243 20.46374549 22.43648308 22.93258607 24.07254638\n",
            " 23.94486604 26.16181698 28.69442712 31.07188712 31.3840134  31.40246673\n",
            " 33.47265189 37.65419932 40.21978194 42.4472     44.41696621 49.01308254\n",
            " 48.96340607 51.06391706 53.01874324 55.2161205  55.44749729 55.52058313\n",
            " 55.83855811 58.19568239 58.14658077 58.25357264 60.82038788 60.82448906\n",
            " 60.72727145 60.743087   60.70502388 60.89338643 60.99607037 63.40845258\n",
            " 63.31526724 63.35421826 63.37494217 63.51609686 63.55415417 63.62539485\n",
            " 63.59655258 63.67870786 63.6625136  63.68013249 63.54293941 63.45471453\n",
            " 63.59740861 63.55235879 63.50851842 63.44615285 63.47895656 63.46985178\n",
            " 63.55529791 63.53831221 66.25551361 66.10589845 66.11916815 66.25882203\n",
            " 68.38068913 68.45160578 68.50847504 68.51629625 68.51886854 68.56184586\n",
            " 68.47877789 68.7028432  68.81154496 68.92050002 68.84598461 69.00181494\n",
            " 68.98020086 68.84801115 68.76893773 68.99052818 68.96948063 69.13193047\n",
            " 69.19829516 69.11433676 69.07911299 68.962218   69.07095737 69.01475732\n",
            " 69.14981763 69.07354334 68.95699161 68.99892245 68.98296565 69.16180287\n",
            " 69.16763844 69.09594935 69.07854803 68.94294786 68.97877563]\n"
          ]
        },
        {
          "data": {
            "image/png": "[encoded data removed]",
            "text/plain": [
              "<Figure size 640x480 with 1 Axes>"
            ]
          },
          "metadata": {},
          "output_type": "display_data"
        },
        {
          "name": "stdout",
          "output_type": "stream",
          "text": [
            "[np.float64(71.78014929167705), np.float64(67.68346377039035), np.float64(63.2125244984249), np.float64(64.6451118769083), np.float64(52.03414263981895), np.float64(47.997470089679524), np.float64(11.058717979082461), np.float64(6.184149779061599), np.float64(7.681799872406351), np.float64(11.292093545565166), np.float64(8.84572347725634), np.float64(9.848617414946608), np.float64(9.962718919948438), np.float64(9.060694670712927), np.float64(8.601820538688061), np.float64(8.592806125011279), np.float64(8.295564979396119), np.float64(9.243929224404969), np.float64(9.7025081721847), np.float64(3.0860564332269362), np.float64(11.88640334252275), np.float64(9.354040145104815), np.float64(11.77097415674001), np.float64(11.168934443654317), np.float64(9.365985273764842), np.float64(12.26800064883851), np.float64(11.496462605309807)]\n",
            "[np.float64(1.6593472723335811), np.float64(1.2492464071420954), np.float64(0.24907866842408544), np.float64(4.582572181508657), np.float64(0.8510187134956482), np.float64(0.479146979445981), np.float64(3.403727914596791), np.float64(0.6765211673827007), np.float64(1.5532908889633206), np.float64(1.7862310476723582), np.float64(1.8011532410798423), np.float64(4.518214215086094), np.float64(1.809484629040816), np.float64(4.706630144010035), np.float64(3.2056371934357366), np.float64(3.0116600627506447), np.float64(3.9667887510774236), np.float64(0.41239735114614956), np.float64(2.8053841328557514), np.float64(1.2762311433844666), np.float64(1.4227523525028456), np.float64(0.853399431948714), np.float64(0.19764790840375687), np.float64(0.5387727399339113), np.float64(1.1703639156098031), np.float64(0.6522950663693384), np.float64(1.516100114508778)]\n"
          ]
        }
      ],
      "source": [
        "w_random = np.array([1 for _ in range(27)])\n",
        "# w_random = np.random.normal(loc=0.0, scale=sigma_w, size=27)\n",
        "\n",
        "qubits = 3\n",
        "seed = 1\n",
        "bounds = [(0, 2*np.pi), (0, 2*np.pi),(0, 2*np.pi)]\n",
        "\n",
        "quantum_f = lambda X: np.array([f_draw_from_GP(X[i]) for i in range(X.shape[0])])\n",
        "\n",
        "\n",
        "dim_tried = []\n",
        "regret_for_dim = []\n",
        "std_regret_for_dim = []\n",
        "\n",
        "for dim in trange(1,28,1, desc=\"Dimension of Kernel Used\"):\n",
        "\n",
        "  kernell = lambda X,Y: reduced_matrix_classic(X,Y,dim=dim)\n",
        "\n",
        "  gp = GaussianProcessRegressor(kernel=kernell, alpha=1e-4)\n",
        "\n",
        "  avg_best, best_hist_all,std_regret = run_multiple_experiments_gp_ucb(\n",
        "  f=quantum_f,\n",
        "  gp=gp,\n",
        "  bounds=bounds,\n",
        "  n_runs=2,\n",
        "  n_iter=100,\n",
        "  init_points=1,\n",
        "  n_grid=10,\n",
        "  beta_func=None,  # use the default inside gp_ucb_nd\n",
        "  random_state=42,\n",
        "  error = 5/dim,#get_max_error(dim),\n",
        "  verbose=False\n",
        ")\n",
        "\n",
        "  dim_tried.append(dim)\n",
        "  regret_for_dim.append(avg_best[-1]/6) #5.2\n",
        "  std_regret_for_dim.append(std_regret[-1]/6)\n",
        "  print(avg_best)\n",
        "\n",
        "\n",
        "plt.errorbar(dim_tried,regret_for_dim,std_regret_for_dim,ls=\"-\",\n",
        "             marker='d',\n",
        "             color=\"#009E73\",\n",
        "             alpha=1.0,\n",
        "             capsize=4)\n",
        "plt.title(\"Regret for Different Kernel Used\")\n",
        "plt.xlabel(\"Dimension of Kernel Used for Modeling\")\n",
        "plt.ylabel(\"Regret for T=100\")\n",
        "plt.grid(True)\n",
        "plt.legend()\n",
        "plt.show()\n",
        "\n",
        "\n",
        "print(regret_for_dim)\n",
        "print(std_regret_for_dim)"
      ]
    },
    {
      "cell_type": "code",
      "execution_count": null,
      "metadata": {
        "colab": {
          "background_save": true,
          "base_uri": "https://localhost:8080/"
        },
        "id": "sWWEDw6bII56",
        "outputId": "6b4107a9-d482-4b65-8c16-a2f4937ecdc9"
      },
      "outputs": [
        {
          "name": "stderr",
          "output_type": "stream",
          "text": [
            "Dimension of Kernel Used:   0%|          | 0/27 [00:00<?, ?it/s]\n",
            "GP-UCB Experiments:   0%|          | 0/3 [00:00<?, ?it/s]\u001b[A\n",
            "GP-UCB Experiments:  33%|███▎      | 1/3 [00:20<00:41, 20.70s/it]\u001b[A\n",
            "GP-UCB Experiments:  67%|██████▋   | 2/3 [00:27<00:12, 12.79s/it]\u001b[A\n",
            "GP-UCB Experiments: 100%|██████████| 3/3 [00:36<00:00, 12.04s/it]\n",
            "Dimension of Kernel Used:   4%|▎         | 1/27 [00:36<15:39, 36.14s/it]"
          ]
        },
        {
          "name": "stdout",
          "output_type": "stream",
          "text": [
            "[  3.72908783   7.20494799   9.61981448  12.4460523   16.69454653\n",
            "  20.68175883  23.49616096  27.26381516  30.09158049  32.30264614\n",
            "  36.01859501  39.31496852  42.93713334  46.57568328  50.00792126\n",
            "  54.04009026  57.95034542  61.36169579  64.36093973  68.36719901\n",
            "  71.81076671  75.86796143  78.83895809  82.47109289  85.23265748\n",
            "  88.19720283  92.18837244  95.46170562  99.54810925 103.5004602\n",
            " 107.52864688 111.37503734 115.61147037 119.15904175 123.42412323\n",
            " 126.48869261 130.2282352  132.8718001  136.32553282 140.31712739\n",
            " 144.49578871 148.55703855 151.44073454 155.38691893 158.73757388\n",
            " 162.09774897 165.40864606 169.27777353 173.35992696 176.96454895\n",
            " 180.44684235 183.6100211  186.73404568 190.51924471 195.00953027\n",
            " 197.53336864 201.05203146 204.30752539 207.3462936  211.18669126\n",
            " 214.53146814 218.18946691 222.31712071 226.26344863 230.13634668\n",
            " 234.24343268 237.93212855 241.94738165 244.90017123 247.54748945\n",
            " 251.33473718 254.75353348 258.94814273 262.9551385  266.88671661\n",
            " 270.64792769 273.88955329 277.59660879 280.83021644 285.08915091\n",
            " 289.24159942 293.27484386 297.63862234 300.61689684 304.3873548\n",
            " 307.35315288 310.90316704 313.91545703 318.02737019 321.94259872\n",
            " 325.80492207 329.21957383 332.66705183 335.82482764 339.86728609\n",
            " 343.94583013 346.56576317 350.4534872  354.38651245 357.34994922\n",
            " 361.3022279 ]\n"
          ]
        },
        {
          "name": "stderr",
          "output_type": "stream",
          "text": [
            "\n",
            "GP-UCB Experiments:   0%|          | 0/3 [00:00<?, ?it/s]\u001b[A\n",
            "GP-UCB Experiments:  33%|███▎      | 1/3 [00:07<00:15,  7.59s/it]\u001b[A\n",
            "GP-UCB Experiments:  67%|██████▋   | 2/3 [00:15<00:07,  7.57s/it]\u001b[A\n",
            "GP-UCB Experiments: 100%|██████████| 3/3 [00:23<00:00,  7.78s/it]\n",
            "Dimension of Kernel Used:   7%|▋         | 2/27 [00:59<11:55, 28.61s/it]"
          ]
        },
        {
          "name": "stdout",
          "output_type": "stream",
          "text": [
            "[  2.49079785   6.46232557  10.44343218  14.78346748  18.57245024\n",
            "  21.46782848  25.70963611  29.54694225  31.98524663  35.39799093\n",
            "  37.24844742  41.04355652  44.95490362  48.85778181  52.76225619\n",
            "  56.8189579   61.77341971  65.98026819  69.75368681  73.09800169\n",
            "  77.09507614  81.01459906  83.77113369  86.94538821  90.57769796\n",
            "  94.78597247  99.29692489 103.5151667  106.51939761 110.60753204\n",
            " 114.53441882 119.01331946 122.90109211 126.84234196 130.89348642\n",
            " 134.5560577  137.67501953 141.07976015 145.18065921 149.3416775\n",
            " 153.10169046 156.84569007 160.68565737 163.69126696 167.24224007\n",
            " 171.12457596 174.60271001 178.25254797 181.59257028 185.01393014\n",
            " 189.52132623 193.18603129 197.10657226 200.64355213 202.76152797\n",
            " 206.43342844 210.64656567 213.32559363 217.31938961 220.7621006\n",
            " 224.42443926 227.86139482 231.4641137  235.16633837 238.81231677\n",
            " 242.60906863 245.98661338 249.83744849 252.37076246 256.4017168\n",
            " 259.20016813 263.44051999 266.60167317 270.71770573 274.40709637\n",
            " 278.37073684 281.8491023  285.85486847 289.91896447 292.95145399\n",
            " 296.36312808 300.13451208 303.41716005 305.92158518 310.56042079\n",
            " 314.46393604 317.38322612 321.34703114 325.48771732 329.33873071\n",
            " 332.8649303  336.86001041 340.31932614 343.97526002 348.27636279\n",
            " 351.78961295 355.68301393 358.91144027 362.84196955 366.84003109\n",
            " 370.64475948]\n"
          ]
        },
        {
          "name": "stderr",
          "output_type": "stream",
          "text": [
            "\n",
            "GP-UCB Experiments:   0%|          | 0/3 [00:00<?, ?it/s]\u001b[A\n",
            "GP-UCB Experiments:  33%|███▎      | 1/3 [00:12<00:24, 12.12s/it]\u001b[A\n",
            "GP-UCB Experiments:  67%|██████▋   | 2/3 [00:24<00:12, 12.05s/it]\u001b[A\n",
            "GP-UCB Experiments: 100%|██████████| 3/3 [00:35<00:00, 11.98s/it]\n",
            "Dimension of Kernel Used:  11%|█         | 3/27 [01:35<12:47, 31.97s/it]"
          ]
        },
        {
          "name": "stdout",
          "output_type": "stream",
          "text": [
            "[  4.11114421   8.31993145  12.29986738  16.47782278  20.78453297\n",
            "  24.80080896  27.64112788  31.26452269  35.45418908  39.86214046\n",
            "  44.12544753  47.81260478  51.73948652  54.39710067  58.57217844\n",
            "  62.14461022  66.3055813   70.52236794  74.41272703  78.35108547\n",
            "  83.09110342  86.92778512  91.37774644  94.34120847  98.65533811\n",
            " 102.36806827 106.39131933 110.54232772 114.69813955 118.97626911\n",
            " 122.6272161  125.69938476 129.07607611 133.05843333 136.68075755\n",
            " 139.65856801 143.83373011 147.22305604 151.32460964 155.58993477\n",
            " 159.23794479 162.79574973 166.86307215 171.15971712 175.38730819\n",
            " 179.45575491 182.82317736 186.67327257 190.70533953 194.41750979\n",
            " 198.2583736  200.48960874 204.30824724 208.41249125 211.08059376\n",
            " 214.92112944 218.53963939 221.09272568 223.9710397  227.80334764\n",
            " 231.47016236 235.53821519 239.57856843 243.4166675  246.41743087\n",
            " 249.95747773 253.66507134 256.82309502 260.91861353 263.53922149\n",
            " 267.8932841  270.98911743 273.92609562 276.44679175 279.16108833\n",
            " 283.63101478 287.5020894  291.91392644 296.17269188 300.05275253\n",
            " 303.43034145 306.8221262  311.24670557 315.40944888 317.89378737\n",
            " 322.44048332 324.46241393 328.47638184 332.81953297 336.55515738\n",
            " 340.63055355 344.0266405  347.56598239 351.86339954 355.09117211\n",
            " 358.28143521 362.54845757 365.34914073 369.44528448 372.59179142\n",
            " 376.86799765]\n"
          ]
        },
        {
          "name": "stderr",
          "output_type": "stream",
          "text": [
            "\n",
            "GP-UCB Experiments:   0%|          | 0/3 [00:00<?, ?it/s]\u001b[A\n",
            "GP-UCB Experiments:  33%|███▎      | 1/3 [00:11<00:23, 11.72s/it]\u001b[A\n",
            "GP-UCB Experiments:  67%|██████▋   | 2/3 [00:25<00:13, 13.07s/it]\u001b[A\n",
            "GP-UCB Experiments: 100%|██████████| 3/3 [00:37<00:00, 12.51s/it]\n",
            "Dimension of Kernel Used:  15%|█▍        | 4/27 [02:12<13:05, 34.16s/it]"
          ]
        },
        {
          "name": "stdout",
          "output_type": "stream",
          "text": [
            "[  3.55674368   6.41891801   9.53766633  12.05285804  14.55507536\n",
            "  16.99723092  19.37568485  21.35128571  24.94712553  28.07925878\n",
            "  30.9626743   34.69778677  37.93114029  40.87961123  44.04609757\n",
            "  47.38728925  49.99530784  53.46483797  56.79833133  59.67845521\n",
            "  62.64657414  66.39284429  69.08379355  72.89987993  77.26497836\n",
            "  80.78639824  82.99762705  86.13853505  89.7744198   93.29909243\n",
            "  97.04844023  99.30024574 102.27154469 105.29706215 108.42924179\n",
            " 112.22391237 115.13496321 118.0242984  121.62310373 125.08753678\n",
            " 128.87976039 131.17256814 134.41296082 137.97630283 141.45762901\n",
            " 144.59563093 146.8870791  149.8917183  153.79130484 155.6721486\n",
            " 157.40057546 158.72142207 162.4394699  166.36008905 169.85631219\n",
            " 172.08351148 175.68295843 178.40401495 181.37345838 185.48658487\n",
            " 189.42685546 192.01772737 194.17071029 197.49323826 201.13453003\n",
            " 204.57185923 207.04072349 210.41111656 213.54853001 217.35292128\n",
            " 219.03031135 222.44578519 225.60520512 228.17394927 231.21921529\n",
            " 234.82606404 238.39844046 242.01249821 245.86284932 247.8370891\n",
            " 250.84274936 254.80497445 257.89514121 261.7931169  264.22589583\n",
            " 266.84355339 269.65592381 273.52476684 275.33895214 278.38368651\n",
            " 281.45393905 283.53923363 286.78807892 290.31369192 293.94980164\n",
            " 297.76776493 300.91526553 303.76771599 305.79560648 309.15612668\n",
            " 312.74165861]\n"
          ]
        },
        {
          "name": "stderr",
          "output_type": "stream",
          "text": [
            "\n",
            "GP-UCB Experiments:   0%|          | 0/3 [00:00<?, ?it/s]\u001b[A\n",
            "GP-UCB Experiments:  33%|███▎      | 1/3 [00:16<00:32, 16.17s/it]\u001b[A\n",
            "GP-UCB Experiments:  67%|██████▋   | 2/3 [00:31<00:15, 15.60s/it]\u001b[A\n",
            "GP-UCB Experiments: 100%|██████████| 3/3 [00:46<00:00, 15.49s/it]\n",
            "Dimension of Kernel Used:  19%|█▊        | 5/27 [02:59<14:09, 38.60s/it]"
          ]
        },
        {
          "name": "stdout",
          "output_type": "stream",
          "text": [
            "[  2.95219871   6.05708168   9.18005974  12.15460584  15.69917333\n",
            "  20.14979679  24.01671169  28.27784865  31.01796944  33.76910839\n",
            "  37.38456659  41.06397675  44.08509824  47.48488485  51.32632681\n",
            "  54.51036417  57.12956818  60.25232129  63.63757756  67.06766325\n",
            "  70.4598012   74.28358289  78.15528671  80.9684311   83.8936343\n",
            "  86.70425968  89.92448373  93.7767708   97.0428996  100.1659847\n",
            " 101.98263464 105.53941682 109.32873896 113.01261236 115.06351999\n",
            " 118.7433239  122.46985303 124.57081912 128.24731592 131.01969755\n",
            " 135.64430762 138.05241952 141.33740398 144.04861671 146.34323684\n",
            " 149.0963996  152.44730242 154.61629503 157.99273803 160.79092671\n",
            " 165.35878836 167.80462012 170.12698606 174.044712   176.80278346\n",
            " 179.49006798 182.80180056 185.863576   187.38442427 189.16565315\n",
            " 192.78445273 196.44605356 199.66257167 201.10929229 204.42420728\n",
            " 207.35684878 210.59646362 214.00214246 215.54887315 217.2382076\n",
            " 219.73140787 223.16219521 225.87341262 228.91518423 231.34191137\n",
            " 233.37150577 235.7028431  237.45128628 241.13495782 243.19765882\n",
            " 245.85095174 249.08912666 252.91665491 254.30006294 258.37562871\n",
            " 260.9119897  262.9767227  266.40865195 268.43375436 271.7818579\n",
            " 275.2084162  278.62438548 281.42704754 284.51194839 287.66743957\n",
            " 289.0095549  293.15609122 296.24900624 298.46697068 302.01934354\n",
            " 304.90258677]\n"
          ]
        },
        {
          "name": "stderr",
          "output_type": "stream",
          "text": [
            "\n",
            "GP-UCB Experiments:   0%|          | 0/3 [00:00<?, ?it/s]\u001b[A\n",
            "GP-UCB Experiments:  33%|███▎      | 1/3 [00:15<00:30, 15.10s/it]\u001b[A\n",
            "GP-UCB Experiments:  67%|██████▋   | 2/3 [00:29<00:14, 14.96s/it]\u001b[A\n",
            "GP-UCB Experiments: 100%|██████████| 3/3 [00:46<00:00, 15.44s/it]\n",
            "Dimension of Kernel Used:  22%|██▏       | 6/27 [03:45<14:25, 41.23s/it]"
          ]
        },
        {
          "name": "stdout",
          "output_type": "stream",
          "text": [
            "[  3.37084484   6.14303976   9.85605171  12.94698991  15.60920637\n",
            "  17.24320783  20.11439505  22.75639284  25.97960042  28.38754188\n",
            "  30.09239755  30.54021845  32.75111997  35.55721053  37.15025025\n",
            "  38.82326597  42.00369406  44.62410994  44.86326618  46.47972421\n",
            "  49.58774986  51.56890112  52.93908459  55.02014007  56.83166258\n",
            "  60.06465547  61.54332438  63.9655034   65.17261088  68.77018286\n",
            "  71.45000149  74.01693948  77.2623155   79.84919899  81.74908785\n",
            "  83.90027868  86.18083221  88.72490057  91.65724715  92.42267619\n",
            "  93.14810911  94.56960111  96.14683641  98.70431422 100.31057758\n",
            " 102.35678721 105.98687788 107.75681728 109.67220845 111.00438002\n",
            " 113.22437553 116.15161211 117.98943917 121.12254173 123.64010449\n",
            " 125.77669043 128.30803625 129.4291296  130.98524552 132.17475338\n",
            " 135.60791492 138.73032097 141.11339464 144.81315984 147.00883793\n",
            " 148.8002696  151.74218716 152.45338756 154.28170772 157.40451952\n",
            " 158.03087066 161.6682163  164.80560705 165.64092615 167.07608013\n",
            " 168.75078506 170.48833266 171.8690306  174.04401056 176.53076478\n",
            " 179.11980526 181.92419783 185.13479708 187.21593168 188.51192506\n",
            " 190.29398038 191.76207871 195.24038371 197.14672972 199.90687668\n",
            " 201.80400647 203.93165177 205.95830661 207.22948089 208.71092447\n",
            " 211.18439716 213.95118163 214.62231058 215.39786505 217.67938807\n",
            " 219.7084223 ]\n"
          ]
        },
        {
          "name": "stderr",
          "output_type": "stream",
          "text": [
            "\n",
            "GP-UCB Experiments:   0%|          | 0/3 [00:00<?, ?it/s]\u001b[A\n",
            "GP-UCB Experiments:  33%|███▎      | 1/3 [00:18<00:36, 18.08s/it]\u001b[A\n",
            "GP-UCB Experiments:  67%|██████▋   | 2/3 [00:35<00:17, 17.89s/it]\u001b[A\n",
            "GP-UCB Experiments: 100%|██████████| 3/3 [00:55<00:00, 18.34s/it]\n",
            "Dimension of Kernel Used:  26%|██▌       | 7/27 [04:40<15:14, 45.74s/it]"
          ]
        },
        {
          "name": "stdout",
          "output_type": "stream",
          "text": [
            "[  3.47774875   5.51409488   7.83935115  10.98174246  13.86927843\n",
            "  17.59180112  20.72531579  22.38983948  23.54363822  24.94723665\n",
            "  26.52686426  27.55485957  28.46469202  29.88217944  31.35203863\n",
            "  32.7109982   33.84210982  35.44548729  37.29733436  38.88317297\n",
            "  40.38784039  41.66713909  43.01667024  43.88953971  45.40465014\n",
            "  46.91587498  48.25879903  49.26373542  50.85358865  52.07413945\n",
            "  53.97238935  55.37834265  56.73505615  58.043499    59.27959165\n",
            "  60.79091998  62.47625208  63.94579907  65.52942581  67.01098857\n",
            "  68.45549952  69.93048374  71.08154514  72.16213134  73.24244107\n",
            "  74.2764608   75.47549444  76.90365587  78.0074645   79.3455498\n",
            "  80.76890016  82.27994386  83.67393448  84.88981529  86.41510534\n",
            "  87.81316209  89.05846639  90.25134244  91.74509952  93.00324079\n",
            "  94.50720497  95.81268118  96.70877725  97.86118816  99.52143017\n",
            " 100.78352591 102.13799387 103.06808452 104.18665721 105.29359682\n",
            " 106.9166849  108.33432824 109.56523609 111.02336705 112.1441083\n",
            " 113.30895425 114.30317927 115.75512827 117.13095785 118.26188474\n",
            " 119.4575128  120.60420453 121.6849089  123.16988132 124.25874178\n",
            " 125.53779374 127.286499   128.43566206 129.53847711 131.28196716\n",
            " 132.40816657 133.97040224 135.27252125 136.78750162 138.23814895\n",
            " 139.63757579 140.85216653 141.70302189 142.94492283 144.02696762\n",
            " 145.45275777]\n"
          ]
        },
        {
          "name": "stderr",
          "output_type": "stream",
          "text": [
            "\n",
            "GP-UCB Experiments:   0%|          | 0/3 [00:00<?, ?it/s]\u001b[A\n",
            "GP-UCB Experiments:  33%|███▎      | 1/3 [00:17<00:35, 17.98s/it]\u001b[A\n",
            "GP-UCB Experiments:  67%|██████▋   | 2/3 [00:37<00:18, 18.69s/it]\u001b[A\n",
            "GP-UCB Experiments: 100%|██████████| 3/3 [00:54<00:00, 18.29s/it]\n",
            "Dimension of Kernel Used:  30%|██▉       | 8/27 [05:35<15:24, 48.65s/it]"
          ]
        },
        {
          "name": "stdout",
          "output_type": "stream",
          "text": [
            "[ 3.7875451   8.72617094 12.23251053 15.88869769 19.50730234 22.33156258\n",
            " 25.58522609 27.92991239 29.93295398 31.90892053 34.59786365 37.07962589\n",
            " 39.59982671 41.92934905 44.62776847 46.49386148 48.7540958  50.88085901\n",
            " 52.29113667 54.22458993 55.94219129 57.35452372 58.81730797 60.61993114\n",
            " 61.52174749 61.89347898 62.88004637 63.27889478 64.14219313 64.41111866\n",
            " 64.40697471 65.02773538 65.25534009 65.93786681 66.89117355 66.92614558\n",
            " 67.54667229 67.81628395 68.78352288 69.2572914  69.76290708 70.47386958\n",
            " 71.07150216 71.34650212 72.13230721 72.48098543 73.28422282 73.89163512\n",
            " 74.4809651  74.51758174 75.53899861 75.73188378 76.01337627 76.31979322\n",
            " 76.28378295 76.54521249 76.55985918 76.91018959 76.97074584 76.94154785\n",
            " 76.96660646 77.10840676 77.23575972 77.5864461  77.53164448 77.53647021\n",
            " 78.11559508 78.64302568 78.75753992 78.81608887 78.58126955 78.27414701\n",
            " 78.11586087 78.29557713 78.54796883 78.70159995 78.70448615 79.31579382\n",
            " 79.27005414 79.25334585 79.20660702 79.29814574 79.3733245  79.17510477\n",
            " 78.71624762 78.63549113 78.92561029 79.35411598 78.97989973 78.69555378\n",
            " 78.70893667 78.86895529 78.85355551 78.72021191 78.63950313 78.86579542\n",
            " 78.88100657 78.99636779 79.26465555 79.54388991 79.45296876]\n"
          ]
        },
        {
          "name": "stderr",
          "output_type": "stream",
          "text": [
            "\n",
            "GP-UCB Experiments:   0%|          | 0/3 [00:00<?, ?it/s]\u001b[A\n",
            "GP-UCB Experiments:  33%|███▎      | 1/3 [00:22<00:44, 22.13s/it]\u001b[A\n",
            "GP-UCB Experiments:  67%|██████▋   | 2/3 [00:44<00:22, 22.01s/it]\u001b[A\n",
            "GP-UCB Experiments: 100%|██████████| 3/3 [01:04<00:00, 21.65s/it]\n",
            "Dimension of Kernel Used:  33%|███▎      | 9/27 [06:40<16:07, 53.75s/it]"
          ]
        },
        {
          "name": "stdout",
          "output_type": "stream",
          "text": [
            "[ 3.09681607  6.00296935  8.70688919 11.58721017 14.15756638 17.38644371\n",
            " 19.43835254 21.4944326  23.2268912  26.34641968 27.68160481 28.70609748\n",
            " 29.56319492 30.37452645 30.3338771  30.54410437 30.50479218 30.69743108\n",
            " 31.1328513  31.23793457 31.73053445 31.55207186 31.9975997  32.01798522\n",
            " 32.0265414  32.90110989 33.49690033 33.6749434  33.97943375 34.60625895\n",
            " 34.57897621 34.94761733 35.51594201 35.63830443 36.23200572 36.75213501\n",
            " 36.79762617 36.86584657 37.77792518 37.79621167 38.39574797 38.63714461\n",
            " 38.40824405 38.89951522 38.94642929 38.7251382  39.3671532  39.94691643\n",
            " 39.80309228 40.10533294 39.86417669 40.23608092 40.72993587 40.97941804\n",
            " 41.09494513 41.12359582 41.19455272 41.34468994 41.87174092 41.95525823\n",
            " 42.68679913 42.64461084 42.92742871 42.62484624 43.54226845 43.50924795\n",
            " 43.47395328 43.82589518 44.32801941 44.60652925 44.91722481 45.18131315\n",
            " 45.48931496 45.69043084 45.89062411 46.20832577 46.17368234 46.74490761\n",
            " 46.74038383 47.29040395 47.49294041 47.61948181 47.43183653 47.62821372\n",
            " 48.46838215 49.16873465 49.57268064 49.77379379 50.04640406 50.47591553\n",
            " 50.42563275 50.70615072 51.14671525 51.34852089 51.13755361 51.39646602\n",
            " 51.62538243 51.98593464 52.16202736 52.59731285 53.32545874]\n"
          ]
        },
        {
          "name": "stderr",
          "output_type": "stream",
          "text": [
            "\n",
            "GP-UCB Experiments:   0%|          | 0/3 [00:00<?, ?it/s]\u001b[A\n",
            "GP-UCB Experiments:  33%|███▎      | 1/3 [00:21<00:43, 21.98s/it]\u001b[A\n",
            "GP-UCB Experiments:  67%|██████▋   | 2/3 [00:43<00:21, 21.86s/it]\u001b[A\n",
            "GP-UCB Experiments: 100%|██████████| 3/3 [01:05<00:00, 21.80s/it]\n",
            "Dimension of Kernel Used:  37%|███▋      | 10/27 [07:46<16:15, 57.35s/it]"
          ]
        },
        {
          "name": "stdout",
          "output_type": "stream",
          "text": [
            "[ 3.70619356  7.62440371 10.38102824 13.45925093 16.98696288 18.19139993\n",
            " 20.76997935 22.751931   24.88269162 25.3383636  26.46244957 27.29181566\n",
            " 28.64252662 28.35708523 28.4748041  28.34172597 28.50048904 28.19371442\n",
            " 27.96415332 28.05197751 28.39246075 28.40659558 28.35551469 28.80187586\n",
            " 28.63434486 28.97412907 28.66463162 29.03326224 28.67494951 28.61746085\n",
            " 28.65171732 28.24925794 27.88884867 28.72555765 28.71815611 28.41148095\n",
            " 28.52169127 28.02987391 28.05471669 28.30263117 28.17567086 28.13020537\n",
            " 27.88428298 28.48794152 28.23900522 28.3060025  28.33765955 28.37061316\n",
            " 29.25740665 28.86112989 28.79354793 28.89837026 29.17036115 29.60341177\n",
            " 29.12651757 28.80880055 28.42236259 28.69732757 28.20562762 28.20273256\n",
            " 27.83180035 27.8476515  27.47148555 26.87121066 26.28726149 26.34249129\n",
            " 26.17465678 25.85026996 25.71399358 25.58639648 25.69714588 25.54467741\n",
            " 25.35408962 24.86220175 24.68903419 24.27047102 23.84081802 23.96158906\n",
            " 23.81168559 23.31204806 23.11672653 22.73875521 23.0249883  22.47372813\n",
            " 22.34588164 21.76514666 21.14610419 20.55615166 20.08406277 19.97964519\n",
            " 19.60787814 19.44065279 19.13834283 19.18603668 19.04762952 19.07927576\n",
            " 18.69209169 18.60377994 18.18133144 17.97008051 17.88924672]\n"
          ]
        },
        {
          "name": "stderr",
          "output_type": "stream",
          "text": [
            "\n",
            "GP-UCB Experiments:   0%|          | 0/3 [00:00<?, ?it/s]\u001b[A\n",
            "GP-UCB Experiments:  33%|███▎      | 1/3 [00:24<00:48, 24.50s/it]\u001b[A\n",
            "GP-UCB Experiments:  67%|██████▋   | 2/3 [00:51<00:26, 26.02s/it]\u001b[A\n",
            "GP-UCB Experiments: 100%|██████████| 3/3 [01:16<00:00, 25.45s/it]\n",
            "Dimension of Kernel Used:  41%|████      | 11/27 [09:02<16:50, 63.18s/it]"
          ]
        },
        {
          "name": "stdout",
          "output_type": "stream",
          "text": [
            "[ 3.07866395  4.90389553  8.42568065 11.49036429 13.58907416 14.40938644\n",
            " 17.57319451 19.4621432  20.14471757 20.6400396  22.15515206 23.16874524\n",
            " 23.22646538 23.5294315  24.06213396 24.28974619 24.29907341 23.91442175\n",
            " 23.85633832 24.27197873 24.49751037 24.5970181  24.49978771 24.44534479\n",
            " 24.50539716 24.3195379  24.34156422 24.48383961 24.76268559 24.8095647\n",
            " 25.10294234 25.34328708 25.39927857 25.67253939 25.91890468 26.73127538\n",
            " 26.58283588 27.09000665 27.10810357 26.72211162 27.55876369 27.59618245\n",
            " 27.37585641 27.1650854  27.01117042 26.97314301 26.69336651 26.5166662\n",
            " 26.31603406 26.18943639 26.54469155 26.63847254 26.69158726 26.37822925\n",
            " 26.21987886 26.10914549 26.08140859 26.35248835 27.19799081 27.19759832\n",
            " 27.13184619 27.52673271 27.63563643 27.75213508 27.84942528 28.38830637\n",
            " 28.09820618 28.32591718 27.91922812 27.96016336 28.59522943 28.25314948\n",
            " 28.89355935 28.85068022 28.72790161 28.41435593 28.61944881 29.00997327\n",
            " 29.12188575 29.56815124 29.4685865  29.5311356  29.25522754 29.27452248\n",
            " 29.05271508 28.91406177 28.82872159 29.00420516 29.05846498 28.65717288\n",
            " 28.62374653 28.30116958 28.36393842 28.14663643 28.13053185 27.91622871\n",
            " 27.42810306 27.36015777 27.08336194 27.128101   27.10941821]\n"
          ]
        },
        {
          "name": "stderr",
          "output_type": "stream",
          "text": [
            "\n",
            "GP-UCB Experiments:   0%|          | 0/3 [00:00<?, ?it/s]\u001b[A\n",
            "GP-UCB Experiments:  33%|███▎      | 1/3 [00:24<00:49, 24.56s/it]\u001b[A\n",
            "GP-UCB Experiments:  67%|██████▋   | 2/3 [00:49<00:24, 24.53s/it]\u001b[A\n",
            "GP-UCB Experiments: 100%|██████████| 3/3 [01:13<00:00, 24.59s/it]\n",
            "Dimension of Kernel Used:  44%|████▍     | 12/27 [10:16<16:35, 66.40s/it]"
          ]
        },
        {
          "name": "stdout",
          "output_type": "stream",
          "text": [
            "[ 3.4590319   6.10596303  8.34767513 10.0336903  12.74365767 15.07789634\n",
            " 17.18852173 18.93081381 20.17862    22.06761078 24.10251176 25.81890624\n",
            " 25.78069882 26.02740755 26.75729559 27.75076974 27.75376982 27.23472897\n",
            " 27.07603548 27.84158602 27.82223861 27.39588501 27.07466938 26.78310099\n",
            " 26.75411394 26.46221434 26.16178904 26.04977974 25.37730708 25.15449632\n",
            " 24.22301305 23.98619351 23.81576726 24.71238218 24.69877039 23.94499794\n",
            " 23.47749009 23.58232219 23.51663928 22.68038455 22.45505409 21.94966876\n",
            " 21.17685672 20.89591525 20.43181692 20.02234397 19.85052252 19.39060167\n",
            " 19.43039535 19.30027696 18.70406998 18.29736458 18.19793721 17.48269589\n",
            " 16.89139618 16.88292231 16.25422734 15.95695512 16.01242569 15.58269902\n",
            " 14.81898657 14.32620195 13.46130162 12.73481005 12.38637344 12.01443964\n",
            " 11.92454169 11.50301457 10.92404397 10.05091854  9.88045708  9.80130752\n",
            "  9.2608287   8.9942942   8.89036828  9.18168069  8.87097091  8.13811853\n",
            "  7.99158174  7.23762515  6.90147329  6.60213711  6.33712349  5.83443152\n",
            "  5.49392406  5.105786    4.20155254  3.73164088  3.30385971  2.61455191\n",
            "  2.30456527  2.02942588  1.37807721  1.0239427   0.72772849  0.14564975\n",
            " -0.3575263  -0.70419094 -1.23339527 -1.8776995  -2.3249784 ]\n"
          ]
        },
        {
          "name": "stderr",
          "output_type": "stream",
          "text": [
            "\n",
            "GP-UCB Experiments:   0%|          | 0/3 [00:00<?, ?it/s]\u001b[A\n",
            "GP-UCB Experiments:  33%|███▎      | 1/3 [00:28<00:57, 28.56s/it]\u001b[A\n",
            "GP-UCB Experiments:  67%|██████▋   | 2/3 [00:56<00:28, 28.04s/it]\u001b[A\n",
            "GP-UCB Experiments: 100%|██████████| 3/3 [01:23<00:00, 28.00s/it]\n",
            "Dimension of Kernel Used:  48%|████▊     | 13/27 [11:40<16:44, 71.73s/it]"
          ]
        },
        {
          "name": "stdout",
          "output_type": "stream",
          "text": [
            "[ 3.89527486  6.87893571 10.35220045 14.06043777 17.69990804 19.55867342\n",
            " 22.53933993 24.71553738 27.27050629 29.5738476  31.88023922 34.0117669\n",
            " 37.61907107 41.56250143 42.13342709 43.14839013 44.64189478 44.68138298\n",
            " 44.98312459 44.80206008 44.82562112 44.62705063 44.93386596 45.07226308\n",
            " 45.04047672 44.85300793 45.4091837  45.23173242 46.20157654 46.35014419\n",
            " 46.16618889 46.84432611 47.3325707  48.40300723 48.38176441 48.55700236\n",
            " 48.55508349 48.97967033 48.93272021 49.08409765 50.41145032 50.25168934\n",
            " 50.462295   51.30648278 51.54916153 51.57613432 51.98261782 52.30032011\n",
            " 52.49721718 52.81111104 52.86608605 52.74530076 53.09007787 53.32021044\n",
            " 53.50123567 53.7182332  53.83682109 54.98030957 54.79513913 55.17394176\n",
            " 55.55969268 55.91434426 56.37315569 56.9495807  56.73933133 57.04326044\n",
            " 57.2640063  57.63239162 57.71074424 57.5587457  57.5673595  58.02723563\n",
            " 58.21478355 58.33318428 58.67647161 58.50409498 58.93689595 59.12243954\n",
            " 59.47817735 59.27419722 59.44992837 59.38374883 59.81810926 60.24343273\n",
            " 60.20283612 60.96319343 61.48665405 61.65708663 61.55329112 62.28550786\n",
            " 62.03650147 62.43438438 62.83129048 62.98939062 63.30067746 63.58409139\n",
            " 64.18871313 64.35010661 64.67277515 64.53848997 64.887981  ]\n"
          ]
        },
        {
          "name": "stderr",
          "output_type": "stream",
          "text": [
            "\n",
            "GP-UCB Experiments:   0%|          | 0/3 [00:00<?, ?it/s]\u001b[A\n",
            "GP-UCB Experiments:  33%|███▎      | 1/3 [00:28<00:56, 28.07s/it]\u001b[A\n",
            "GP-UCB Experiments:  67%|██████▋   | 2/3 [00:56<00:28, 28.45s/it]\u001b[A\n",
            "GP-UCB Experiments: 100%|██████████| 3/3 [01:24<00:00, 28.17s/it]\n",
            "Dimension of Kernel Used:  52%|█████▏    | 14/27 [13:04<16:22, 75.59s/it]"
          ]
        },
        {
          "name": "stdout",
          "output_type": "stream",
          "text": [
            "[ 3.45718666  7.3206763  11.37631863 14.21764591 17.97155359 20.45616796\n",
            " 23.18318023 25.37223332 27.13931338 28.06245372 29.52857624 31.16892813\n",
            " 34.44730966 38.48118974 38.58675653 39.67910182 40.6013698  40.53610845\n",
            " 40.75152643 40.50580188 41.16118268 41.19994922 41.74152369 42.47671097\n",
            " 42.2645091  42.2857177  43.02805847 43.00161196 42.6321602  42.45479732\n",
            " 42.14399625 42.36740728 42.44507991 42.54220403 43.3975673  43.71594937\n",
            " 43.59633844 43.76417249 44.05712657 43.82835351 44.03544453 44.44034269\n",
            " 44.12974657 44.43953923 44.2845928  44.88912625 44.97750436 45.27465316\n",
            " 45.77999166 45.79120924 45.32662256 45.25978468 45.53659129 45.19645433\n",
            " 45.41075587 45.52016685 45.65022403 45.7581979  45.95073784 45.9376342\n",
            " 45.53151268 45.67303995 45.53726984 45.35093583 45.7997017  46.3985488\n",
            " 46.16996461 46.51295351 46.32318449 46.29819004 45.93664589 46.68665055\n",
            " 46.50786081 47.29870639 46.98266045 46.92460104 46.57185227 46.65376049\n",
            " 46.76126018 46.55124941 46.23558822 45.85429291 46.27174541 46.35531164\n",
            " 45.81108074 45.35338614 45.44027593 45.13262373 45.43303163 45.47790611\n",
            " 45.4317414  45.11878686 45.20541128 44.98710188 45.62506366 45.98193297\n",
            " 46.0736662  45.7928979  46.44123362 46.18613428 46.17727322]\n"
          ]
        },
        {
          "name": "stderr",
          "output_type": "stream",
          "text": [
            "\n",
            "GP-UCB Experiments:   0%|          | 0/3 [00:00<?, ?it/s]\u001b[A\n",
            "GP-UCB Experiments:  33%|███▎      | 1/3 [00:30<01:01, 30.66s/it]\u001b[A\n",
            "GP-UCB Experiments:  67%|██████▋   | 2/3 [01:02<00:31, 31.38s/it]\u001b[A\n",
            "GP-UCB Experiments: 100%|██████████| 3/3 [01:33<00:00, 31.09s/it]\n",
            "Dimension of Kernel Used:  56%|█████▌    | 15/27 [14:38<16:11, 80.92s/it]"
          ]
        },
        {
          "name": "stdout",
          "output_type": "stream",
          "text": [
            "[ 3.44343133  6.63124082 10.70895688 14.2844317  17.32760964 20.2197839\n",
            " 22.89037547 26.24575264 28.63691275 30.13726602 32.35124424 32.53154072\n",
            " 33.50479652 33.74897519 33.46527619 33.27828996 35.67720073 37.10926837\n",
            " 37.09809103 38.22025371 37.85193713 37.45940476 37.21328819 36.93337687\n",
            " 36.48340863 36.49000914 36.33757917 36.83609919 36.53105758 36.15826009\n",
            " 35.89301641 35.42091444 35.34937207 35.33030422 34.97716147 34.8023685\n",
            " 34.50929611 34.52589417 34.17262489 33.48754519 33.48299258 33.58225309\n",
            " 33.26817621 33.20428715 32.57608102 32.46227297 31.86767047 31.49462805\n",
            " 31.20692831 30.93387559 30.64156292 30.60748457 30.62776511 30.18803776\n",
            " 30.44424318 30.30129955 30.17358814 30.09461534 29.62753791 29.0432365\n",
            " 28.76540822 28.48875024 28.02506397 28.66343109 28.57483061 28.38503135\n",
            " 28.84775948 28.67393034 28.51576697 28.95711377 28.5634019  28.774002\n",
            " 28.22248689 27.60860008 27.86601539 27.3363963  27.1904548  26.8911213\n",
            " 26.32934942 25.97938471 25.58152448 25.47701363 24.97933105 24.22615655\n",
            " 23.99096543 23.83073817 24.06782214 23.63749643 23.28261276 22.98107094\n",
            " 22.59204007 22.37749389 22.31787392 22.3724663  22.27461839 21.69534452\n",
            " 21.36096596 21.47128262 21.2523474  21.10362767 20.58707437]\n"
          ]
        },
        {
          "name": "stderr",
          "output_type": "stream",
          "text": [
            "\n",
            "GP-UCB Experiments:   0%|          | 0/3 [00:00<?, ?it/s]\u001b[A\n",
            "GP-UCB Experiments:  33%|███▎      | 1/3 [00:31<01:03, 31.84s/it]\u001b[A\n",
            "GP-UCB Experiments:  67%|██████▋   | 2/3 [01:02<00:31, 31.13s/it]\u001b[A\n",
            "GP-UCB Experiments: 100%|██████████| 3/3 [01:34<00:00, 31.44s/it]\n",
            "Dimension of Kernel Used:  59%|█████▉    | 16/27 [16:12<15:34, 84.96s/it]"
          ]
        },
        {
          "name": "stdout",
          "output_type": "stream",
          "text": [
            "[ 2.18862919  4.85557338  8.06678485 10.1442009  12.61237024 14.87101283\n",
            " 16.81594404 20.5386767  23.34035134 24.90766981 26.26084068 28.38247569\n",
            " 28.77622725 31.60196689 33.27518884 34.4012322  35.89128813 37.46291878\n",
            " 37.35024153 37.11779649 37.04880054 37.02600845 37.2503911  37.1045057\n",
            " 37.71494446 37.76978206 38.10878914 38.03050708 38.13097116 38.46942866\n",
            " 38.36261839 38.40486846 38.44658082 38.3527436  38.48807105 38.35790282\n",
            " 38.35374666 38.31298454 38.23352926 38.30619165 38.4231475  38.33688178\n",
            " 38.60129076 38.80007066 39.19753594 39.38620415 39.81322428 40.60187819\n",
            " 40.89568988 40.987178   41.13815949 40.93782888 41.09794643 41.08241248\n",
            " 41.02697053 41.04678868 41.14971796 41.17441117 40.98047433 40.91208947\n",
            " 41.24957601 41.17507511 41.05392667 40.96137206 41.10344178 40.80679873\n",
            " 40.74509314 40.37650996 40.7383895  40.51197074 40.55023891 40.49761973\n",
            " 40.29195131 39.99361917 40.91562677 41.36391573 41.81512038 42.57014902\n",
            " 42.35520378 42.26538942 41.91558314 42.39435335 42.26365045 41.85256638\n",
            " 41.61962804 41.91398732 42.2381882  42.20345749 42.44809597 42.50005596\n",
            " 42.55090473 42.48438982 42.45788986 42.87824935 43.09771466 43.50069937\n",
            " 43.4608241  43.73967037 44.07908942 44.17037713 43.97826094]\n"
          ]
        },
        {
          "name": "stderr",
          "output_type": "stream",
          "text": [
            "\n",
            "GP-UCB Experiments:   0%|          | 0/3 [00:00<?, ?it/s]\u001b[A\n",
            "GP-UCB Experiments:  33%|███▎      | 1/3 [00:34<01:09, 34.77s/it]\u001b[A\n",
            "GP-UCB Experiments:  67%|██████▋   | 2/3 [01:08<00:34, 34.04s/it]\u001b[A\n",
            "GP-UCB Experiments: 100%|██████████| 3/3 [01:43<00:00, 34.35s/it]\n",
            "Dimension of Kernel Used:  63%|██████▎   | 17/27 [17:55<15:03, 90.40s/it]"
          ]
        },
        {
          "name": "stdout",
          "output_type": "stream",
          "text": [
            "[ 3.49334295  6.57653332 10.47535774 13.83519555 16.4162906  18.05296909\n",
            " 20.16767029 22.58436282 25.75395624 27.94321008 29.97074917 31.26796627\n",
            " 33.71476328 34.48521765 36.86311052 38.20865203 39.19362057 41.71972955\n",
            " 44.10765089 44.49050729 44.51234769 44.42327274 44.03850391 43.61631537\n",
            " 43.85267561 43.70796323 44.01179394 43.99220176 44.60497585 44.33544656\n",
            " 44.01292644 44.04913315 43.91299448 43.90536411 43.78073194 43.62224464\n",
            " 43.15384718 42.93650968 43.18869147 43.28116254 43.20437628 43.54012086\n",
            " 43.15240392 42.69928082 42.86663707 43.02368079 42.75380041 42.706407\n",
            " 42.58673135 42.82512699 42.43368709 42.03789618 41.80033206 41.72474642\n",
            " 41.93055017 41.51889905 42.06621175 41.91784559 42.05906674 41.47040171\n",
            " 41.54378021 41.1548012  40.67911716 40.26638308 39.88316874 40.13460904\n",
            " 39.82476738 39.35857635 39.09450255 38.6836673  39.02329208 38.74230254\n",
            " 39.77125376 39.83950129 39.69876825 39.41297901 39.8128496  40.03758874\n",
            " 40.02314059 39.48966439 39.32393917 39.27200322 39.3220166  39.36527523\n",
            " 39.9806022  40.07419308 40.05303418 39.5329925  39.28689554 39.17541341\n",
            " 40.01965029 40.36019583 40.36383703 40.15512122 40.11751171 39.7673862\n",
            " 39.35853379 39.54698028 39.25567622 39.08638376 39.51444621]\n"
          ]
        },
        {
          "name": "stderr",
          "output_type": "stream",
          "text": [
            "\n",
            "GP-UCB Experiments:   0%|          | 0/3 [00:00<?, ?it/s]\u001b[A\n",
            "GP-UCB Experiments:  33%|███▎      | 1/3 [00:34<01:09, 34.87s/it]\u001b[A\n",
            "GP-UCB Experiments:  67%|██████▋   | 2/3 [01:12<00:36, 36.27s/it]\u001b[A\n",
            "GP-UCB Experiments: 100%|██████████| 3/3 [01:46<00:00, 35.61s/it]\n",
            "Dimension of Kernel Used:  67%|██████▋   | 18/27 [19:42<14:18, 95.34s/it]"
          ]
        },
        {
          "name": "stdout",
          "output_type": "stream",
          "text": [
            "[ 3.97208979  7.42628409 10.4003609  13.60391558 17.2847148  21.53808481\n",
            " 23.15007013 26.32065527 29.18421004 29.38766247 29.36092598 30.46646797\n",
            " 31.0213492  32.54537658 34.56781903 37.23949256 39.73782868 43.69647104\n",
            " 44.02020101 44.14547976 44.01880255 43.84093616 43.75358654 43.56839949\n",
            " 43.7930148  45.09712484 44.82826702 44.89785981 44.71997133 44.23918471\n",
            " 44.33391506 44.18030651 44.62442771 44.40230112 44.83789999 44.8623761\n",
            " 44.99478016 45.00717995 45.6127154  45.1472287  44.73291847 44.66341812\n",
            " 44.63296121 44.9499036  45.06153881 45.26930503 44.99875169 45.07140848\n",
            " 44.93724093 44.92684269 45.27526341 45.21864409 45.27033451 45.29843058\n",
            " 45.00584186 44.93972722 44.69154261 44.50233256 44.57542591 44.51561332\n",
            " 44.42131622 44.95018871 45.05231751 45.5528347  45.41611637 45.5673617\n",
            " 45.96226016 45.73436998 45.31091252 45.14286237 44.85873597 44.77245079\n",
            " 44.32963523 44.35505234 44.20592613 44.01613922 44.08659743 44.05384687\n",
            " 44.37817994 44.17858283 44.0614672  43.97247702 44.19324018 44.55091618\n",
            " 44.23880888 44.34481064 44.09275183 43.85385027 44.45032241 44.12250032\n",
            " 44.09533643 43.82508567 44.05542691 43.86830979 44.19740571 44.26577334\n",
            " 44.32097269 44.09366269 43.68418851 43.60621003 43.44019983]\n"
          ]
        },
        {
          "name": "stderr",
          "output_type": "stream",
          "text": [
            "\n",
            "GP-UCB Experiments:   0%|          | 0/3 [00:00<?, ?it/s]\u001b[A\n",
            "GP-UCB Experiments:  33%|███▎      | 1/3 [00:37<01:15, 37.80s/it]\u001b[A\n",
            "GP-UCB Experiments:  67%|██████▋   | 2/3 [01:15<00:37, 37.77s/it]\u001b[A\n",
            "GP-UCB Experiments: 100%|██████████| 3/3 [01:53<00:00, 37.76s/it]\n",
            "Dimension of Kernel Used:  70%|███████   | 19/27 [21:35<13:25, 100.73s/it]"
          ]
        },
        {
          "name": "stdout",
          "output_type": "stream",
          "text": [
            "[ 3.61299676  6.78277901  9.04213486 10.56941697 12.65352715 14.90883762\n",
            " 16.3543638  17.00670802 17.96738939 19.0521388  20.04852346 22.51576328\n",
            " 25.26782974 27.68786513 28.74378153 32.2172248  32.13034979 33.64618028\n",
            " 37.2167314  38.45975841 40.08283853 41.54547853 41.90696028 41.50419395\n",
            " 43.0459562  42.88457022 42.8371187  42.65952784 42.54536526 42.17430056\n",
            " 42.03596134 41.99305397 42.59825834 42.34507932 42.09883436 41.93225602\n",
            " 41.59325423 41.19157904 40.88242506 41.11292364 40.9345793  41.38546294\n",
            " 41.18229508 41.67082517 41.46115945 41.34917374 41.6476477  41.09477273\n",
            " 41.06850368 40.75529773 40.90920559 40.53187351 40.71750011 40.37530747\n",
            " 40.1844495  40.06894004 39.7553111  39.87080125 39.40145203 39.60849829\n",
            " 39.36638049 39.39707403 39.63008897 39.75334963 39.84591895 39.95874272\n",
            " 39.51244299 39.58740677 39.88917135 39.94466592 40.06363051 40.2337385\n",
            " 39.91350693 39.97721382 39.74578533 39.30563789 39.26665363 39.27249354\n",
            " 39.33091611 39.06101258 38.85532526 38.32426408 37.86296455 38.43413898\n",
            " 38.09918677 37.93872625 37.60970894 37.69006391 37.59971394 37.62690895\n",
            " 37.1188826  37.01904399 36.60230802 36.5027512  36.19802763 36.28223478\n",
            " 36.65859935 36.7515423  36.95596586 36.61913795 36.47843318]\n"
          ]
        },
        {
          "name": "stderr",
          "output_type": "stream",
          "text": [
            "\n",
            "GP-UCB Experiments:   0%|          | 0/3 [00:00<?, ?it/s]\u001b[A\n",
            "GP-UCB Experiments:  33%|███▎      | 1/3 [00:37<01:15, 37.60s/it]\u001b[A\n",
            "GP-UCB Experiments:  67%|██████▋   | 2/3 [01:15<00:37, 37.65s/it]\u001b[A\n",
            "GP-UCB Experiments: 100%|██████████| 3/3 [01:52<00:00, 37.64s/it]\n",
            "Dimension of Kernel Used:  74%|███████▍  | 20/27 [23:28<12:10, 104.39s/it]"
          ]
        },
        {
          "name": "stdout",
          "output_type": "stream",
          "text": [
            "[ 4.23115021  8.39460582 13.30911611 16.13430645 19.4764216  22.41377975\n",
            " 25.7294672  28.78103152 31.80019848 34.62106701 36.08496716 36.99932624\n",
            " 36.95868183 37.95379951 38.73059121 41.59172311 43.60400659 45.18515519\n",
            " 47.39968233 50.60284271 53.4933328  55.36683712 55.71705851 55.91849305\n",
            " 56.38352573 56.74255382 57.35459022 57.71255074 57.90501203 58.27420237\n",
            " 58.55772765 58.97005618 59.24596779 60.13724686 60.10258791 60.67003733\n",
            " 61.24100535 61.5148348  61.88588285 62.10405177 62.33506146 62.56773848\n",
            " 63.1722287  63.13932364 63.45462097 63.85632353 64.8358919  65.37765928\n",
            " 65.52625571 65.6030035  66.40242358 67.37582978 67.83471267 68.29587761\n",
            " 68.71393328 68.95255724 68.92647819 69.88811006 69.86057728 70.41321742\n",
            " 70.90246998 71.15593256 71.85057001 72.21469047 72.60174477 72.94973078\n",
            " 73.36256202 73.83718192 74.07862182 74.60972782 74.82939629 75.82447206\n",
            " 76.15848591 76.57701042 76.55848997 77.22433061 77.71199862 78.15232881\n",
            " 78.78596    78.69295615 79.56020015 79.89225529 80.49255068 81.43299722\n",
            " 81.55366381 81.5242388  81.88074353 81.77830377 82.07622303 82.36873419\n",
            " 82.55598815 83.12926111 83.80102161 83.88434519 84.32252978 84.46331131\n",
            " 85.18937019 85.50180535 85.85551643 86.3780368  86.93263999]\n"
          ]
        },
        {
          "name": "stderr",
          "output_type": "stream",
          "text": [
            "\n",
            "GP-UCB Experiments:   0%|          | 0/3 [00:00<?, ?it/s]\u001b[A\n",
            "GP-UCB Experiments:  33%|███▎      | 1/3 [00:40<01:21, 40.70s/it]\u001b[A\n",
            "GP-UCB Experiments:  67%|██████▋   | 2/3 [01:21<00:40, 40.72s/it]\u001b[A\n",
            "GP-UCB Experiments: 100%|██████████| 3/3 [02:02<00:00, 40.92s/it]\n",
            "Dimension of Kernel Used:  78%|███████▊  | 21/27 [25:31<10:59, 109.90s/it]"
          ]
        },
        {
          "name": "stdout",
          "output_type": "stream",
          "text": [
            "[ 2.95085957  4.38554524  7.19509133  9.02880538 10.64187796 12.74551576\n",
            " 13.11877158 13.46573288 13.93348113 14.69905279 14.46006073 16.29253419\n",
            " 18.62024236 18.56520559 19.95763357 21.40777375 23.1968339  24.39844394\n",
            " 25.6051721  29.24673407 30.88670602 32.29350242 32.50891693 33.90727872\n",
            " 33.6835693  36.2793879  36.472478   36.11698908 36.35854667 37.60683254\n",
            " 38.658121   38.74841761 39.24873642 39.38420027 39.66897387 39.97974827\n",
            " 40.1034763  40.17667496 40.48034425 40.49784412 40.34901679 40.48566227\n",
            " 40.37621116 40.59043817 40.59057703 40.80852531 40.65556592 40.58555808\n",
            " 40.81471632 40.57801164 40.24299092 40.19121897 40.19158445 40.19724639\n",
            " 39.96033905 40.25274108 39.99801063 39.89891958 40.26610843 40.11532123\n",
            " 40.13657479 40.21782408 40.26864468 40.44958032 40.79821471 40.59416084\n",
            " 40.73708158 40.56772394 40.80903814 41.41779524 41.72604022 41.63533604\n",
            " 41.92676433 41.65779919 41.89583731 42.13719012 41.93772271 41.69749937\n",
            " 41.89593721 41.69766244 41.26596995 41.64121966 41.71995826 41.71187895\n",
            " 42.19133889 42.13041495 42.17474939 42.01215851 42.14752537 42.22870619\n",
            " 42.15616294 42.08338307 42.22807012 42.36897817 42.51565597 42.54821341\n",
            " 42.52406575 42.46567736 42.40039527 42.4212244  42.53742876]\n"
          ]
        },
        {
          "name": "stderr",
          "output_type": "stream",
          "text": [
            "\n",
            "GP-UCB Experiments:   0%|          | 0/3 [00:00<?, ?it/s]\u001b[A\n",
            "GP-UCB Experiments:  33%|███▎      | 1/3 [00:41<01:22, 41.23s/it]\u001b[A\n",
            "GP-UCB Experiments:  67%|██████▋   | 2/3 [01:21<00:40, 40.92s/it]\u001b[A\n",
            "GP-UCB Experiments: 100%|██████████| 3/3 [02:02<00:00, 40.90s/it]\n",
            "Dimension of Kernel Used:  81%|████████▏ | 22/27 [27:33<09:28, 113.75s/it]"
          ]
        },
        {
          "name": "stdout",
          "output_type": "stream",
          "text": [
            "[ 4.25372892  8.8378712  12.21376506 15.95279277 19.31527007 20.73880114\n",
            " 22.16800154 24.2353995  24.43160905 25.19195369 25.29286952 25.59294128\n",
            " 25.69394673 25.83258272 26.69703656 26.77247726 28.13898536 29.43093179\n",
            " 29.18775084 30.23985491 30.26965062 31.76982891 32.21376399 33.33968091\n",
            " 34.98066936 38.35589362 39.92198957 41.48718373 41.93393075 41.78106236\n",
            " 42.6382198  42.76704439 42.4208375  42.20293796 41.91198894 42.02177125\n",
            " 41.66059133 41.74127451 41.6961768  41.68145522 41.71481506 41.72792857\n",
            " 41.42635347 41.55420628 41.61448694 41.58627341 41.91380032 42.29245225\n",
            " 42.65749451 42.16289602 41.8851878  42.04811314 41.90009319 42.21652195\n",
            " 42.23990522 42.22992578 41.82505186 42.04700623 41.84038166 41.94134718\n",
            " 41.70532217 41.94835745 42.26187054 42.3216874  42.17210883 42.09868004\n",
            " 42.20067725 42.64220359 42.69360252 42.66698941 42.41274301 42.56310452\n",
            " 42.43158869 42.30534935 42.26342514 42.66685672 42.30088397 42.49133312\n",
            " 43.16249856 42.92362161 42.65072131 42.79373117 42.71877672 42.52649172\n",
            " 42.40780133 42.7021634  42.59138206 42.62592601 42.59541896 42.52880046\n",
            " 43.09069503 43.07390234 42.80088532 42.83902358 42.83128989 43.02979796\n",
            " 43.20450671 42.98054411 42.79974031 42.65548091 42.31622298]\n"
          ]
        },
        {
          "name": "stderr",
          "output_type": "stream",
          "text": [
            "\n",
            "GP-UCB Experiments:   0%|          | 0/3 [00:00<?, ?it/s]\u001b[A\n",
            "GP-UCB Experiments:  33%|███▎      | 1/3 [00:44<01:29, 44.95s/it]\u001b[A\n",
            "GP-UCB Experiments:  67%|██████▋   | 2/3 [01:29<00:44, 44.76s/it]\u001b[A\n",
            "GP-UCB Experiments: 100%|██████████| 3/3 [02:13<00:00, 44.66s/it]\n",
            "Dimension of Kernel Used:  85%|████████▌ | 23/27 [29:47<07:59, 119.82s/it]"
          ]
        },
        {
          "name": "stdout",
          "output_type": "stream",
          "text": [
            "[ 3.53180879  7.70117706 10.38975879 12.72832566 14.97725049 17.05814011\n",
            " 18.42789397 20.25986385 22.80205868 23.98298188 26.28186636 28.09629077\n",
            " 28.43065671 29.7560074  31.44990602 31.65591863 32.83962661 34.49774207\n",
            " 34.44966689 35.87324493 37.02779757 37.07465027 36.96661925 39.33825164\n",
            " 39.67477912 40.91787244 41.20938496 41.54813614 41.33741791 41.58743561\n",
            " 43.68945693 45.11255888 44.69262844 44.62645189 44.88481161 46.05733278\n",
            " 45.86252674 46.12993456 45.96637191 46.45116405 47.12673652 47.5707598\n",
            " 47.89829355 48.10167663 48.04766549 48.07952382 47.70016691 47.45320525\n",
            " 47.65255142 47.99450303 47.90191747 48.03978115 48.27941757 48.94519879\n",
            " 48.76364888 48.91832345 48.9720137  48.84913612 48.82534584 48.76324093\n",
            " 49.02511902 49.15686705 49.37509765 49.44072112 49.60242702 49.58034261\n",
            " 49.91029751 50.54048666 50.60795316 50.50588908 50.67060886 50.96633876\n",
            " 51.29672047 51.22496257 51.76267992 52.21807208 52.24753673 52.13683472\n",
            " 52.32859225 52.13410355 52.10333809 52.18792724 52.74660159 53.02272066\n",
            " 53.85487565 53.4977256  54.12672414 54.07623999 54.31257385 56.20900102\n",
            " 56.15968861 56.28326659 56.2258899  56.13799144 56.32774047 56.72077769\n",
            " 56.76242688 56.69366446 57.1892045  57.69300836 57.91738895]\n"
          ]
        },
        {
          "name": "stderr",
          "output_type": "stream",
          "text": [
            "\n",
            "GP-UCB Experiments:   0%|          | 0/3 [00:00<?, ?it/s]\u001b[A\n",
            "GP-UCB Experiments:  33%|███▎      | 1/3 [00:45<01:30, 45.17s/it]\u001b[A\n",
            "GP-UCB Experiments:  67%|██████▋   | 2/3 [01:28<00:44, 44.36s/it]\u001b[A\n",
            "GP-UCB Experiments: 100%|██████████| 3/3 [02:13<00:00, 44.66s/it]\n",
            "Dimension of Kernel Used:  89%|████████▉ | 24/27 [32:01<06:12, 124.08s/it]"
          ]
        },
        {
          "name": "stdout",
          "output_type": "stream",
          "text": [
            "[ 4.02921476  8.1970446  12.17257499 16.19862762 19.64163418 22.49398909\n",
            " 25.18912672 26.35793916 28.34083843 29.15905668 30.81047731 32.88499328\n",
            " 33.94558787 34.24626401 35.8935821  35.98190392 36.2178539  37.91088466\n",
            " 40.78750873 44.15745687 46.9976371  49.62032704 52.23773187 52.64871327\n",
            " 53.14910597 56.29532214 56.73832424 57.49875661 57.6364812  58.03740836\n",
            " 60.17753273 60.3164256  60.95265302 61.14427171 61.6059795  61.9233493\n",
            " 62.10212444 63.01068146 63.15108508 63.26021958 63.44402767 63.62668873\n",
            " 65.05851463 65.43695988 65.62070633 65.73210821 66.34854131 66.83652082\n",
            " 67.8508872  68.5154454  69.37438951 70.03058848 70.22912727 70.46797133\n",
            " 70.91465658 71.4034555  71.34082988 71.60770718 72.14789026 72.33967501\n",
            " 72.60419906 72.9576951  73.12596481 73.84348769 74.41951386 74.78756403\n",
            " 75.04686564 75.4335215  75.58768426 75.73611258 75.9882887  76.33159906\n",
            " 76.78653494 77.22483465 77.90534478 78.47825741 78.82852939 79.35563861\n",
            " 80.05677052 80.49980892 81.11199374 81.79446743 81.90849837 82.09006426\n",
            " 82.10340302 81.94693084 82.12031994 82.29205376 82.89481283 82.92859582\n",
            " 83.51112191 83.70368268 84.55033891 84.65457241 84.63007406 84.89369777\n",
            " 85.01986777 85.24813972 85.45624802 85.97697184 85.96845309]\n"
          ]
        },
        {
          "name": "stderr",
          "output_type": "stream",
          "text": [
            "\n",
            "GP-UCB Experiments:   0%|          | 0/3 [00:00<?, ?it/s]\u001b[A\n",
            "GP-UCB Experiments:  33%|███▎      | 1/3 [00:48<01:36, 48.14s/it]\u001b[A\n",
            "GP-UCB Experiments:  67%|██████▋   | 2/3 [01:35<00:47, 47.49s/it]\u001b[A\n",
            "GP-UCB Experiments: 100%|██████████| 3/3 [02:23<00:00, 47.80s/it]\n",
            "Dimension of Kernel Used:  93%|█████████▎| 25/27 [34:25<04:19, 129.88s/it]"
          ]
        },
        {
          "name": "stdout",
          "output_type": "stream",
          "text": [
            "[ 4.48154474  6.72245447 10.21562142 12.36530321 13.9968243  16.09653617\n",
            " 18.34784765 18.74514427 20.04217733 20.94813735 22.17794576 22.77296175\n",
            " 23.82692742 23.91770708 25.27107788 29.46005415 31.95173582 36.27410788\n",
            " 38.95957484 41.45321747 42.38745796 42.34400978 44.36949719 44.51370204\n",
            " 44.42453404 45.74423708 48.39919129 48.67599687 50.2153098  51.3345964\n",
            " 51.3822862  52.55489758 54.29089958 54.33842624 54.41777535 54.44614352\n",
            " 54.62469964 54.63740066 54.90696451 54.84613637 56.62161943 56.86245319\n",
            " 56.88628681 57.45637733 58.39885647 58.5712696  59.31337167 59.35185618\n",
            " 59.89892711 59.82437735 59.89685943 60.07816199 60.07631647 60.47807013\n",
            " 60.62518001 60.74533802 60.70797556 60.78032939 60.87045811 61.66505843\n",
            " 62.16720165 62.71989911 63.5284917  64.03000772 64.30303051 64.53128455\n",
            " 64.94165915 65.22287308 65.94778455 66.5568885  66.44748511 66.45827665\n",
            " 66.58363097 66.94683175 67.20648814 67.65724869 67.85237858 68.62633345\n",
            " 68.77742635 68.89253391 68.90412475 69.38130292 69.55256831 69.97609602\n",
            " 70.06315843 69.85066177 69.95260704 70.54850234 70.66580613 70.92070585\n",
            " 71.13806111 71.43910325 71.52273809 71.77213653 71.94492602 72.22321182\n",
            " 72.24987841 72.44756752 72.66619357 74.30278274 74.34186271]\n"
          ]
        },
        {
          "name": "stderr",
          "output_type": "stream",
          "text": [
            "\n",
            "GP-UCB Experiments:   0%|          | 0/3 [00:00<?, ?it/s]\u001b[A\n",
            "GP-UCB Experiments:  33%|███▎      | 1/3 [00:48<01:36, 48.33s/it]\u001b[A\n",
            "GP-UCB Experiments:  67%|██████▋   | 2/3 [01:36<00:48, 48.24s/it]\u001b[A\n",
            "GP-UCB Experiments: 100%|██████████| 3/3 [02:24<00:00, 48.25s/it]\n",
            "Dimension of Kernel Used:  96%|█████████▋| 26/27 [36:50<02:14, 134.35s/it]"
          ]
        },
        {
          "name": "stdout",
          "output_type": "stream",
          "text": [
            "[  4.21736274   8.35055751  11.66600046  15.4470097   18.68252244\n",
            "  21.35715081  24.98951864  27.41164298  29.01399968  31.36630809\n",
            "  32.95206005  33.87136776  34.71677477  37.15511611  39.09542789\n",
            "  41.21247867  41.5477897   43.17149732  44.85413709  47.68083708\n",
            "  49.7600221   51.58738155  54.73140123  56.69796531  60.8195087\n",
            "  64.34632886  64.98368432  66.01934685  66.12514479  66.2952324\n",
            "  66.94650287  67.65068768  68.41538359  68.81719446  69.08779938\n",
            "  69.50212207  70.19428149  70.63272207  71.26067471  71.81695769\n",
            "  72.01132668  72.4258913   72.59815488  73.14188831  73.47828932\n",
            "  74.01479222  74.32004078  74.69769257  75.07331904  75.48408355\n",
            "  76.17943662  76.81554597  77.3131683   77.93422698  78.51108752\n",
            "  80.02535653  81.82174309  82.14494235  82.89320815  83.41039483\n",
            "  83.95420968  84.66232153  85.38719531  85.86086788  86.32885084\n",
            "  86.60951868  87.36874406  88.107825    88.27728126  88.57923821\n",
            "  88.9330574   89.89466227  90.14976907  91.09847244  91.73753624\n",
            "  92.02310584  92.88094055  92.99185826  93.51166442  93.95771898\n",
            "  94.82581871  95.60351144  96.23566585  96.47584445  96.83219853\n",
            "  97.05766576  97.18646822  98.00765169  98.63293908  98.9579908\n",
            "  99.62676361 100.15933674 100.29589784 100.94995217 101.44807203\n",
            " 101.85562694 102.55326912 102.5873127  103.15526711 103.39187291\n",
            " 104.58558329]\n"
          ]
        },
        {
          "name": "stderr",
          "output_type": "stream",
          "text": [
            "\n",
            "GP-UCB Experiments:   0%|          | 0/3 [00:00<?, ?it/s]\u001b[A\n",
            "GP-UCB Experiments:  33%|███▎      | 1/3 [00:51<01:42, 51.32s/it]\u001b[A\n",
            "GP-UCB Experiments:  67%|██████▋   | 2/3 [01:42<00:51, 51.42s/it]\u001b[A\n",
            "GP-UCB Experiments: 100%|██████████| 3/3 [02:34<00:00, 51.38s/it]\n",
            "Dimension of Kernel Used: 100%|██████████| 27/27 [39:24<00:00, 87.56s/it] \n",
            "<ipython-input-9-df560f328913>:50: UserWarning: No artists with labels found to put in legend.  Note that artists whose label start with an underscore are ignored when legend() is called with no argument.\n",
            "  plt.legend()\n"
          ]
        },
        {
          "name": "stdout",
          "output_type": "stream",
          "text": [
            "[ 2.51631555  5.83551763  9.46320813 10.60149779 10.22254825 10.6322643\n",
            " 10.13678565 11.04083293 11.31996612 11.5189065  11.35452035 10.93968757\n",
            " 11.60987374 12.28606093 12.11628966 13.66974719 14.22675004 16.34493148\n",
            " 17.33278486 17.26815193 18.17467588 17.81329405 18.90615325 21.29111724\n",
            " 22.2192635  22.964971   25.25561077 27.15629772 28.42991549 30.33979919\n",
            " 29.90947744 29.7990613  29.52932402 29.36065276 29.99565059 29.25295329\n",
            " 31.18067435 30.78640391 30.19164471 29.77836034 29.40090527 30.00707916\n",
            " 29.3240617  28.83271634 28.55233831 28.06845235 29.11790336 28.44409411\n",
            " 28.56544899 28.43439855 27.92201856 27.51433807 28.41394035 27.79628953\n",
            " 28.39544269 28.35256686 27.55155433 27.0922538  26.61007736 27.34808893\n",
            " 27.06589943 28.776296   28.71971238 28.54456727 27.92350498 27.6412894\n",
            " 27.15948752 26.73957586 26.15375542 26.21356513 25.61504455 25.11552278\n",
            " 24.73324453 24.42623136 24.03414313 23.3541193  24.06042672 23.90359893\n",
            " 23.86311407 23.23767829 22.72865788 22.3061701  22.02545197 21.91170586\n",
            " 21.82840053 21.20925571 21.18230242 20.87174181 20.77863149 20.1314984\n",
            " 19.95803487 19.58099444 18.88878302 18.09927938 17.7701643  17.35400595\n",
            " 16.72923666 16.88636797 16.58124613 16.42270743 16.04324246]\n"
          ]
        },
        {
          "data": {
            "image/png": "[encoded data removed]",
            "text/plain": [
              "<Figure size 640x480 with 1 Axes>"
            ]
          },
          "metadata": {},
          "output_type": "display_data"
        },
        {
          "name": "stdout",
          "output_type": "stream",
          "text": [
            "[np.float64(60.217037982812535), np.float64(61.77412658069588), np.float64(62.81133294185103), np.float64(52.12360976842086), np.float64(50.817097795717245), np.float64(36.618070382625376), np.float64(24.242126294987624), np.float64(13.242161459441393), np.float64(8.887576456606409), np.float64(2.9815411204406757), np.float64(4.518236368981172), np.float64(-0.38749639934640484), np.float64(10.814663500681077), np.float64(7.696212203483985), np.float64(3.4311790614189395), np.float64(7.329710157051333), np.float64(6.585741035529899), np.float64(7.240033304794777), np.float64(6.079738862667494), np.float64(14.488773331971002), np.float64(7.089571459298624), np.float64(7.05270383056886), np.float64(9.652898157931665), np.float64(14.32807551433554), np.float64(12.390310451456783), np.float64(17.430930548403353), np.float64(2.673873743399007)]\n",
            "[np.float64(2.9748997986489325), np.float64(4.356874760163287), np.float64(7.18231341576539), np.float64(7.283894679175557), np.float64(10.483354837755234), np.float64(7.664827136535179), np.float64(24.4413708440326), np.float64(8.879760841204485), np.float64(6.613862199474396), np.float64(4.095077783199684), np.float64(6.035777714917688), np.float64(6.259419544475033), np.float64(4.3303508313586585), np.float64(8.103090966984247), np.float64(10.409011636996732), np.float64(8.487892416138108), np.float64(8.664654040936211), np.float64(5.4085182181508715), np.float64(7.805184163295022), np.float64(4.731875598519642), np.float64(7.306059617291402), np.float64(3.6480294574183874), np.float64(7.375298855388169), np.float64(5.530908309447266), np.float64(3.3622264389706427), np.float64(0.9609190025477069), np.float64(5.811452864058567)]\n"
          ]
        }
      ],
      "source": [
        "w_random = np.array([1 for _ in range(27)])\n",
        "# w_random = np.random.normal(loc=0.0, scale=sigma_w, size=27)\n",
        "\n",
        "qubits = 3\n",
        "seed = 1\n",
        "bounds = [(0, 2*np.pi), (0, 2*np.pi),(0, 2*np.pi)]\n",
        "\n",
        "quantum_f = lambda X: np.array([f_draw_from_GP(X[i]) for i in range(X.shape[0])])\n",
        "\n",
        "\n",
        "dim_tried = []\n",
        "regret_for_dim = []\n",
        "std_regret_for_dim = []\n",
        "\n",
        "for dim in trange(1,28,1, desc=\"Dimension of Kernel Used\"):\n",
        "\n",
        "  kernell = lambda X,Y: reduced_matrix_classic(X,Y,dim=dim)\n",
        "\n",
        "  gp = GaussianProcessRegressor(kernel=kernell, alpha=1e-4)\n",
        "\n",
        "  avg_best, best_hist_all,std_regret = run_multiple_experiments_gp_ucb(\n",
        "  f=quantum_f,\n",
        "  gp=gp,\n",
        "  bounds=bounds,\n",
        "  n_runs=30,\n",
        "  n_iter=100,\n",
        "  init_points=1,\n",
        "  n_grid=5,\n",
        "  beta_func=None,  # use the default inside gp_ucb_nd\n",
        "  random_state=42,\n",
        "  error = 3/dim,#get_max_error(dim),\n",
        "  verbose=False\n",
        ")\n",
        "\n",
        "  dim_tried.append(dim)\n",
        "  regret_for_dim.append(avg_best[-1]/6) #5.2\n",
        "  std_regret_for_dim.append(std_regret[-1]/6)\n",
        "  print(avg_best)\n",
        "\n",
        "\n",
        "plt.errorbar(dim_tried,regret_for_dim,std_regret_for_dim,ls=\"-\",\n",
        "             marker='d',\n",
        "             color=\"#009E73\",\n",
        "             alpha=1.0,\n",
        "             capsize=4)\n",
        "plt.title(\"Regret for Different Kernel Used\")\n",
        "plt.xlabel(\"Dimension of Kernel Used for Modeling\")\n",
        "plt.ylabel(\"Regret for T=100\")\n",
        "plt.grid(True)\n",
        "plt.legend()\n",
        "plt.show()\n",
        "\n",
        "\n",
        "print(regret_for_dim)\n",
        "print(std_regret_for_dim)"
      ]
    },
    {
      "cell_type": "code",
      "execution_count": null,
      "metadata": {
        "colab": {
          "background_save": true,
          "base_uri": "https://localhost:8080/"
        },
        "id": "zcVWTFz2boJd",
        "outputId": "af9efde0-057b-4bc3-9bb3-bae4f5707bb0"
      },
      "outputs": [
        {
          "name": "stderr",
          "output_type": "stream",
          "text": [
            "Dimension of Kernel Used:   0%|          | 0/27 [00:00<?, ?it/s]\n",
            "GP-UCB Experiments:   0%|          | 0/2 [00:00<?, ?it/s]\u001b[A\n",
            "GP-UCB Experiments:  50%|█████     | 1/2 [03:11<03:11, 191.48s/it]\u001b[A\n",
            "GP-UCB Experiments: 100%|██████████| 2/2 [06:21<00:00, 190.98s/it]\n",
            "Dimension of Kernel Used:   4%|▎         | 1/27 [06:21<2:45:31, 381.98s/it]"
          ]
        },
        {
          "name": "stdout",
          "output_type": "stream",
          "text": [
            "[  4.46434802   8.26484143  12.8395501   17.15792632  21.86848087\n",
            "  26.22310492  30.5313225   35.41508266  40.53462747  44.93361853\n",
            "  49.33333642  52.35233037  57.02002773  61.67347029  65.93319962\n",
            "  70.66051341  74.91135683  79.18907323  83.67752976  88.09812817\n",
            "  93.10923531  97.49263187 102.38366237 106.54940896 110.16258172\n",
            " 113.37616251 118.32216008 122.63079069 127.07603311 131.43990642\n",
            " 134.96614354 137.45638338 141.91015045 146.51680484 150.63954162\n",
            " 154.26095138 158.77301441 163.46056631 167.89590081 172.81402264\n",
            " 177.45194969 181.56298147 185.472388   190.0495005  194.76965892\n",
            " 198.43078676 203.41773742 207.94147448 211.77758874 215.37724413\n",
            " 219.48124444 223.68299917 229.03285381 233.94867208 238.47880201\n",
            " 243.52080751 245.99559748 250.84001337 254.42973273 259.19913695\n",
            " 263.8439513  267.74543885 272.37425118 276.57424879 281.45210012\n",
            " 285.31649676 289.6704421  292.60961744 297.07088717 299.75205314\n",
            " 304.21537372 308.81195828 312.67867223 317.36427429 321.56528216\n",
            " 326.16409807 330.77512106 334.69254727 339.33472681 343.70675535\n",
            " 346.80458848 349.42915571 354.64754803 358.77833494 362.27684069\n",
            " 366.69510066 370.53053241 374.71508092 379.46619521 383.58723152\n",
            " 388.54085769 392.62128946 396.85151067 401.00539638 405.73755204\n",
            " 409.69486036 413.65759716 418.16875543 422.06529275 424.94727992\n",
            " 429.52486199]\n"
          ]
        },
        {
          "name": "stderr",
          "output_type": "stream",
          "text": [
            "\n",
            "GP-UCB Experiments:   0%|          | 0/2 [00:00<?, ?it/s]\u001b[A\n",
            "GP-UCB Experiments:  50%|█████     | 1/2 [03:06<03:06, 186.04s/it]\u001b[A\n",
            "GP-UCB Experiments: 100%|██████████| 2/2 [06:12<00:00, 186.09s/it]\n",
            "Dimension of Kernel Used:   7%|▋         | 2/27 [12:34<2:36:45, 376.22s/it]"
          ]
        },
        {
          "name": "stdout",
          "output_type": "stream",
          "text": [
            "[  4.35756614   8.44455101  12.03805669  16.45475337  20.98475247\n",
            "  25.2689892   29.86246569  34.5898101   38.7143175   41.53087357\n",
            "  45.81841861  50.50707352  55.24822614  59.39227922  63.25075117\n",
            "  67.65777107  72.15398986  76.05274385  79.57054221  84.04327456\n",
            "  88.17078182  92.66789661  97.1527054  101.95976436 106.53879765\n",
            " 110.84794324 115.90114434 119.53288496 123.70401552 127.07773448\n",
            " 130.12341172 134.57756376 139.189517   142.90216763 147.16421305\n",
            " 150.38200474 154.77698595 157.65587028 161.58354182 166.13802233\n",
            " 168.84214322 173.94716941 177.14715083 181.14771531 186.40203874\n",
            " 190.31172266 192.93029172 196.88967356 198.16246849 203.06829692\n",
            " 206.93691223 211.22500809 216.01847168 219.78958452 224.25330024\n",
            " 227.16373412 232.06850636 236.44163419 239.99406041 243.97105057\n",
            " 248.67614275 252.35989561 255.63706772 260.53230512 264.87463461\n",
            " 269.42233548 273.94815837 278.11060915 280.44869649 285.23987986\n",
            " 289.70309732 294.40712316 297.40166881 301.53991239 305.68317399\n",
            " 310.05463443 312.32034648 316.76152243 320.09166458 324.42680352\n",
            " 328.81109733 333.11931666 335.82730412 341.01889551 345.18779942\n",
            " 347.6285925  352.18879882 356.06824046 360.26215182 365.00262686\n",
            " 369.57856963 373.51584251 378.2083074  382.73073174 387.23097622\n",
            " 392.02375473 396.29018067 398.82302364 401.25769112 405.72307206\n",
            " 410.12565442]\n"
          ]
        },
        {
          "name": "stderr",
          "output_type": "stream",
          "text": [
            "\n",
            "GP-UCB Experiments:   0%|          | 0/2 [00:00<?, ?it/s]\u001b[A\n",
            "GP-UCB Experiments:  50%|█████     | 1/2 [05:24<05:24, 324.80s/it]\u001b[A\n",
            "GP-UCB Experiments: 100%|██████████| 2/2 [10:50<00:00, 325.08s/it]\n",
            "Dimension of Kernel Used:  11%|█         | 3/27 [23:24<3:20:31, 501.31s/it]"
          ]
        },
        {
          "name": "stdout",
          "output_type": "stream",
          "text": [
            "[  4.63341806   7.5370548   11.23118772  13.73661462  18.4424646\n",
            "  20.49964071  24.50248964  26.91199469  29.96869944  33.01141388\n",
            "  36.12841898  40.64426936  43.19917419  46.03520966  48.86534688\n",
            "  52.81740785  57.132268    62.06331862  66.06763873  69.86361261\n",
            "  74.58186418  78.27839777  83.34302573  88.19226677  92.12806201\n",
            "  94.23793208  98.87017799 103.37641771 106.99867664 110.11234093\n",
            " 113.19007705 117.57721395 121.65250485 125.99941706 129.38752074\n",
            " 132.89741919 136.82364407 139.53171544 144.15898084 148.2198943\n",
            " 152.58996706 157.14447507 161.33743811 165.73950566 170.32803336\n",
            " 173.72343206 177.79331101 181.34884333 184.46566551 188.35617906\n",
            " 192.74847363 193.82905648 197.47979136 200.02805028 203.47137708\n",
            " 206.70289678 209.43458815 213.6185327  218.23588215 222.73281652\n",
            " 226.69053349 229.87377183 233.37294247 237.77442423 242.14074049\n",
            " 246.64092803 249.5498759  254.14270316 256.75150609 259.49150536\n",
            " 264.02245372 265.74073215 269.58689363 271.32806269 275.42805495\n",
            " 278.36690222 282.25800203 286.23541878 288.14361016 292.51726827\n",
            " 296.88960934 301.0948913  304.38271055 308.62253901 313.09447787\n",
            " 317.39826462 322.37462627 326.75307032 330.77883881 335.61321378\n",
            " 339.95025426 343.61786089 347.92684404 351.18974938 352.54878189\n",
            " 357.03980927 359.93645513 363.81700618 368.60810729 371.6137283\n",
            " 375.06555551]\n"
          ]
        },
        {
          "name": "stderr",
          "output_type": "stream",
          "text": [
            "\n",
            "GP-UCB Experiments:   0%|          | 0/2 [00:00<?, ?it/s]\u001b[A\n",
            "GP-UCB Experiments:  50%|█████     | 1/2 [05:22<05:22, 322.72s/it]\u001b[A\n",
            "GP-UCB Experiments: 100%|██████████| 2/2 [10:45<00:00, 322.62s/it]\n",
            "Dimension of Kernel Used:  15%|█▍        | 4/27 [34:09<3:33:57, 558.14s/it]"
          ]
        },
        {
          "name": "stdout",
          "output_type": "stream",
          "text": [
            "[  4.27961987   8.5469654   12.30485499  15.1786429   19.64666901\n",
            "  23.87076067  26.96556014  31.58831251  35.72088161  39.04861697\n",
            "  42.4688402   46.13214019  49.96542928  53.65288285  56.34512424\n",
            "  60.41861048  65.3484836   69.29752643  72.56055405  76.73024965\n",
            "  79.95383801  84.86117306  89.00057974  92.50452811  95.09860414\n",
            "  99.71257988 103.91341461 106.95774624 109.73592619 114.66263609\n",
            " 118.43942639 120.00953998 122.54386314 125.48083426 130.12165408\n",
            " 133.88095373 135.91910864 139.30034605 143.78752322 147.79238524\n",
            " 150.56516941 154.84679011 158.10824112 161.28916421 165.7130217\n",
            " 169.30548589 173.68100533 177.66921157 182.09117859 185.7536133\n",
            " 190.28975176 194.13919734 197.41521173 199.78410012 203.10352423\n",
            " 206.85218467 208.78404247 211.76571964 214.39179986 215.87638944\n",
            " 220.38132412 223.57400912 226.3630172  229.28070302 233.72363396\n",
            " 237.25008807 240.66727958 243.07036121 246.02544602 249.93654567\n",
            " 252.13523764 256.78449536 259.36019069 262.99357609 267.16418797\n",
            " 271.73370188 275.16403548 278.81639687 282.85164971 286.69725835\n",
            " 291.27213777 294.09852089 298.91583821 303.3687391  306.1111731\n",
            " 308.41131558 312.2162963  314.54850188 318.929936   322.286761\n",
            " 326.25526684 328.441382   330.3339477  333.34782453 337.45530193\n",
            " 342.22620604 345.67887168 350.71484164 353.8116528  357.75594268\n",
            " 361.30524663]\n"
          ]
        },
        {
          "name": "stderr",
          "output_type": "stream",
          "text": [
            "\n",
            "GP-UCB Experiments:   0%|          | 0/2 [00:00<?, ?it/s]\u001b[A\n",
            "GP-UCB Experiments:  50%|█████     | 1/2 [07:30<07:30, 450.70s/it]\u001b[A\n",
            "GP-UCB Experiments: 100%|██████████| 2/2 [15:01<00:00, 450.79s/it]\n",
            "Dimension of Kernel Used:  19%|█▊        | 5/27 [49:11<4:10:03, 681.99s/it]"
          ]
        },
        {
          "name": "stdout",
          "output_type": "stream",
          "text": [
            "[  4.30859535   8.64983142  11.95654209  16.16305918  18.3043318\n",
            "  21.89454179  25.93903778  30.2855257   34.31580802  38.55887991\n",
            "  41.31352043  45.1383396   49.023747    52.4006772   55.46053571\n",
            "  58.77854003  61.37923872  65.56555291  69.0047154   71.46639284\n",
            "  75.08130517  77.57399895  81.92467501  84.65739802  88.49863132\n",
            "  92.81512715  96.01003732 100.06819596 103.1958465  106.75942569\n",
            " 109.83640944 113.88551909 117.59404828 120.39268729 124.78538501\n",
            " 128.91199776 130.78950561 132.72856797 136.75791374 139.22166748\n",
            " 142.16814182 143.63729824 146.08573352 148.61485338 152.52096082\n",
            " 156.90249442 159.18432762 162.26355204 165.89219844 169.7795502\n",
            " 171.77278629 174.20825024 176.41556196 179.8836703  181.97783752\n",
            " 185.59641674 188.03202065 192.24754517 195.6536137  199.76810838\n",
            " 203.92182242 205.48217678 207.94310992 209.94289281 211.43815058\n",
            " 215.00140073 218.12070413 222.46699834 227.0424847  228.68491415\n",
            " 230.36223634 233.57634552 237.69967154 239.5932623  242.91098358\n",
            " 244.5409259  245.7801141  249.69698953 254.31763299 257.16651779\n",
            " 259.26846171 263.86544628 267.95267404 272.43310535 274.4376532\n",
            " 277.33213341 281.2415612  284.31250358 288.29331505 292.44598953\n",
            " 296.99393606 299.25279519 303.45509965 305.3047146  306.54785243\n",
            " 309.71761582 312.16579719 314.5474726  316.47290913 319.95941597\n",
            " 321.82222419]\n"
          ]
        },
        {
          "name": "stderr",
          "output_type": "stream",
          "text": [
            "\n",
            "GP-UCB Experiments:   0%|          | 0/2 [00:00<?, ?it/s]\u001b[A\n",
            "GP-UCB Experiments:  50%|█████     | 1/2 [07:35<07:35, 455.91s/it]\u001b[A\n",
            "GP-UCB Experiments: 100%|██████████| 2/2 [15:12<00:00, 456.25s/it]\n",
            "Dimension of Kernel Used:  22%|██▏       | 6/27 [1:04:23<4:26:07, 760.37s/it]"
          ]
        },
        {
          "name": "stdout",
          "output_type": "stream",
          "text": [
            "[  4.82631169   9.01374757  13.68708203  16.91350205  21.46735224\n",
            "  25.83135913  28.49577615  31.1451911   34.16741154  36.86786656\n",
            "  41.07888233  44.76447103  49.04747129  51.83941314  54.8504208\n",
            "  58.2822487   61.13482393  64.39232362  68.7907536   71.19298048\n",
            "  74.42993303  76.5111775   78.78266287  82.7992895   87.00966051\n",
            "  91.69665099  95.08786487  98.19397915 102.61967379 105.28952481\n",
            " 109.07230344 112.56715302 115.48634135 119.69518929 124.41782862\n",
            " 127.60755337 131.38312656 134.66932561 139.53849857 141.5121869\n",
            " 145.60967079 148.70807717 152.38755891 156.01313663 160.32375991\n",
            " 165.03540589 167.72443015 171.42794957 175.44033388 179.56446157\n",
            " 184.28362059 187.73561442 192.34913047 195.42798854 199.33841739\n",
            " 201.78273549 204.93502333 208.82100878 212.52570578 214.80910566\n",
            " 218.8265958  220.90021863 223.87971703 225.88482228 230.91244249\n",
            " 233.44230372 234.84066931 239.5512641  242.6049848  244.36601937\n",
            " 249.28838119 250.5160241  253.74574503 256.77051843 259.41336391\n",
            " 264.28770084 268.41703562 272.56599508 275.95392641 277.45824191\n",
            " 279.55022188 281.14915357 284.17852302 287.10222166 289.45387395\n",
            " 292.40525554 295.89471706 299.27021605 303.57388907 305.64299361\n",
            " 307.74683312 310.57659082 312.92277423 314.0027757  317.65827766\n",
            " 321.83880159 324.54338453 328.06856075 329.49254334 332.20578447\n",
            " 336.17601724]\n"
          ]
        },
        {
          "name": "stderr",
          "output_type": "stream",
          "text": [
            "\n",
            "GP-UCB Experiments:   0%|          | 0/2 [00:00<?, ?it/s]\u001b[A\n",
            "GP-UCB Experiments:  50%|█████     | 1/2 [09:39<09:39, 579.74s/it]\u001b[A\n",
            "GP-UCB Experiments: 100%|██████████| 2/2 [19:20<00:00, 580.25s/it]\n",
            "Dimension of Kernel Used:  26%|██▌       | 7/27 [1:23:44<4:57:03, 891.18s/it]"
          ]
        },
        {
          "name": "stdout",
          "output_type": "stream",
          "text": [
            "[  4.47047257   9.75592584  14.34806867  18.3501805   23.47071606\n",
            "  27.33601588  31.42471759  35.27204805  39.32070264  43.02193324\n",
            "  46.91829535  50.86383285  54.61044983  58.50093139  62.364941\n",
            "  66.07790199  69.78389439  73.44214014  77.03782487  80.30546861\n",
            "  83.57164945  86.77592627  89.59196843  92.51113886  95.13419355\n",
            "  97.96647156 100.62363128 103.19905688 105.93337781 108.55097918\n",
            " 111.51096744 113.68350804 116.47628707 119.24223464 121.77459441\n",
            " 124.62701658 127.38375393 129.9700067  132.84678876 135.52428927\n",
            " 138.02242937 140.44306298 142.82885698 145.13973564 147.23948304\n",
            " 149.5984487  151.79684589 154.20631509 156.66782708 159.20393126\n",
            " 161.65885752 163.83833178 166.66572804 169.13138437 171.48108124\n",
            " 174.00485215 176.4846931  178.58790591 180.88631483 182.98297159\n",
            " 185.12097609 187.42575035 189.77596828 191.74937646 193.80576533\n",
            " 195.70821589 197.69036546 199.86565599 202.0883749  204.18493935\n",
            " 206.27680444 208.15136667 210.20824371 212.27650741 214.26346378\n",
            " 216.2040228  218.30348039 220.39071819 222.22397011 224.51235049\n",
            " 226.35463485 228.48745896 230.43941148 232.49656943 234.38807351\n",
            " 236.37524314 238.37781596 240.15908508 242.14084362 243.96673497\n",
            " 245.84450892 247.85167846 249.74109021 251.61903601 253.36154087\n",
            " 255.42847786 257.27292095 259.24060265 261.01170194 262.75964296\n",
            " 264.57352901]\n"
          ]
        },
        {
          "name": "stderr",
          "output_type": "stream",
          "text": [
            "\n",
            "GP-UCB Experiments:   0%|          | 0/2 [00:00<?, ?it/s]\u001b[A\n",
            "GP-UCB Experiments:  50%|█████     | 1/2 [09:43<09:43, 583.75s/it]\u001b[A\n",
            "GP-UCB Experiments: 100%|██████████| 2/2 [19:31<00:00, 585.67s/it]\n",
            "Dimension of Kernel Used:  30%|██▉       | 8/27 [1:43:15<5:10:27, 980.37s/it]"
          ]
        },
        {
          "name": "stdout",
          "output_type": "stream",
          "text": [
            "[ 4.15720677  8.28961054 12.42853987 16.55686659 20.11657917 23.36626444\n",
            " 27.19577341 30.7499686  32.78057597 34.53255708 36.94729417 38.59341705\n",
            " 40.42418245 41.82888325 43.79484205 45.70310294 47.26721244 48.56788648\n",
            " 50.47362812 52.10944883 53.86740873 55.32156496 56.5674557  57.32869635\n",
            " 58.10322887 58.42347542 58.75098181 58.80000273 58.96847039 59.09826452\n",
            " 59.37834155 59.36478052 59.67021462 59.77104257 59.78167451 59.86132408\n",
            " 59.89457578 60.20356649 60.32445229 60.61210898 60.98229095 61.17332946\n",
            " 61.47668451 61.70925629 62.03004173 62.2416524  62.22833933 62.90139155\n",
            " 63.10460498 63.13435711 63.28690397 63.15092395 63.26404649 63.36125827\n",
            " 63.36493821 63.55677362 63.73747034 63.79349608 64.03540266 64.26496176\n",
            " 64.17906134 64.30433014 64.36346644 64.55983211 64.64865276 64.57585664\n",
            " 64.90564803 64.94025162 64.910377   65.13635699 65.44288725 65.71733776\n",
            " 65.72543362 65.68717471 65.91411056 66.35005356 66.79133112 66.79957203\n",
            " 66.77527296 67.17060195 67.70813962 67.83367477 68.06663849 68.20327722\n",
            " 68.14522268 68.35359187 68.55042407 68.53631152 68.55943132 68.77099033\n",
            " 69.03994394 69.06944374 69.39126288 69.8153976  69.83956907 69.88802243\n",
            " 70.24884263 70.49726723 70.50797043 70.76031151 71.0453991 ]\n"
          ]
        },
        {
          "name": "stderr",
          "output_type": "stream",
          "text": [
            "\n",
            "GP-UCB Experiments:   0%|          | 0/2 [00:00<?, ?it/s]\u001b[A\n",
            "GP-UCB Experiments:  50%|█████     | 1/2 [12:08<12:08, 728.12s/it]\u001b[A\n",
            "GP-UCB Experiments: 100%|██████████| 2/2 [24:14<00:00, 727.24s/it]\n",
            "Dimension of Kernel Used:  33%|███▎      | 9/27 [2:07:30<5:38:34, 1128.59s/it]"
          ]
        },
        {
          "name": "stdout",
          "output_type": "stream",
          "text": [
            "[ 4.17034075  8.33016986 12.58255733 15.36951608 18.24425879 20.56781025\n",
            " 25.06415408 28.85421467 33.03166245 34.24206542 34.6610817  34.67228611\n",
            " 34.95221173 35.17470518 35.17210555 35.26607635 35.18699302 35.65857288\n",
            " 35.68587683 35.93172798 35.81329077 35.85737719 35.76808748 35.667199\n",
            " 35.6598164  35.78215063 35.67810894 35.97491056 36.11400093 36.02842133\n",
            " 36.0045196  35.91695115 35.98082309 35.81835763 35.69939839 35.83768857\n",
            " 36.03417866 35.90256336 35.95750988 35.9334671  36.20909933 36.16060823\n",
            " 36.13312535 36.07941354 36.02095635 36.2852016  36.51253042 36.40520596\n",
            " 36.40559202 36.41922331 36.43728854 36.38595715 36.26471046 36.50707244\n",
            " 36.40244842 36.38461979 36.2397693  36.35612629 36.37728142 36.37031507\n",
            " 36.26284771 36.12097199 36.31469472 36.3878458  36.75927427 36.95463876\n",
            " 36.95056356 37.00181392 37.15318419 37.21725131 37.19921988 37.2508933\n",
            " 37.09238857 37.16217206 37.03526883 36.92264244 37.18909045 37.41932455\n",
            " 37.28651349 37.57027842 37.65908929 37.66784477 37.86804771 37.81018631\n",
            " 38.1356401  38.25738729 38.25218685 38.1657057  38.17759141 38.03150424\n",
            " 37.92886227 37.75287278 37.60076605 37.41149842 37.29866446 37.45818748\n",
            " 37.39706584 37.25990905 37.17576673 37.29747252 37.18867365]\n"
          ]
        },
        {
          "name": "stderr",
          "output_type": "stream",
          "text": [
            "\n",
            "GP-UCB Experiments:   0%|          | 0/2 [00:00<?, ?it/s]\u001b[A\n",
            "GP-UCB Experiments:  50%|█████     | 1/2 [12:05<12:05, 725.38s/it]\u001b[A\n",
            "GP-UCB Experiments: 100%|██████████| 2/2 [24:12<00:00, 726.10s/it]\n",
            "Dimension of Kernel Used:  37%|███▋      | 10/27 [2:31:42<5:48:04, 1228.50s/it]"
          ]
        },
        {
          "name": "stdout",
          "output_type": "stream",
          "text": [
            "[ 1.43435042  4.53481827  6.47918207 10.36523536 12.41344144 15.2625138\n",
            " 16.72068927 16.94845545 18.92610665 21.15187445 22.59542042 22.57939414\n",
            " 22.4861766  22.59930398 22.80614601 22.73596387 22.73831961 22.83789469\n",
            " 22.99357275 23.09592865 23.08218912 22.99121696 22.9944965  22.96469141\n",
            " 22.8649011  23.08030665 23.21958114 23.16525048 23.29733455 23.41529431\n",
            " 23.53070548 23.50236559 23.5212128  23.57928251 23.55353197 23.45972851\n",
            " 23.28481675 23.28595588 23.50516443 23.71026748 23.73152862 24.27245611\n",
            " 24.281484   24.21318357 24.18235038 24.09208594 24.06090559 24.10880997\n",
            " 24.0516875  24.02370584 24.22823457 24.30405729 24.27838529 24.42317249\n",
            " 24.40166066 24.42970077 24.43040043 24.4903157  24.47718012 24.38491956\n",
            " 24.35154101 24.28011084 24.6181426  24.68779974 24.81062092 24.71479669\n",
            " 24.58536697 24.74294654 24.67762487 24.67568472 24.69603493 24.89562172\n",
            " 24.96389102 25.0155994  24.95291784 24.83395819 24.76999686 24.96336301\n",
            " 24.92616343 24.76953948 24.70571109 24.67121999 24.61646702 24.65909726\n",
            " 24.60640706 24.58591609 24.59900053 24.8653492  24.99340649 25.0206972\n",
            " 25.27793073 25.32016523 25.32990376 25.31803861 25.75186167 25.83801621\n",
            " 25.68973559 25.88051693 25.85419705 25.76900864 25.80723671]\n"
          ]
        },
        {
          "name": "stderr",
          "output_type": "stream",
          "text": [
            "\n",
            "GP-UCB Experiments:   0%|          | 0/2 [00:00<?, ?it/s]\u001b[A\n",
            "GP-UCB Experiments:  50%|█████     | 1/2 [14:27<14:27, 867.36s/it]\u001b[A\n",
            "GP-UCB Experiments: 100%|██████████| 2/2 [28:53<00:00, 866.54s/it]\n",
            "Dimension of Kernel Used:  41%|████      | 11/27 [3:00:35<6:08:46, 1382.93s/it]"
          ]
        },
        {
          "name": "stdout",
          "output_type": "stream",
          "text": [
            "[ 4.51657641  9.78151522 14.04425129 17.43977312 20.64194729 22.64789227\n",
            " 27.31119402 29.74300572 33.9736264  37.14396018 41.50779809 45.51228018\n",
            " 46.45716497 47.42981051 48.91944774 49.67000047 50.64123568 51.55852073\n",
            " 52.20540032 53.08686385 54.08866413 54.73949523 55.82545896 56.39928312\n",
            " 56.64286758 56.69401999 56.95693721 57.30998282 58.05386507 58.21795964\n",
            " 58.72842122 59.33660589 59.74580328 60.24077885 60.2473005  60.40069175\n",
            " 60.55321633 60.68733605 60.80690788 60.97075857 61.10980986 61.25673655\n",
            " 61.34510745 61.5170619  61.69907512 61.97176955 62.03905012 62.12247831\n",
            " 62.27015275 62.52269268 62.56836777 63.13753725 63.15117998 63.37742131\n",
            " 63.44374991 63.69063043 63.7591991  63.8575469  63.94014763 64.1549583\n",
            " 64.36603948 64.74484518 64.86588194 65.10582369 65.17369668 65.16522896\n",
            " 65.27875368 65.41579986 65.67752636 65.91047891 65.92504158 66.31656661\n",
            " 66.49532907 66.70314878 66.72478684 66.76234154 66.77662774 67.25920652\n",
            " 67.59897571 67.87992085 68.08368294 68.41809464 68.58702644 68.85119209\n",
            " 69.02819323 69.27674174 69.75150158 70.02615645 70.1524933  70.19262429\n",
            " 70.33686392 70.42387092 70.68449795 70.7705559  70.95779107 71.08243538\n",
            " 71.37343576 71.46055259 71.41572321 71.56448822 71.63181192]\n"
          ]
        },
        {
          "name": "stderr",
          "output_type": "stream",
          "text": [
            "\n",
            "GP-UCB Experiments:   0%|          | 0/2 [00:00<?, ?it/s]\u001b[A\n",
            "GP-UCB Experiments:  50%|█████     | 1/2 [14:28<14:28, 868.32s/it]\u001b[A\n",
            "GP-UCB Experiments: 100%|██████████| 2/2 [28:55<00:00, 867.96s/it]\n",
            "Dimension of Kernel Used:  44%|████▍     | 12/27 [3:29:31<6:12:34, 1490.32s/it]"
          ]
        },
        {
          "name": "stdout",
          "output_type": "stream",
          "text": [
            "[ 3.90034245  8.36275897 12.93397126 16.24133076 17.43424843 19.57311083\n",
            " 23.30026648 24.34243992 27.25287238 29.90331467 32.05591461 33.99565733\n",
            " 34.25256669 34.77755786 34.77272865 34.8667838  34.99085679 35.31390045\n",
            " 35.54122336 35.76213353 36.04514566 36.32877982 36.66302479 37.12685999\n",
            " 37.404158   37.6721063  38.16241729 38.23896634 38.30222668 38.74972566\n",
            " 38.94662932 39.21974554 39.33196716 39.49175161 39.68924997 39.99332247\n",
            " 40.2222035  40.34845937 40.57832494 40.78823967 41.24210617 41.51822736\n",
            " 42.04869737 42.19647597 42.30654677 42.87103698 42.96864082 42.98214112\n",
            " 43.13516313 43.2528293  43.32220021 43.48157973 43.76558712 43.84403515\n",
            " 43.98416786 44.18797438 44.50372484 44.56031422 44.77252102 44.82657486\n",
            " 45.17010447 45.47184872 45.70523718 45.71900242 45.89951489 46.09246939\n",
            " 46.1900859  46.17883902 46.20221173 46.23452379 46.33082077 46.53065274\n",
            " 46.82689545 46.90534103 47.11569316 47.2722714  47.53203728 47.52504404\n",
            " 47.76810324 47.80074759 47.84982681 47.94041818 47.98533347 48.18104318\n",
            " 48.26499923 48.38558737 48.48293993 48.52747501 48.80426848 48.82222615\n",
            " 48.91678827 48.9854867  49.31827819 49.50674775 49.72268444 49.71923701\n",
            " 49.92300118 50.06043482 50.10167324 50.21242255 50.40400919]\n"
          ]
        },
        {
          "name": "stderr",
          "output_type": "stream",
          "text": [
            "\n",
            "GP-UCB Experiments:   0%|          | 0/2 [00:00<?, ?it/s]\u001b[A\n",
            "GP-UCB Experiments:  50%|█████     | 1/2 [16:40<16:40, 1000.26s/it]\u001b[A\n",
            "GP-UCB Experiments: 100%|██████████| 2/2 [33:13<00:00, 996.62s/it]\n",
            "Dimension of Kernel Used:  48%|████▊     | 13/27 [4:02:44<6:23:17, 1642.67s/it]"
          ]
        },
        {
          "name": "stdout",
          "output_type": "stream",
          "text": [
            "[ 3.96603973  8.30824124 12.91594215 17.4212065  21.44048323 25.93655488\n",
            " 29.50437842 33.35510688 37.83627518 40.70099617 43.30308855 45.42032535\n",
            " 48.33428964 49.74829041 51.61052775 52.5138845  53.77329015 54.53596865\n",
            " 55.24323008 55.62854617 55.9120026  56.38157987 56.41129373 56.94616939\n",
            " 57.0044767  57.06772098 57.19976382 57.84869922 57.77017903 58.00700655\n",
            " 58.03397071 58.18104545 58.1736779  58.21158212 58.06012629 58.50090685\n",
            " 58.59271657 58.50908188 58.71184916 59.05105171 58.81133166 59.07375271\n",
            " 58.95275396 59.0315423  59.38579138 59.48222366 59.57114028 59.7648188\n",
            " 59.80554026 59.78486217 59.72823908 59.75709306 59.84943479 59.85997299\n",
            " 59.94611697 59.80021449 59.7727902  59.89588048 59.88646076 59.93968399\n",
            " 59.93632815 59.86499032 59.63082878 59.62200793 59.57411102 59.65892078\n",
            " 59.61284304 59.69113984 59.70658376 59.58928852 59.45468146 59.56272123\n",
            " 59.65856054 59.5044414  59.30998698 59.31260032 59.20278909 59.1940157\n",
            " 59.19176527 59.27349264 59.01126551 58.86761762 58.79292435 58.65534239\n",
            " 58.59698585 58.63876126 58.54831357 58.39135351 58.27667766 58.2849852\n",
            " 58.15034893 57.8921123  57.85503147 57.77246936 57.83100697 57.77115599\n",
            " 57.64784748 57.66530733 57.48566292 57.31898648 57.12916165]\n"
          ]
        },
        {
          "name": "stderr",
          "output_type": "stream",
          "text": [
            "\n",
            "GP-UCB Experiments:   0%|          | 0/2 [00:00<?, ?it/s]\u001b[A\n",
            "GP-UCB Experiments:  50%|█████     | 1/2 [16:36<16:36, 996.68s/it]\u001b[A\n",
            "GP-UCB Experiments: 100%|██████████| 2/2 [33:13<00:00, 996.51s/it]\n",
            "Dimension of Kernel Used:  52%|█████▏    | 14/27 [4:35:57<6:18:50, 1748.50s/it]"
          ]
        },
        {
          "name": "stdout",
          "output_type": "stream",
          "text": [
            "[ 3.46908093  7.49941953 11.47261855 14.04950693 17.86497289 21.7916188\n",
            " 23.42108217 26.01131202 29.40632494 31.54954418 33.75206217 36.21628223\n",
            " 38.28744972 39.46506635 40.74020128 41.42674629 41.74604904 42.17971557\n",
            " 42.44088772 43.08983076 45.27522116 45.32162965 45.29012161 45.5632101\n",
            " 45.61471808 45.65440996 45.54217785 45.71975155 45.68789828 45.69894015\n",
            " 45.70565091 45.78832962 45.96075443 45.94738034 46.00736606 45.95928755\n",
            " 45.89223516 45.77654479 45.95213452 46.33325603 46.33374302 46.28640073\n",
            " 46.24261094 46.52844095 46.5155649  46.56341149 46.54695921 46.61518241\n",
            " 46.76336186 46.93605956 47.09177047 47.0331353  47.31014626 47.47032616\n",
            " 47.49602555 47.4409531  47.36727068 47.49126085 47.58669621 47.52191261\n",
            " 47.78040371 47.73009648 47.89763052 47.99098998 48.02906591 48.20454349\n",
            " 48.48630287 48.69475146 48.75530188 48.89183721 49.10588636 49.19337145\n",
            " 49.18561119 49.24010652 49.27072115 49.27547377 49.3852658  49.37459241\n",
            " 49.29833517 49.3559897  49.41846741 49.45007165 49.41435615 49.38737734\n",
            " 49.40505737 49.60615205 49.55407247 49.52326268 49.58303973 49.73066172\n",
            " 50.02126203 50.09394761 50.06105927 50.24690742 50.4102712  50.69292532\n",
            " 50.86797447 50.89111878 51.05770237 51.08183972 51.07879143]\n"
          ]
        },
        {
          "name": "stderr",
          "output_type": "stream",
          "text": [
            "\n",
            "GP-UCB Experiments:   0%|          | 0/2 [00:00<?, ?it/s]\u001b[A\n",
            "GP-UCB Experiments:  50%|█████     | 1/2 [18:44<18:44, 1124.01s/it]\u001b[A\n",
            "GP-UCB Experiments: 100%|██████████| 2/2 [37:25<00:00, 1122.96s/it]\n",
            "Dimension of Kernel Used:  56%|█████▌    | 15/27 [5:13:23<6:19:41, 1898.44s/it]"
          ]
        },
        {
          "name": "stdout",
          "output_type": "stream",
          "text": [
            "[ 3.20613849  7.6005021   9.89615272 13.22787577 16.61307488 18.91850745\n",
            " 19.31439163 20.52155643 21.2866826  22.67057408 24.79682001 29.34068357\n",
            " 31.75349008 33.51911232 33.52951489 38.44333247 40.24572144 40.32763197\n",
            " 40.50691953 40.63898635 40.89823537 40.9811632  41.18195126 41.18533717\n",
            " 41.20106488 41.2053121  41.57715462 41.58952033 43.57350327 43.8536758\n",
            " 44.0846104  44.26137435 44.44909137 44.72516058 44.76057132 45.14216414\n",
            " 45.2547351  45.27839645 45.37240292 45.5640859  45.83778597 45.89831045\n",
            " 46.14091455 46.36601921 46.38166976 46.56789901 46.61382911 46.74250064\n",
            " 46.77708382 46.79762173 47.05624139 47.23759841 47.27294896 47.58143606\n",
            " 47.6041065  47.68857204 47.75933515 47.82173702 47.9146578  47.93209119\n",
            " 47.94822932 48.16971918 48.21195141 48.5105965  48.50772798 48.78487169\n",
            " 48.91652094 48.98297283 49.04935777 49.12952811 49.27282617 49.36395577\n",
            " 49.39013725 49.37886193 49.51101732 49.56226904 49.67258205 49.79439795\n",
            " 50.05516578 50.2264879  50.42878696 50.51767194 50.52187645 50.69412172\n",
            " 50.93705115 51.36462825 51.51860019 51.73426638 51.81669456 51.9483215\n",
            " 52.0348062  52.04271327 52.08325823 52.23047199 52.24457714 52.2841161\n",
            " 52.4996007  52.56215395 52.64545111 52.83486762 52.90004004]\n"
          ]
        },
        {
          "name": "stderr",
          "output_type": "stream",
          "text": [
            "\n",
            "GP-UCB Experiments:   0%|          | 0/2 [00:00<?, ?it/s]\u001b[A\n",
            "GP-UCB Experiments:  50%|█████     | 1/2 [18:43<18:43, 1123.19s/it]\u001b[A\n",
            "GP-UCB Experiments: 100%|██████████| 2/2 [37:26<00:00, 1123.22s/it]\n",
            "Dimension of Kernel Used:  59%|█████▉    | 16/27 [5:50:49<6:07:15, 2003.19s/it]"
          ]
        },
        {
          "name": "stdout",
          "output_type": "stream",
          "text": [
            "[ 4.90390349  7.24143933  9.78960891 12.37535599 13.49867357 14.58613856\n",
            " 16.9556021  18.04915428 18.85304385 21.03260235 26.00054176 28.02760754\n",
            " 29.84665366 32.28227475 34.7111482  37.1523647  39.22463254 41.62129156\n",
            " 41.59569453 41.56631069 41.52754623 41.6602368  41.91218985 41.95809531\n",
            " 42.08908528 42.0338828  42.45525692 42.37538496 42.44507006 42.41888592\n",
            " 42.70395571 42.73775015 42.78663702 42.77069875 42.94655118 43.11226456\n",
            " 43.12257748 43.06936784 43.14449465 43.16517804 43.16217988 43.11615248\n",
            " 43.13138224 43.20287971 43.32981952 43.33005023 43.34179578 43.49063543\n",
            " 43.45856052 43.69719813 43.66133773 43.76070946 43.80344289 43.94636595\n",
            " 43.98776216 43.98710262 44.00091913 43.95596818 44.00516871 44.1044398\n",
            " 44.30132207 44.24007869 44.45303071 44.46204687 44.35995551 44.45951933\n",
            " 44.47587608 44.47068434 44.54195857 44.67526705 44.75149087 44.77183741\n",
            " 44.66865982 44.82927042 44.86099778 44.93174118 44.9610638  45.10544057\n",
            " 45.03138857 44.97920348 45.02157773 45.0968988  45.05287247 45.14815758\n",
            " 45.51088633 45.48496705 45.66286966 45.77146914 45.73249875 45.80683127\n",
            " 45.9226309  45.88655086 46.19913025 46.22943567 46.22991326 46.18855133\n",
            " 46.20279136 46.34164656 46.43953526 46.41112628 46.46082199]\n"
          ]
        },
        {
          "name": "stderr",
          "output_type": "stream",
          "text": [
            "\n",
            "GP-UCB Experiments:   0%|          | 0/2 [00:00<?, ?it/s]\u001b[A\n",
            "GP-UCB Experiments:  50%|█████     | 1/2 [20:58<20:58, 1258.11s/it]\u001b[A\n",
            "GP-UCB Experiments: 100%|██████████| 2/2 [41:55<00:00, 1257.81s/it]\n",
            "Dimension of Kernel Used:  63%|██████▎   | 17/27 [6:32:45<5:59:32, 2157.28s/it]"
          ]
        },
        {
          "name": "stdout",
          "output_type": "stream",
          "text": [
            "[ 4.37949703  8.89098121 13.72807094 17.06109718 21.20407243 23.96439276\n",
            " 25.6145274  26.21382627 26.48544822 27.62772484 27.88628247 27.8875806\n",
            " 28.07770298 32.28586975 34.53444954 37.24462253 37.25708582 39.78227758\n",
            " 42.17721287 42.21186069 42.25267782 42.29420487 42.49039023 42.55914562\n",
            " 44.45429964 44.5551916  44.72804328 44.77744384 44.82208766 44.87673458\n",
            " 45.03160648 44.99595321 45.14340729 45.0720571  45.02505781 45.10650887\n",
            " 45.06381255 44.98646733 44.91717299 45.10930863 45.00088409 45.17308443\n",
            " 45.23929408 45.33339733 45.32303425 45.40381422 45.51668317 45.54434232\n",
            " 45.70086809 45.75937316 46.09421501 46.20580016 46.3598548  46.28459452\n",
            " 46.22941818 46.39196295 46.32175689 46.45731577 46.42691375 46.40171483\n",
            " 46.43354766 46.41856919 46.43702947 46.4162858  46.34123933 46.26867581\n",
            " 46.25898608 46.38799865 46.53411968 46.6123016  46.6557096  46.74947982\n",
            " 46.88964223 46.94521262 46.88669505 46.88084937 46.86775321 47.07749785\n",
            " 47.11225161 47.24934952 47.26294371 47.42246505 47.4807918  47.48441797\n",
            " 47.72152611 47.99848322 48.08801757 48.01085928 47.9713201  48.12977278\n",
            " 48.31361987 48.27590987 48.35931788 48.55252321 48.4980195  48.495026\n",
            " 48.52859487 48.6274546  48.59901841 48.57925994 48.67384499]\n"
          ]
        },
        {
          "name": "stderr",
          "output_type": "stream",
          "text": [
            "\n",
            "GP-UCB Experiments:   0%|          | 0/2 [00:00<?, ?it/s]\u001b[A\n",
            "GP-UCB Experiments:  50%|█████     | 1/2 [20:58<20:58, 1258.13s/it]\u001b[A\n",
            "GP-UCB Experiments: 100%|██████████| 2/2 [41:57<00:00, 1258.66s/it]\n",
            "Dimension of Kernel Used:  67%|██████▋   | 18/27 [7:14:42<5:39:49, 2265.48s/it]"
          ]
        },
        {
          "name": "stdout",
          "output_type": "stream",
          "text": [
            "[ 4.13526052  7.86033894 11.64511283 16.9164832  21.38875054 24.77885248\n",
            " 27.68116196 30.84691058 33.8726363  34.11533289 35.69643674 36.13937625\n",
            " 37.44312305 37.51071397 37.73282001 40.23709184 42.55398229 42.57707527\n",
            " 42.60440821 42.61217489 42.6448433  42.64646097 42.63473994 42.54481351\n",
            " 42.52887117 42.46240645 42.3920247  42.40917228 42.33556342 42.81796435\n",
            " 42.84442203 43.10771656 43.24352547 43.34588829 43.32015298 43.37776448\n",
            " 43.43271561 43.40305743 43.44725093 43.35661767 43.35013201 43.44154604\n",
            " 43.51497235 43.4066824  43.44090743 43.54773319 43.52482896 43.48003797\n",
            " 43.62270922 43.67908568 43.69257263 43.71415448 43.65761255 43.67595194\n",
            " 43.89149186 44.00340721 44.21057321 44.16171662 44.06067044 43.99316921\n",
            " 43.93785555 43.88099984 43.81835183 43.6789188  43.6495005  43.65916342\n",
            " 43.70218929 43.77747738 43.78444868 43.97018278 44.01076845 44.14362319\n",
            " 44.19238349 44.30617157 44.39852006 44.26563617 44.55516832 44.49556616\n",
            " 44.45372026 44.35701238 44.41929269 44.59585554 44.66434694 44.67502552\n",
            " 44.6590194  44.58389595 44.75006222 44.72875766 44.71417351 44.63082497\n",
            " 44.61348267 44.78263996 44.65908232 44.75032217 44.68694272 44.57466018\n",
            " 44.60096768 44.69107978 44.70343565 44.58941659 44.6102493 ]\n"
          ]
        },
        {
          "name": "stderr",
          "output_type": "stream",
          "text": [
            "\n",
            "GP-UCB Experiments:   0%|          | 0/2 [00:00<?, ?it/s]\u001b[A\n",
            "GP-UCB Experiments:  50%|█████     | 1/2 [23:15<23:15, 1395.32s/it]\u001b[A\n",
            "GP-UCB Experiments: 100%|██████████| 2/2 [46:30<00:00, 1395.28s/it]\n",
            "Dimension of Kernel Used:  70%|███████   | 19/27 [8:01:13<5:23:05, 2423.18s/it]"
          ]
        },
        {
          "name": "stdout",
          "output_type": "stream",
          "text": [
            "[ 4.239534    7.3054003  10.3854453  12.86251894 15.60609323 18.30177617\n",
            " 21.67026012 23.66067693 26.09107171 26.44931505 27.11385542 27.7907006\n",
            " 29.15807415 29.31851019 31.51427209 33.92923966 36.39000007 39.00387256\n",
            " 41.2066712  41.34605135 42.68054054 42.66730055 42.75555679 42.88324933\n",
            " 42.93858216 42.98161602 43.431187   43.59796211 43.72959507 43.90511053\n",
            " 43.99588781 44.03470757 44.28912156 46.5082684  46.64856396 46.62357642\n",
            " 46.73002804 46.83928541 46.98325565 47.08927244 47.28452112 47.50967416\n",
            " 47.65767742 47.87687655 47.84776552 47.90117037 48.00638051 48.23937191\n",
            " 48.42122678 48.51129628 48.5997676  48.7761474  48.82447339 48.83569345\n",
            " 48.92536847 49.11521994 49.33697224 49.53457747 49.66520066 49.73794209\n",
            " 49.96116546 50.00509859 50.1045993  50.38778342 50.55933247 50.63163603\n",
            " 50.67892868 50.84514097 51.1741922  51.26449622 51.46310124 51.60032924\n",
            " 51.88430445 52.03315963 52.03919545 52.01894644 52.13015855 52.26361674\n",
            " 52.30220098 52.38994617 52.44540617 52.62109633 52.62386352 52.63503155\n",
            " 52.7185253  52.74969238 52.81113638 52.91492616 53.07968685 53.15631127\n",
            " 53.28197603 53.34877127 53.45800814 53.43680567 53.58969156 53.75359954\n",
            " 53.81902075 53.95377588 53.91429939 54.1185358  54.41839981]\n"
          ]
        },
        {
          "name": "stderr",
          "output_type": "stream",
          "text": [
            "\n",
            "GP-UCB Experiments:   0%|          | 0/2 [00:00<?, ?it/s]\u001b[A\n",
            "GP-UCB Experiments:  50%|█████     | 1/2 [23:13<23:13, 1393.68s/it]\u001b[A\n",
            "GP-UCB Experiments: 100%|██████████| 2/2 [46:28<00:00, 1394.06s/it]\n",
            "Dimension of Kernel Used:  74%|███████▍  | 20/27 [8:47:41<4:55:29, 2532.76s/it]"
          ]
        },
        {
          "name": "stdout",
          "output_type": "stream",
          "text": [
            "[ 4.21124274  8.82685396 13.26536299 18.00957639 20.83217351 23.31325095\n",
            " 27.27116016 27.63774139 29.03558283 31.11422147 32.82907153 32.9471\n",
            " 35.35355142 35.47634919 37.61153347 38.78750355 41.05777282 43.23359996\n",
            " 45.31577245 47.08880537 51.37405328 51.40186817 53.65328843 53.53657985\n",
            " 53.55990678 53.43882232 53.74138095 53.66876323 53.52286757 53.47600242\n",
            " 53.25890461 53.19905567 53.10272827 52.94483504 53.03434416 52.92115203\n",
            " 52.92447735 52.87374057 52.7946065  52.77120227 52.74026195 52.57993967\n",
            " 52.42886378 52.31894548 52.21336273 52.09480685 52.1652983  52.07571407\n",
            " 52.0762897  52.09813554 52.05638886 52.12862693 52.02431851 52.11338056\n",
            " 52.02687275 51.93352405 51.95713536 51.8031267  51.63355351 51.56508979\n",
            " 51.52965532 51.497555   51.43358165 51.38901471 51.25560879 51.23772877\n",
            " 51.21325547 51.2116581  51.28991228 51.18672446 51.03962072 50.9823627\n",
            " 50.95856109 50.84061815 50.8903266  50.77727943 50.77006536 50.69071271\n",
            " 50.61357674 50.67394995 50.6696192  50.54565811 50.46249197 50.42079137\n",
            " 50.38468177 50.30429726 50.25478743 50.19619451 50.09325874 49.93555691\n",
            " 49.77526933 49.67715147 49.52289956 49.71445575 49.61489286 49.56476335\n",
            " 49.59907845 49.63846531 49.59805923 49.61061804 49.58519715]\n"
          ]
        },
        {
          "name": "stderr",
          "output_type": "stream",
          "text": [
            "\n",
            "GP-UCB Experiments:   0%|          | 0/2 [00:00<?, ?it/s]\u001b[A\n",
            "GP-UCB Experiments:  50%|█████     | 1/2 [25:36<25:36, 1536.87s/it]\u001b[A\n",
            "GP-UCB Experiments: 100%|██████████| 2/2 [51:15<00:00, 1537.53s/it]\n",
            "Dimension of Kernel Used:  78%|███████▊  | 21/27 [9:38:56<4:29:33, 2695.55s/it]"
          ]
        },
        {
          "name": "stdout",
          "output_type": "stream",
          "text": [
            "[ 3.82728349  6.72501589 10.11255531 14.63109371 16.34030868 20.19879231\n",
            " 20.39361612 22.20416989 23.72499665 23.83988321 24.41868676 26.57769605\n",
            " 26.95373016 29.35307941 33.46555172 36.2701082  40.76028402 40.72651549\n",
            " 40.66548606 43.19514909 45.15550369 47.3515574  49.67354375 49.62943888\n",
            " 49.52914533 49.66541779 49.75482754 51.92826865 53.97334448 54.23701614\n",
            " 54.15747643 54.29547655 54.26399242 54.41670476 54.37279717 54.31151057\n",
            " 54.33117044 54.43360233 54.40774546 54.43879482 54.51713249 54.67759807\n",
            " 54.6177392  54.79887871 54.7810792  54.69688018 54.92321464 54.83855602\n",
            " 54.89009319 54.7541147  54.70873086 54.69782778 54.76049599 54.86906528\n",
            " 54.85369701 54.82385473 54.84586879 54.78447693 54.91244971 54.83958301\n",
            " 54.75615782 54.83379674 55.09569546 55.35560584 55.22904604 55.33966027\n",
            " 55.341189   55.34306539 55.46835917 55.5995157  55.58506232 55.59872474\n",
            " 55.59421737 55.51233216 55.60707321 55.58300511 55.56585045 55.5429085\n",
            " 55.59103862 55.48962636 55.47341748 55.43337298 55.54032148 55.57740476\n",
            " 55.59194907 55.66658084 55.69262011 55.69360347 55.63042307 55.69314075\n",
            " 55.54476869 55.52910227 55.62182971 55.64603005 55.4827451  55.37070112\n",
            " 55.43590499 55.44269162 55.39824879 55.28979099 55.28501055]\n"
          ]
        },
        {
          "name": "stderr",
          "output_type": "stream",
          "text": [
            "\n",
            "GP-UCB Experiments:   0%|          | 0/2 [00:00<?, ?it/s]\u001b[A\n",
            "GP-UCB Experiments:  50%|█████     | 1/2 [25:40<25:40, 1540.77s/it]\u001b[A\n",
            "GP-UCB Experiments: 100%|██████████| 2/2 [51:36<00:00, 1548.13s/it]\n",
            "Dimension of Kernel Used:  81%|████████▏ | 22/27 [10:30:32<3:54:39, 2815.81s/it]"
          ]
        },
        {
          "name": "stdout",
          "output_type": "stream",
          "text": [
            "[ 4.82365376  9.74482624 13.06431639 15.78333598 19.60913355 21.73984377\n",
            " 25.30693737 28.0466664  28.92210797 29.5584332  29.93037766 30.34827899\n",
            " 33.04247309 33.42294614 35.62186491 37.76809533 40.60342205 42.79464767\n",
            " 43.02919837 43.16688082 43.29555159 43.65383812 45.59150505 45.6700052\n",
            " 45.85187545 46.12371032 48.70528509 48.80419002 48.90169036 49.06858498\n",
            " 49.13765608 49.37547097 49.84918983 49.87632658 50.07220793 50.24363106\n",
            " 50.37883329 50.53514839 50.75012523 50.83559809 50.94518961 51.04132538\n",
            " 51.31783346 51.40927259 51.58087563 51.64640013 51.74761471 51.84003205\n",
            " 52.04080132 52.26816169 52.34460085 52.43986152 52.58889006 52.79137873\n",
            " 53.02539591 53.19695462 53.27975511 53.48085748 53.4912602  53.54615512\n",
            " 53.62924469 53.75714774 53.82924902 53.86021649 53.99367841 54.14417136\n",
            " 54.31610684 54.38812853 54.45528228 54.53085988 54.62669225 54.76156689\n",
            " 54.88582072 54.86621088 54.98336939 54.97737273 55.03512941 55.03064318\n",
            " 55.10593181 55.40047431 55.53872388 55.62646294 55.67383183 55.81938195\n",
            " 55.94372089 56.0310101  56.23704633 56.32563826 56.33641961 56.50867615\n",
            " 56.59687679 56.75422125 56.92054135 56.96401455 57.15066826 57.15663504\n",
            " 57.37982669 57.4858567  57.61616316 57.64278286 57.80556123]\n"
          ]
        },
        {
          "name": "stderr",
          "output_type": "stream",
          "text": [
            "\n",
            "GP-UCB Experiments:   0%|          | 0/2 [00:00<?, ?it/s]\u001b[A\n",
            "GP-UCB Experiments:  50%|█████     | 1/2 [28:18<28:18, 1698.03s/it]\u001b[A\n",
            "GP-UCB Experiments: 100%|██████████| 2/2 [56:40<00:00, 1700.16s/it]\n",
            "Dimension of Kernel Used:  85%|████████▌ | 23/27 [11:27:13<3:19:24, 2991.22s/it]"
          ]
        },
        {
          "name": "stdout",
          "output_type": "stream",
          "text": [
            "[ 3.67003587  6.63965496  9.06419964 12.4166132  14.75454607 17.46086912\n",
            " 21.33482185 22.10899359 23.05599957 24.19838326 24.23159683 24.40178904\n",
            " 26.8903612  29.22735176 29.31599335 31.52549372 34.02712554 36.18793476\n",
            " 36.36310487 36.36176885 38.6918276  39.12251982 43.39928213 45.45454246\n",
            " 45.67783113 45.83340885 48.42254416 48.44723171 48.47089934 50.81296007\n",
            " 50.94310671 53.73680506 53.71479982 54.18204927 54.5048647  54.5381128\n",
            " 54.59589282 54.5933276  56.67121687 56.95326742 57.06115992 57.11059903\n",
            " 57.18871274 57.19950868 57.19662875 57.27539821 57.47213126 57.6010299\n",
            " 57.63903683 57.72424203 57.73150904 57.91584322 57.92198956 58.13388778\n",
            " 58.27957826 58.32908    58.41725779 58.39146783 58.65322097 58.61878514\n",
            " 58.62390865 58.65544264 58.7601627  58.93099179 59.17088742 59.19480365\n",
            " 59.23164429 59.39143449 59.65807193 59.61766229 59.78524672 60.11793115\n",
            " 60.12415909 60.14876816 60.43755594 60.38413952 60.34107242 60.32310046\n",
            " 60.48293728 60.57596253 60.58032167 60.67937299 60.74191857 60.7929939\n",
            " 61.14587377 61.35015929 61.3431904  61.54326063 61.78388479 61.84431483\n",
            " 61.8611646  61.91309607 61.98673407 62.07291094 62.11899741 62.24289992\n",
            " 62.3963142  62.48601698 62.50681383 62.5154252  62.566385  ]\n"
          ]
        },
        {
          "name": "stderr",
          "output_type": "stream",
          "text": [
            "\n",
            "GP-UCB Experiments:   0%|          | 0/2 [00:00<?, ?it/s]\u001b[A\n",
            "GP-UCB Experiments:  50%|█████     | 1/2 [28:11<28:11, 1691.43s/it]\u001b[A\n",
            "GP-UCB Experiments: 100%|██████████| 2/2 [56:23<00:00, 1691.89s/it]\n",
            "Dimension of Kernel Used:  89%|████████▉ | 24/27 [12:23:37<2:35:27, 3109.01s/it]"
          ]
        },
        {
          "name": "stdout",
          "output_type": "stream",
          "text": [
            "[ 3.94952883  8.9831443  12.4281195  16.26485868 18.57821707 22.20397405\n",
            " 24.82409808 28.37151733 31.59718982 33.49170804 33.80903554 34.52303886\n",
            " 34.75076166 37.4067807  40.77654818 41.34591333 43.38106983 46.34505678\n",
            " 48.61390331 50.78898008 52.82251399 52.93019819 55.23559607 58.05009902\n",
            " 60.32112736 60.41055047 60.43136505 60.47595971 60.63611524 60.55099471\n",
            " 60.74344629 60.69135051 60.72405346 60.751436   60.87415528 60.87371963\n",
            " 60.91812665 61.02619385 61.15102307 61.23392377 61.22806553 61.21566883\n",
            " 61.20640836 61.26351617 61.43596681 61.51244242 61.52501259 61.46297126\n",
            " 61.43349766 61.47474706 61.69214984 61.858631   61.81231731 62.0524456\n",
            " 62.01322627 62.14641598 62.32737187 62.4283764  62.61749449 62.74554356\n",
            " 62.84289468 62.75792371 62.99361092 62.9747278  62.94926583 62.96430287\n",
            " 63.35017359 63.51743004 63.79512835 63.73422264 63.90140601 63.99910858\n",
            " 64.06259401 64.10904417 64.1314052  64.2766757  64.29666958 64.27317592\n",
            " 64.29868002 64.33579236 64.35518425 64.47442237 64.58731552 64.58188078\n",
            " 64.6659134  64.71885737 64.77694812 64.73054538 65.01279522 65.00962648\n",
            " 65.15574631 65.2869204  65.45877227 65.74954619 65.82497275 65.85131734\n",
            " 65.94571039 65.87725212 65.99008917 66.15047379 66.22507791]\n"
          ]
        },
        {
          "name": "stderr",
          "output_type": "stream",
          "text": [
            "\n",
            "GP-UCB Experiments:   0%|          | 0/2 [00:00<?, ?it/s]\u001b[A\n",
            "GP-UCB Experiments:  50%|█████     | 1/2 [30:37<30:37, 1837.67s/it]\u001b[A\n",
            "GP-UCB Experiments: 100%|██████████| 2/2 [1:01:32<00:00, 1846.24s/it]\n",
            "Dimension of Kernel Used:  93%|█████████▎| 25/27 [13:25:09<1:49:28, 3284.08s/it]"
          ]
        },
        {
          "name": "stdout",
          "output_type": "stream",
          "text": [
            "[ 3.90527406  8.73860264 13.08475085 17.60486098 20.45617049 24.39656915\n",
            " 25.12443547 26.37937973 26.73802562 27.50811786 27.74064544 28.62729186\n",
            " 28.84238998 28.8764963  33.00174525 35.40342602 37.64199114 37.79420186\n",
            " 37.72491399 40.35206255 42.14203609 44.14713519 44.10805035 44.55825121\n",
            " 44.53294943 46.79433153 46.69187299 46.72961243 49.00147786 51.0158904\n",
            " 51.18094972 51.2302875  51.11213223 51.09872095 53.44843308 53.47408812\n",
            " 53.36388546 53.42206521 53.38333171 53.39487101 53.40545002 53.39542786\n",
            " 53.42657057 53.40163969 53.390541   55.43955635 55.3712426  55.23998399\n",
            " 55.16493169 55.2344575  55.15064432 57.46152458 57.61777065 59.91138741\n",
            " 59.91879757 59.87539762 59.76966717 59.78493704 59.66475122 59.58496683\n",
            " 59.71423594 59.79191727 59.86033759 59.79954137 59.84082605 59.84997566\n",
            " 59.90168734 59.95829821 59.98255747 59.88732044 59.9114323  59.91897911\n",
            " 60.04829977 60.03035459 60.13324933 60.13924256 60.24867995 60.1590618\n",
            " 60.08154245 59.99526547 60.08984967 60.20220067 60.13380852 60.01628214\n",
            " 62.23107124 62.42083179 62.30378548 62.40111803 62.36586315 62.3016877\n",
            " 62.29608288 62.15342394 62.23644794 62.10474664 62.01998313 62.00784491\n",
            " 61.93512559 61.85906129 61.80501604 61.79182233 61.71612758]\n"
          ]
        },
        {
          "name": "stderr",
          "output_type": "stream",
          "text": [
            "\n",
            "GP-UCB Experiments:   0%|          | 0/2 [00:00<?, ?it/s]\u001b[A\n",
            "GP-UCB Experiments:  50%|█████     | 1/2 [30:59<30:59, 1859.66s/it]\u001b[A\n",
            "GP-UCB Experiments: 100%|██████████| 2/2 [1:01:53<00:00, 1856.97s/it]\n",
            "Dimension of Kernel Used:  96%|█████████▋| 26/27 [14:27:03<56:53, 3413.05s/it]  "
          ]
        },
        {
          "name": "stdout",
          "output_type": "stream",
          "text": [
            "[ 4.45248042  7.52640774 10.19915495 11.50492084 12.36327945 14.02380751\n",
            " 14.90461142 15.86137795 16.4193262  16.91205267 17.13622297 17.35684892\n",
            " 17.46573484 19.8837485  24.42857504 26.50797515 26.4979344  31.31194796\n",
            " 36.25337228 38.52272175 40.94701978 41.16579842 41.4396827  41.56068527\n",
            " 43.92928495 43.98303782 46.32072423 48.38480005 50.82568398 53.02921559\n",
            " 55.39452253 55.41828763 55.476395   55.45607609 55.60955395 55.72917141\n",
            " 55.73041957 57.80559172 59.91461296 60.00118193 60.25739654 60.3818755\n",
            " 60.35704128 60.47755303 60.67274536 60.80493163 60.90340747 60.90406559\n",
            " 61.04003367 61.09486399 61.18257718 61.26565252 61.27929504 63.38596608\n",
            " 63.50267824 63.63549374 63.81979264 63.82904648 63.78855512 64.0192808\n",
            " 64.05148432 64.06689106 64.00809247 64.01997822 64.33583426 64.39042043\n",
            " 64.38079687 64.36356098 64.47515322 64.5413009  64.55650351 64.58523661\n",
            " 65.02324255 64.95592719 65.09070748 65.05580977 65.09405902 65.08060856\n",
            " 65.18146119 65.30921457 65.29530444 65.41522046 65.54166496 65.55387487\n",
            " 65.7782345  65.74831218 65.71606285 65.89013609 65.86803286 65.91608021\n",
            " 66.04720114 66.2270806  66.67307598 66.71867148 66.85858667 66.95225904\n",
            " 66.94874466 66.91517316 66.96087211 67.04943796 67.0938421 ]\n"
          ]
        },
        {
          "name": "stderr",
          "output_type": "stream",
          "text": [
            "\n",
            "GP-UCB Experiments:   0%|          | 0/2 [00:00<?, ?it/s]\u001b[A\n",
            "GP-UCB Experiments:  50%|█████     | 1/2 [33:13<33:13, 1993.04s/it]\u001b[A\n",
            "GP-UCB Experiments: 100%|██████████| 2/2 [1:06:21<00:00, 1990.90s/it]\n",
            "Dimension of Kernel Used: 100%|██████████| 27/27 [15:33:25<00:00, 2074.27s/it]\n",
            "<ipython-input-10-cf616a6bf6d7>:50: UserWarning: No artists with labels found to put in legend.  Note that artists whose label start with an underscore are ignored when legend() is called with no argument.\n",
            "  plt.legend()\n"
          ]
        },
        {
          "name": "stdout",
          "output_type": "stream",
          "text": [
            "[ 1.59821093  3.97127254  4.93421323  7.65374389  8.10070616  9.15394639\n",
            "  9.97331937  9.92932172 10.98329987 11.23123419 11.20407498 11.3355439\n",
            " 14.30788271 16.28475106 17.79046551 19.91332961 19.96448393 22.07669194\n",
            " 22.08369728 22.40412596 25.1434504  25.32650412 27.61032899 31.74223813\n",
            " 31.8510241  33.97553961 36.34944241 40.63427221 40.66884013 42.79016678\n",
            " 42.6870093  42.65981595 42.61874729 42.48772986 44.63016968 44.59075227\n",
            " 46.80133715 51.07511623 51.06775367 51.18088769 51.28898456 53.37625193\n",
            " 55.68887371 55.60679071 57.82893526 60.10382301 60.17529739 60.19772164\n",
            " 60.28953164 60.31900004 60.4273619  60.37810695 60.38897508 60.42092622\n",
            " 60.3999952  60.32807337 60.33250331 60.38983897 60.31754288 60.59408595\n",
            " 60.62000876 63.17497507 63.31378469 63.31600601 63.30582343 63.37531325\n",
            " 63.47687977 63.55404507 63.49609073 63.37959058 63.3220179  63.3721392\n",
            " 63.2852629  63.3871275  63.52952446 63.59532172 63.64049165 63.58674194\n",
            " 63.47263214 63.52574671 63.42923021 63.40622382 63.45771453 63.69143421\n",
            " 63.78921307 63.9239774  63.90209308 64.03825011 63.99711942 64.00652713\n",
            " 64.03030544 63.98315341 64.05964287 64.12205275 64.13072556 64.17053337\n",
            " 64.09924811 64.05742073 64.25965174 64.23768775 64.32388686]\n"
          ]
        },
        {
          "data": {
            "image/png": "[encoded data removed]",
            "text/plain": [
              "<Figure size 640x480 with 1 Axes>"
            ]
          },
          "metadata": {},
          "output_type": "display_data"
        },
        {
          "name": "stdout",
          "output_type": "stream",
          "text": [
            "[np.float64(71.5874769978086), np.float64(68.35427573731882), np.float64(62.51092591824359), np.float64(60.217541104304466), np.float64(53.6370373652874), np.float64(56.029336207183896), np.float64(44.0955881687091), np.float64(11.840899849332445), np.float64(6.198112275765795), np.float64(4.301206118605723), np.float64(11.938635320211773), np.float64(8.400668198843718), np.float64(9.521526941930185), np.float64(8.513131904565723), np.float64(8.81667333925159), np.float64(7.743470331476604), np.float64(8.11230749880467), np.float64(7.435041550208491), np.float64(9.069733301427247), np.float64(8.264199524623878), np.float64(9.21416842504091), np.float64(9.634260204278322), np.float64(10.427730833009651), np.float64(11.037512985085213), np.float64(10.286021264037187), np.float64(11.182307016460406), np.float64(10.720647809511762)]\n",
            "[np.float64(0.1339867505921101), np.float64(1.2419933862558423), np.float64(2.03595556197214), np.float64(2.489641387353449), np.float64(6.412631159280011), np.float64(2.566475526617604), np.float64(15.597543501750662), np.float64(0.8790915811423522), np.float64(0.18927393940180556), np.float64(0.02005942588279641), np.float64(0.9251614022860236), np.float64(1.719659691767123), np.float64(3.5394413062648034), np.float64(1.9291130263585667), np.float64(2.231945211368051), np.float64(3.2439316620078027), np.float64(0.3999903205825485), np.float64(3.0525333542203636), np.float64(2.2711616257584075), np.float64(0.8773118705086608), np.float64(0.38377325668371576), np.float64(1.5648068649296565), np.float64(0.1026435529960364), np.float64(2.8245452270170364), np.float64(0.6587153700929088), np.float64(1.5420737687943482), np.float64(1.8249635139928035)]\n"
          ]
        }
      ],
      "source": [
        "# should give a reasonable plot\n",
        "\n",
        "w_random = np.array([1 for _ in range(27)])\n",
        "# w_random = np.random.normal(loc=0.0, scale=sigma_w, size=27)\n",
        "\n",
        "qubits = 3\n",
        "seed = 1\n",
        "bounds = [(0, 2*np.pi), (0, 2*np.pi),(0, 2*np.pi)]\n",
        "\n",
        "quantum_f = lambda X: np.array([f_draw_from_GP(X[i]) for i in range(X.shape[0])])\n",
        "\n",
        "\n",
        "dim_tried = []\n",
        "regret_for_dim = []\n",
        "std_regret_for_dim = []\n",
        "\n",
        "for dim in trange(1,28,1, desc=\"Dimension of Kernel Used\"):\n",
        "\n",
        "  kernell = lambda X,Y: reduced_matrix_classic(X,Y,dim=dim)\n",
        "\n",
        "  gp = GaussianProcessRegressor(kernel=kernell, alpha=1e-4)\n",
        "\n",
        "  avg_best, best_hist_all,std_regret = run_multiple_experiments_gp_ucb(\n",
        "  f=quantum_f,\n",
        "  gp=gp,\n",
        "  bounds=bounds,\n",
        "  n_runs=2,\n",
        "  n_iter=100,\n",
        "  init_points=1,\n",
        "  n_grid=10,\n",
        "  beta_func=None,  # use the default inside gp_ucb_nd\n",
        "  random_state=42,\n",
        "  error = 1/dim,#get_max_error(dim),\n",
        "  verbose=False\n",
        ")\n",
        "\n",
        "  dim_tried.append(dim)\n",
        "  regret_for_dim.append(avg_best[-1]/6) #5.2\n",
        "  std_regret_for_dim.append(std_regret[-1]/6)\n",
        "  print(avg_best)\n",
        "\n",
        "\n",
        "plt.errorbar(dim_tried,regret_for_dim,std_regret_for_dim,ls=\"-\",\n",
        "             marker='d',\n",
        "             color=\"#009E73\",\n",
        "             alpha=1.0,\n",
        "             capsize=4)\n",
        "plt.title(\"Regret for Different Kernel Used\")\n",
        "plt.xlabel(\"Dimension of Kernel Used for Modeling\")\n",
        "plt.ylabel(\"Regret for T=100\")\n",
        "plt.grid(True)\n",
        "plt.legend()\n",
        "plt.show()\n",
        "\n",
        "\n",
        "print(regret_for_dim)\n",
        "print(std_regret_for_dim)"
      ]
    },
    {
      "cell_type": "markdown",
      "metadata": {
        "id": "0dv5ykrjNhoZ"
      },
      "source": [
        "## plot final\n",
        "\n",
        "domain:[0,2pi]^3\n",
        "\n",
        "grid_size=10,\n",
        "\n",
        "T=100,\n",
        "\n",
        "30 runs"
      ]
    },
    {
      "cell_type": "code",
      "source": [
        "y2 = [np.float64(71.5874769978086), np.float64(68.35427573731882), np.float64(62.51092591824359), np.float64(60.217541104304466), np.float64(53.6370373652874), np.float64(56.029336207183896), np.float64(44.0955881687091), np.float64(11.840899849332445), np.float64(6.198112275765795), np.float64(4.301206118605723), np.float64(11.938635320211773), np.float64(8.400668198843718), np.float64(9.521526941930185), np.float64(8.513131904565723), np.float64(8.81667333925159), np.float64(7.743470331476604), np.float64(8.11230749880467), np.float64(7.435041550208491), np.float64(9.069733301427247), np.float64(8.264199524623878), np.float64(9.21416842504091), np.float64(9.634260204278322), np.float64(10.427730833009651), np.float64(11.037512985085213), np.float64(10.286021264037187), np.float64(11.182307016460406), np.float64(10.720647809511762)]\n",
        "std_y2 = [np.float64(0.1339867505921101), np.float64(1.2419933862558423), np.float64(2.03595556197214), np.float64(2.489641387353449), np.float64(6.412631159280011), np.float64(2.566475526617604), np.float64(15.597543501750662), np.float64(0.8790915811423522), np.float64(0.18927393940180556), np.float64(0.02005942588279641), np.float64(0.9251614022860236), np.float64(1.719659691767123), np.float64(3.5394413062648034), np.float64(1.9291130263585667), np.float64(2.231945211368051), np.float64(3.2439316620078027), np.float64(0.3999903205825485), np.float64(3.0525333542203636), np.float64(2.2711616257584075), np.float64(0.8773118705086608), np.float64(0.38377325668371576), np.float64(1.5648068649296565), np.float64(0.1026435529960364), np.float64(2.8245452270170364), np.float64(0.6587153700929088), np.float64(1.5420737687943482), np.float64(1.8249635139928035)]"
      ],
      "metadata": {
        "id": "TFrKEG145qZU"
      },
      "execution_count": null,
      "outputs": []
    },
    {
      "cell_type": "code",
      "execution_count": null,
      "metadata": {
        "id": "lk0nW5QpNv7_"
      },
      "outputs": [],
      "source": [
        "import numpy as np\n",
        "x = np.array([i for i in range(1,28,1)])\n",
        "y = np.array([np.float64(69.52018593315273), np.float64(66.28161091525327), np.float64(58.109750265252735), np.float64(25.833972520859792), np.float64(18.865532533053965), np.float64(6.638831758566418), np.float64(8.389176010522446), np.float64(7.45954822334794), np.float64(8.909203878075974), np.float64(8.569775138152042), np.float64(9.756145604663951), np.float64(8.519012356966949), np.float64(9.959892396185792), np.float64(10.624303251940702)])\n",
        "std_y=np.array([np.float64(5.134469641379388), np.float64(6.105115612731885), np.float64(8.826311429753963), np.float64(7.463804449756505), np.float64(10.349784789105666), np.float64(2.20541168012209), np.float64(1.47747504312939987), np.float64(1.2730215137753773), np.float64(1.9203658670283055), np.float64(1.9933669570230658), np.float64(2.0745700324959615), np.float64(3.10954728663232), np.float64(3.1957884021669702), np.float64(2.2007339875332663)])"
      ]
    },
    {
      "cell_type": "markdown",
      "source": [
        "# Final Plot and data"
      ],
      "metadata": {
        "id": "R2_LzGYl8Bae"
      }
    },
    {
      "cell_type": "code",
      "source": [
        "y = np.array([70.55383147, 67.31794333, 64.39626842, 59.16364568, 55.87339382,\n",
        "       40.93165436, 34.96478034, 15.35321619, 12.5318224 ,  8.47001894,\n",
        "        8.28873354,  8.3949221 ,  7.95535148,  7.98634006,  8.13811078,\n",
        "        8.3263371 ,  8.41075569,  8.20240834,  8.81975422,  9.01017256,\n",
        "        9.38515701,  9.07663628,  9.47337159, 10.29870269, 10.12295683,\n",
        "       10.80330513, 10.97247553])\n",
        "\n",
        "std_y = np.array([ 2.6342282 ,  3.6735545 ,  4.07053559,  5.65797641,  7.61947129,\n",
        "        5.01513999, 6.53067398,  5.61443819,  5.26952936,  1.11273555,\n",
        "        1.56528654,  1.59856737,  2.50845817,  1.60106727,  1.75248336,\n",
        "        2.58214876,  1.16017809,  2.52295016,  2.13226429,  1.47594095,\n",
        "        1.22917164,  2.33717708,  1.60609542,  3.01016681,  1.92725189,\n",
        "        1.87140388,  2.01284875])"
      ],
      "metadata": {
        "id": "tT4N_ZCE7sHZ"
      },
      "execution_count": null,
      "outputs": []
    },
    {
      "cell_type": "code",
      "execution_count": null,
      "metadata": {
        "colab": {
          "base_uri": "https://localhost:8080/",
          "height": 449
        },
        "id": "YBMx1P4SNB9F",
        "outputId": "60689d02-7fb4-4263-db45-d2aeb9af250b"
      },
      "outputs": [
        {
          "output_type": "display_data",
          "data": {
            "text/plain": [
              "<IPython.core.display.Javascript object>"
            ],
            "application/javascript": [
              "\n",
              "    async function download(id, filename, size) {\n",
              "      if (!google.colab.kernel.accessAllowed) {\n",
              "        return;\n",
              "      }\n",
              "      const div = document.createElement('div');\n",
              "      const label = document.createElement('label');\n",
              "      label.textContent = `Downloading \"${filename}\": `;\n",
              "      div.appendChild(label);\n",
              "      const progress = document.createElement('progress');\n",
              "      progress.max = size;\n",
              "      div.appendChild(progress);\n",
              "      document.body.appendChild(div);\n",
              "\n",
              "      const buffers = [];\n",
              "      let downloaded = 0;\n",
              "\n",
              "      const channel = await google.colab.kernel.comms.open(id);\n",
              "      // Send a message to notify the kernel that we're ready.\n",
              "      channel.send({})\n",
              "\n",
              "      for await (const message of channel.messages) {\n",
              "        // Send a message to notify the kernel that we're ready.\n",
              "        channel.send({})\n",
              "        if (message.buffers) {\n",
              "          for (const buffer of message.buffers) {\n",
              "            buffers.push(buffer);\n",
              "            downloaded += buffer.byteLength;\n",
              "            progress.value = downloaded;\n",
              "          }\n",
              "        }\n",
              "      }\n",
              "      const blob = new Blob(buffers, {type: 'application/binary'});\n",
              "      const a = document.createElement('a');\n",
              "      a.href = window.URL.createObjectURL(blob);\n",
              "      a.download = filename;\n",
              "      div.appendChild(a);\n",
              "      a.click();\n",
              "      div.remove();\n",
              "    }\n",
              "  "
            ]
          },
          "metadata": {}
        },
        {
          "output_type": "display_data",
          "data": {
            "text/plain": [
              "<IPython.core.display.Javascript object>"
            ],
            "application/javascript": [
              "download(\"download_bba9873c-2d39-42aa-90d3-19df6b8c1b3e\", \"exp1_rff.png\", 127419)"
            ]
          },
          "metadata": {}
        },
        {
          "output_type": "display_data",
          "data": {
            "text/plain": [
              "<Figure size 640x480 with 1 Axes>"
            ],
            "image/png": "[encoded data removed]"
          },
          "metadata": {}
        }
      ],
      "source": [
        "import numpy as np\n",
        "import matplotlib.pyplot as plt\n",
        "from google.colab import files\n",
        "\n",
        "# Example data\n",
        "# x = np.linspace(0, 10, 50)\n",
        "# y = np.sin(xa)\n",
        "# std_y = 0.2 * np.ones_like(x)  # just an example constant std\n",
        "\n",
        "# Plot the main line\n",
        "plt.plot(x, y, label=\"Regret for different approximate kernel dimension\")\n",
        "\n",
        "# Fill the error region\n",
        "plt.fill_between(x, y - std_y, y + std_y, alpha=0.25, label=\"Std Deviation\")\n",
        "#plt.axvline(x=10, color='r', linestyle='--', label=\"Theoretical Optimal x\")\n",
        "# Add labels and legend\n",
        "plt.xlabel(\"Dimension of Approximate Kernel\")\n",
        "plt.ylabel(\"Regret for T=100\")\n",
        "plt.legend()\n",
        "\n",
        "# Save the plot to a file\n",
        "plt.savefig(\"exp1_rff.png\", dpi=300)\n",
        "files.download(\"exp1_rff.png\")\n"
      ]
    },
    {
      "cell_type": "markdown",
      "metadata": {
        "id": "cncbPS7-Py8E"
      },
      "source": [
        "# MSE for different kernel dimension"
      ]
    },
    {
      "cell_type": "code",
      "execution_count": null,
      "metadata": {
        "colab": {
          "base_uri": "https://localhost:8080/",
          "height": 546
        },
        "id": "dx779-S-II8W",
        "outputId": "ede39ac0-5abc-4b50-da21-26147e5f8f20"
      },
      "outputs": [
        {
          "name": "stderr",
          "output_type": "stream",
          "text": [
            "Dimension of Kernel Used: 100%|██████████| 14/14 [00:13<00:00,  1.01it/s]\n",
            "<ipython-input-105-5fb7184156fe>:35: UserWarning: No artists with labels found to put in legend.  Note that artists whose label start with an underscore are ignored when legend() is called with no argument.\n",
            "  plt.legend()\n"
          ]
        },
        {
          "data": {
            "image/png": "[encoded data removed]",
            "text/plain": [
              "<Figure size 640x480 with 1 Axes>"
            ]
          },
          "metadata": {},
          "output_type": "display_data"
        }
      ],
      "source": [
        "w_random = np.array([1 for _ in range(27)])\n",
        "#np.random.normal(loc=0.0, scale=sigma_w, size=27)\n",
        "\n",
        "from sklearn.model_selection import train_test_split\n",
        "from sklearn.metrics import mean_squared_error\n",
        "\n",
        "dim_tried = []\n",
        "mse_for_dim = []\n",
        "\n",
        "quantum_f = lambda X: np.array([f_draw_from_GP(X[i]) for i in range(X.shape[0])])\n",
        "\n",
        "\n",
        "for dim in trange(1,28,2, desc=\"Dimension of Kernel Used\"):\n",
        "\n",
        "  kernell = lambda X,Y: reduced_matrix_classic(X,Y,dim=dim)\n",
        "  gp = GaussianProcessRegressor(kernel=kernell, alpha=1e-5)\n",
        "\n",
        "  X = np.random.uniform([0]*3, [2 * np.pi]*3, size=(300, 3))\n",
        "  true_y = quantum_f(X)\n",
        "  y = true_y\n",
        "  X_train, X_test, y_train, y_test = train_test_split(X, y, test_size=0.33, random_state=seed)\n",
        "\n",
        "  gp.fit(X_train, y_train)\n",
        "  y_pred, std = gp.predict(X_test, return_std=True)\n",
        "\n",
        "  dim_tried.append(dim)\n",
        "  mse_for_dim.append(mean_squared_error(y_test, y_pred))\n",
        "\n",
        "\n",
        "plt.plot(dim_tried, mse_for_dim)\n",
        "plt.title(\"MSE for Different Kernel Used\")\n",
        "plt.xlabel(\"Dimension of Kernel Used\")\n",
        "plt.ylabel(\"MSE\")\n",
        "plt.grid(True)\n",
        "plt.legend()\n",
        "plt.show()"
      ]
    },
    {
      "cell_type": "code",
      "execution_count": null,
      "metadata": {
        "colab": {
          "base_uri": "https://localhost:8080/",
          "height": 1000
        },
        "id": "m3loz83If7Bc",
        "outputId": "14ca8378-ac3b-4105-c657-d552e5edd280"
      },
      "outputs": [
        {
          "name": "stderr",
          "output_type": "stream",
          "text": [
            "Dimension of Kernel Used:   7%|▋         | 1/14 [00:00<00:02,  6.17it/s]"
          ]
        },
        {
          "name": "stdout",
          "output_type": "stream",
          "text": [
            "1\n",
            "1\n",
            "1\n",
            "3\n"
          ]
        },
        {
          "name": "stderr",
          "output_type": "stream",
          "text": [
            "\rDimension of Kernel Used:  14%|█▍        | 2/14 [00:00<00:03,  3.84it/s]"
          ]
        },
        {
          "name": "stdout",
          "output_type": "stream",
          "text": [
            "3\n",
            "3\n",
            "5\n"
          ]
        },
        {
          "name": "stderr",
          "output_type": "stream",
          "text": [
            "\rDimension of Kernel Used:  21%|██▏       | 3/14 [00:00<00:03,  3.01it/s]"
          ]
        },
        {
          "name": "stdout",
          "output_type": "stream",
          "text": [
            "5\n",
            "5\n",
            "7\n",
            "7\n",
            "7\n"
          ]
        },
        {
          "name": "stderr",
          "output_type": "stream",
          "text": [
            "\rDimension of Kernel Used:  29%|██▊       | 4/14 [00:01<00:03,  2.52it/s]"
          ]
        },
        {
          "name": "stdout",
          "output_type": "stream",
          "text": [
            "9\n",
            "9\n"
          ]
        },
        {
          "name": "stderr",
          "output_type": "stream",
          "text": [
            "\rDimension of Kernel Used:  36%|███▌      | 5/14 [00:02<00:05,  1.68it/s]"
          ]
        },
        {
          "name": "stdout",
          "output_type": "stream",
          "text": [
            "9\n",
            "11\n",
            "11\n"
          ]
        },
        {
          "name": "stderr",
          "output_type": "stream",
          "text": [
            "\rDimension of Kernel Used:  43%|████▎     | 6/14 [00:03<00:06,  1.18it/s]"
          ]
        },
        {
          "name": "stdout",
          "output_type": "stream",
          "text": [
            "11\n",
            "13\n",
            "13\n"
          ]
        },
        {
          "name": "stderr",
          "output_type": "stream",
          "text": [
            "\rDimension of Kernel Used:  50%|█████     | 7/14 [00:04<00:06,  1.11it/s]"
          ]
        },
        {
          "name": "stdout",
          "output_type": "stream",
          "text": [
            "13\n",
            "15\n",
            "15\n"
          ]
        },
        {
          "name": "stderr",
          "output_type": "stream",
          "text": [
            "\rDimension of Kernel Used:  57%|█████▋    | 8/14 [00:05<00:05,  1.13it/s]"
          ]
        },
        {
          "name": "stdout",
          "output_type": "stream",
          "text": [
            "15\n",
            "17\n",
            "17\n"
          ]
        },
        {
          "name": "stderr",
          "output_type": "stream",
          "text": [
            "\rDimension of Kernel Used:  64%|██████▍   | 9/14 [00:06<00:04,  1.11it/s]"
          ]
        },
        {
          "name": "stdout",
          "output_type": "stream",
          "text": [
            "17\n",
            "19\n",
            "19\n"
          ]
        },
        {
          "name": "stderr",
          "output_type": "stream",
          "text": [
            "\rDimension of Kernel Used:  71%|███████▏  | 10/14 [00:07<00:03,  1.06it/s]"
          ]
        },
        {
          "name": "stdout",
          "output_type": "stream",
          "text": [
            "19\n",
            "21\n",
            "21\n"
          ]
        },
        {
          "name": "stderr",
          "output_type": "stream",
          "text": [
            "\rDimension of Kernel Used:  79%|███████▊  | 11/14 [00:08<00:02,  1.00it/s]"
          ]
        },
        {
          "name": "stdout",
          "output_type": "stream",
          "text": [
            "21\n",
            "23\n",
            "23\n"
          ]
        },
        {
          "name": "stderr",
          "output_type": "stream",
          "text": [
            "\rDimension of Kernel Used:  86%|████████▌ | 12/14 [00:09<00:02,  1.06s/it]"
          ]
        },
        {
          "name": "stdout",
          "output_type": "stream",
          "text": [
            "23\n",
            "25\n",
            "25\n"
          ]
        },
        {
          "name": "stderr",
          "output_type": "stream",
          "text": [
            "\rDimension of Kernel Used:  93%|█████████▎| 13/14 [00:11<00:01,  1.13s/it]"
          ]
        },
        {
          "name": "stdout",
          "output_type": "stream",
          "text": [
            "25\n",
            "27\n",
            "27\n"
          ]
        },
        {
          "name": "stderr",
          "output_type": "stream",
          "text": [
            "Dimension of Kernel Used: 100%|██████████| 14/14 [00:12<00:00,  1.12it/s]"
          ]
        },
        {
          "name": "stdout",
          "output_type": "stream",
          "text": [
            "27\n"
          ]
        },
        {
          "name": "stderr",
          "output_type": "stream",
          "text": [
            "\n",
            "<ipython-input-96-13f486786c9d>:29: UserWarning: No artists with labels found to put in legend.  Note that artists whose label start with an underscore are ignored when legend() is called with no argument.\n",
            "  plt.legend()\n"
          ]
        },
        {
          "data": {
            "image/png": "[encoded data removed]",
            "text/plain": [
              "<Figure size 640x480 with 1 Axes>"
            ]
          },
          "metadata": {},
          "output_type": "display_data"
        }
      ],
      "source": [
        "from sklearn.model_selection import train_test_split\n",
        "from sklearn.metrics import mean_squared_error\n",
        "\n",
        "dim_tried = []\n",
        "mse_for_dim = []\n",
        "\n",
        "quantum_f = lambda X: np.array([f_draw_from_GP(X[i]) for i in range(X.shape[0])])\n",
        "\n",
        "\n",
        "for dim in trange(1,28,2, desc=\"Dimension of Kernel Used\"):\n",
        "\n",
        "  kernell = lambda X,Y: reduced_matrix_classic(X,Y,dim=dim)\n",
        "  gp = GaussianProcessRegressor(kernel=kernell, alpha=1e-5)\n",
        "\n",
        "  X = np.random.uniform([0]*3, [2 * np.pi]*3, size=(300, 3))\n",
        "  true_y = quantum_f(X)\n",
        "  y = true_y\n",
        "  X_train, X_test, y_train, y_test = train_test_split(X, y, test_size=0.33, random_state=seed)\n",
        "\n",
        "  gp.fit(X_train, y_train)\n",
        "  y_pred, std = gp.predict(X_test, return_std=True)\n",
        "\n",
        "  dim_tried.append(dim)\n",
        "  mse_for_dim.append(mean_squared_error(y_test, y_pred))\n",
        "\n",
        "\n",
        "plt.plot(dim_tried, mse_for_dim)\n",
        "plt.title(\"MSE for Different Kernel Used\")\n",
        "plt.xlabel(\"Dimension of Kernel Used\")\n",
        "plt.ylabel(\"MSE\")\n",
        "plt.grid(True)\n",
        "plt.legend()\n",
        "plt.show()"
      ]
    },
    {
      "cell_type": "code",
      "execution_count": null,
      "metadata": {
        "colab": {
          "base_uri": "https://localhost:8080/",
          "height": 167
        },
        "id": "9UVVisIhOqK_",
        "outputId": "85060843-1737-483a-8f15-395f9b76c48b"
      },
      "outputs": [
        {
          "ename": "NameError",
          "evalue": "name 'i1' is not defined",
          "output_type": "error",
          "traceback": [
            "\u001b[0;31m---------------------------------------------------------------------------\u001b[0m",
            "\u001b[0;31mNameError\u001b[0m                                 Traceback (most recent call last)",
            "\u001b[0;32m<ipython-input-5-63b6177fce60>\u001b[0m in \u001b[0;36m<cell line: 0>\u001b[0;34m()\u001b[0m\n\u001b[1;32m      1\u001b[0m \u001b[0mdiagK\u001b[0m \u001b[0;34m=\u001b[0m \u001b[0mnp\u001b[0m\u001b[0;34m.\u001b[0m\u001b[0marray\u001b[0m\u001b[0;34m(\u001b[0m\u001b[0;34m[\u001b[0m\u001b[0;36m1\u001b[0m\u001b[0;34m,\u001b[0m\u001b[0;36m2\u001b[0m\u001b[0;34m,\u001b[0m\u001b[0;36m34\u001b[0m\u001b[0;34m]\u001b[0m\u001b[0;34m)\u001b[0m\u001b[0;34m\u001b[0m\u001b[0;34m\u001b[0m\u001b[0m\n\u001b[0;32m----> 2\u001b[0;31m \u001b[0mmath\u001b[0m\u001b[0;34m.\u001b[0m\u001b[0msqrt\u001b[0m\u001b[0;34m(\u001b[0m\u001b[0mdiagK\u001b[0m\u001b[0;34m[\u001b[0m\u001b[0mi1\u001b[0m\u001b[0;34m]\u001b[0m\u001b[0;34m)\u001b[0m \u001b[0;32mif\u001b[0m \u001b[0mdiagK\u001b[0m\u001b[0;34m[\u001b[0m\u001b[0mi1\u001b[0m\u001b[0;34m]\u001b[0m \u001b[0;34m>\u001b[0m \u001b[0;36m1e-14\u001b[0m \u001b[0;32melse\u001b[0m \u001b[0;36m1e-14\u001b[0m\u001b[0;34m\u001b[0m\u001b[0;34m\u001b[0m\u001b[0m\n\u001b[0m",
            "\u001b[0;31mNameError\u001b[0m: name 'i1' is not defined"
          ]
        }
      ],
      "source": [
        "diagK = np.array([1,2,34])\n",
        "math.sqrt(diagK[i1]) if diagK[i1] > 1e-14 else 1e-14"
      ]
    }
  ],
  "metadata": {
    "colab": {
      "collapsed_sections": [
        "k_Ch3AEZr_HP",
        "DaJ_yDL1t81N",
        "X-LsUKmHbCwB"
      ],
      "provenance": []
    },
    "kernelspec": {
      "display_name": "Python 3",
      "name": "python3"
    },
    "language_info": {
      "name": "python"
    }
  },
  "nbformat": 4,
  "nbformat_minor": 0
}